{
  "cells": [
    {
      "cell_type": "code",
      "execution_count": null,
      "metadata": {
        "id": "Ow83Mv_RzISr"
      },
      "outputs": [],
      "source": [
        "#****************************************ETIHAD CARGO MESSAGE PARSER CHALLENGE*************************************************#"
      ]
    },
    {
      "cell_type": "code",
      "execution_count": null,
      "metadata": {
        "id": "U2WtCOFYzISt"
      },
      "outputs": [],
      "source": [
        "##############################################TEAM MEMBERS###########################################################################\n",
        "\n",
        "\n",
        "# 1.SHOYEB KHAN                -2021H1540806P\n",
        "# 2.SALMAN AHMED KHAN          -2021H1540830P\n",
        "# 3.MIRA PRIYADARSHINI K       -2021H1540817P"
      ]
    },
    {
      "cell_type": "code",
      "execution_count": null,
      "metadata": {
        "id": "wQJCe2tVzISu"
      },
      "outputs": [],
      "source": [
        "#######################################OBJECTIVE###############################################################################\n",
        "\n",
        "#To develop a Message Parser with the following features:\n",
        "#   a.To process Cargo EDI Messages in a specified format.\n",
        "#   b.To identify and log any errors encountered during the processing of the message.\n",
        "#The data is sourced from Etihad Cargo company\n",
        "\n",
        "#In simple terms,message parsing is basically splitting the input message into smaller components so that the meaning of the message can be understood."
      ]
    },
    {
      "cell_type": "code",
      "execution_count": null,
      "metadata": {
        "colab": {
          "base_uri": "https://localhost:8080/"
        },
        "id": "VZQCiwSlcdt6",
        "outputId": "cf957e6d-70b5-40d0-d39d-5230c2a4ff89"
      },
      "outputs": [
        {
          "output_type": "stream",
          "name": "stdout",
          "text": [
            "Mounted at /content/mnt\n"
          ]
        }
      ],
      "source": [
        "## Saving all the files in one location.\n",
        "import os, sys\n",
        "from google.colab import drive\n",
        "drive.mount('/content/mnt')\n",
        "nb_path = '/content/notebooks'\n",
        "os.symlink('/content/mnt/My Drive/Colab Notebooks', nb_path)\n",
        "sys.path.insert(0, nb_path)"
      ]
    },
    {
      "cell_type": "code",
      "execution_count": null,
      "metadata": {
        "id": "Kq-sC1eEclDp",
        "colab": {
          "base_uri": "https://localhost:8080/"
        },
        "outputId": "fa259456-976b-4633-acdc-be734fde2015"
      },
      "outputs": [
        {
          "output_type": "stream",
          "name": "stdout",
          "text": [
            "Looking in indexes: https://pypi.org/simple, https://us-python.pkg.dev/colab-wheels/public/simple/\n",
            "Collecting regex\n",
            "  Downloading regex-2022.10.31-cp38-cp38-manylinux_2_17_x86_64.manylinux2014_x86_64.whl (772 kB)\n",
            "\u001b[K     |████████████████████████████████| 772 kB 4.7 MB/s \n",
            "\u001b[?25hInstalling collected packages: regex\n",
            "Successfully installed regex-2022.10.31\n"
          ]
        }
      ],
      "source": [
        "#!pip install --target=$nb_path fasttext\n",
        "#!pip install --target=$nb_path pattern\n",
        "#!pip install --target=$nb_path scikit-learn\n",
        "#!pip install --target=$nb_path -U scikit-learn\n",
        "#!pip install --target=$nb_path -U regex\n",
        "#!pip install --target=$nb_path nltk\n",
        "#!pip install black --no-binary=regex\n",
        "#!pip install --user -U nltk"
      ]
    },
    {
      "cell_type": "code",
      "source": [
        "import regex"
      ],
      "metadata": {
        "id": "WnGK35-gxV6c"
      },
      "execution_count": null,
      "outputs": []
    },
    {
      "cell_type": "code",
      "execution_count": null,
      "metadata": {
        "id": "mWv65VHROnHe"
      },
      "outputs": [],
      "source": [
        "## We have to build a classification model based on the facebook's FastText library."
      ]
    },
    {
      "cell_type": "code",
      "execution_count": null,
      "metadata": {
        "id": "-utn5Lg6zISw"
      },
      "outputs": [],
      "source": [
        "###What is fastText?\n",
        "###FastText is an open-source, free, lightweight library that allows users to learn text representations and\n",
        "#text classifiers. It works on standard, generic hardware. Models can later be reduced in size to even fit on mobile devices."
      ]
    },
    {
      "cell_type": "code",
      "execution_count": null,
      "metadata": {
        "id": "J9ld5DbKb8wl"
      },
      "outputs": [],
      "source": [
        "import fasttext\n",
        "import pandas as pd\n",
        "import re\n",
        "\n",
        "from sklearn import feature_extraction, linear_model, model_selection, preprocessing"
      ]
    },
    {
      "cell_type": "code",
      "execution_count": null,
      "metadata": {
        "colab": {
          "base_uri": "https://localhost:8080/"
        },
        "id": "1Hke1li1zJbz",
        "outputId": "00dca207-1b0e-4061-b15b-94f7903951c4"
      },
      "outputs": [
        {
          "output_type": "stream",
          "name": "stdout",
          "text": [
            "/usr/local/lib/python3.8/dist-packages/gdown/cli.py:127: FutureWarning: Option `--id` was deprecated in version 4.3.1 and will be removed in 5.0. You don't need to pass it anymore to use a file ID.\n",
            "  warnings.warn(\n",
            "Downloading...\n",
            "From: https://drive.google.com/uc?id=1bU_LWVC1wRm_eMUXhQpJfQGIFbjX8UuA\n",
            "To: /content/CPM1.txt\n",
            "100% 16.8k/16.8k [00:00<00:00, 19.3MB/s]\n",
            "/usr/local/lib/python3.8/dist-packages/gdown/cli.py:127: FutureWarning: Option `--id` was deprecated in version 4.3.1 and will be removed in 5.0. You don't need to pass it anymore to use a file ID.\n",
            "  warnings.warn(\n",
            "Downloading...\n",
            "From: https://drive.google.com/uc?id=1nu9VHN1hc6hPgsFVsWwgTJ44vWu2hNKr\n",
            "To: /content/CPM1_f.txt\n",
            "100% 1.43k/1.43k [00:00<00:00, 976kB/s]\n",
            "/usr/local/lib/python3.8/dist-packages/gdown/cli.py:127: FutureWarning: Option `--id` was deprecated in version 4.3.1 and will be removed in 5.0. You don't need to pass it anymore to use a file ID.\n",
            "  warnings.warn(\n",
            "Downloading...\n",
            "From: https://drive.google.com/uc?id=134g1coD06ILJaBsP7iHZm27hlWlkWs-Z\n",
            "To: /content/CPM1_incorrect.txt\n",
            "100% 1.44k/1.44k [00:00<00:00, 2.05MB/s]\n"
          ]
        }
      ],
      "source": [
        "## Bring the text data into the colab space.\n",
        "! gdown --id 1bU_LWVC1wRm_eMUXhQpJfQGIFbjX8UuA\n",
        "! gdown --id 1nu9VHN1hc6hPgsFVsWwgTJ44vWu2hNKr\n",
        "! gdown --id 134g1coD06ILJaBsP7iHZm27hlWlkWs-Z"
      ]
    },
    {
      "cell_type": "code",
      "source": [
        "cpm_correct_format = pd.read_csv('/content/CPM1_f.txt',error_bad_lines=False,header=None)\n",
        "cpm_incorrect_format = pd.read_csv('/content/CPM1_incorrect.txt',error_bad_lines=False,header=None)"
      ],
      "metadata": {
        "colab": {
          "base_uri": "https://localhost:8080/"
        },
        "id": "JySzzoExqjnK",
        "outputId": "51e8c1e0-42fd-485f-c87d-accf4e2ad2cf"
      },
      "execution_count": null,
      "outputs": [
        {
          "output_type": "stream",
          "name": "stderr",
          "text": [
            "/usr/local/lib/python3.8/dist-packages/IPython/core/interactiveshell.py:3326: FutureWarning: The error_bad_lines argument has been deprecated and will be removed in a future version.\n",
            "\n",
            "\n",
            "  exec(code_obj, self.user_global_ns, self.user_ns)\n"
          ]
        }
      ]
    },
    {
      "cell_type": "code",
      "source": [
        "cpm_correct_format.to_csv('cpm_correct_format.txt',index = False,sep =' ',header = None, quoting =None,quotechar = \" \",escapechar = \" \")\n",
        "cpm_incorrect_format.to_csv('cpm_incorrect_format.txt',index = False,sep =' ',header = None, quoting =None,quotechar = \" \",escapechar = \" \")"
      ],
      "metadata": {
        "id": "8GcihTuvq1Zp"
      },
      "execution_count": null,
      "outputs": []
    },
    {
      "cell_type": "code",
      "source": [
        "cpm_correct_format_txt = pd.read_csv('cpm_correct_format.txt',header = None)\n",
        "cpm_incorrect_format_txt = pd.read_csv('cpm_incorrect_format.txt',header = None)"
      ],
      "metadata": {
        "id": "uhc3hPAyq7TB"
      },
      "execution_count": null,
      "outputs": []
    },
    {
      "cell_type": "code",
      "source": [
        "cpm_correct_format_txt.info()"
      ],
      "metadata": {
        "colab": {
          "base_uri": "https://localhost:8080/"
        },
        "id": "wcFdKamarMFU",
        "outputId": "13735719-355e-4898-d818-52e64b302e1f"
      },
      "execution_count": null,
      "outputs": [
        {
          "output_type": "stream",
          "name": "stdout",
          "text": [
            "<class 'pandas.core.frame.DataFrame'>\n",
            "RangeIndex: 45 entries, 0 to 44\n",
            "Data columns (total 1 columns):\n",
            " #   Column  Non-Null Count  Dtype \n",
            "---  ------  --------------  ----- \n",
            " 0   0       45 non-null     object\n",
            "dtypes: object(1)\n",
            "memory usage: 488.0+ bytes\n"
          ]
        }
      ]
    },
    {
      "cell_type": "code",
      "source": [
        "cpm_incorrect_format_txt.info()"
      ],
      "metadata": {
        "colab": {
          "base_uri": "https://localhost:8080/"
        },
        "id": "IPIXI0SJrO3w",
        "outputId": "8cc29235-18b9-4abe-8614-7ffc023be6e2"
      },
      "execution_count": null,
      "outputs": [
        {
          "output_type": "stream",
          "name": "stdout",
          "text": [
            "<class 'pandas.core.frame.DataFrame'>\n",
            "RangeIndex: 52 entries, 0 to 51\n",
            "Data columns (total 1 columns):\n",
            " #   Column  Non-Null Count  Dtype \n",
            "---  ------  --------------  ----- \n",
            " 0   0       52 non-null     object\n",
            "dtypes: object(1)\n",
            "memory usage: 544.0+ bytes\n"
          ]
        }
      ]
    },
    {
      "cell_type": "code",
      "execution_count": null,
      "metadata": {
        "colab": {
          "base_uri": "https://localhost:8080/"
        },
        "id": "CTX73Nqu8FmB",
        "outputId": "6ba795f4-ac03-4131-a1a0-25e955fea931"
      },
      "outputs": [
        {
          "output_type": "stream",
          "name": "stderr",
          "text": [
            "b'Skipping line 94: expected 1 fields, saw 2\\nSkipping line 223: expected 1 fields, saw 8\\n'\n"
          ]
        }
      ],
      "source": [
        "#Split into train and test data set.60 percent of data is training data and 40 percent is testing data.\n",
        "txt_file = pd.read_csv('/content/CPM1.txt',error_bad_lines=False,header=None)\n",
        "train_file = txt_file[txt_file.index <= 0.6*max(txt_file.index)]\n",
        "test_file = txt_file[txt_file.index > 0.6*max(txt_file.index)]"
      ]
    },
    {
      "cell_type": "code",
      "execution_count": null,
      "metadata": {
        "id": "TSgU9AeO-MwF"
      },
      "outputs": [],
      "source": [
        "train_file.to_csv('train.txt',index = False,sep =' ',header = None, quoting =None,quotechar = \" \",escapechar = \" \")\n",
        "test_file.to_csv('test.txt',index = False,sep =' ',header = None, quoting =None,quotechar = \" \",escapechar = \" \")"
      ]
    },
    {
      "cell_type": "code",
      "execution_count": null,
      "metadata": {
        "id": "v8TLs-fOBlSw"
      },
      "outputs": [],
      "source": [
        "train_txt = pd.read_csv('train.txt',header = None)\n",
        "test_txt = pd.read_csv('test.txt',header = None)"
      ]
    },
    {
      "cell_type": "code",
      "execution_count": null,
      "metadata": {
        "colab": {
          "base_uri": "https://localhost:8080/"
        },
        "id": "5AjUnzHRFYYR",
        "outputId": "0a4c12be-731d-44f1-8aa3-484319a1c94c"
      },
      "outputs": [
        {
          "output_type": "stream",
          "name": "stdout",
          "text": [
            "<class 'pandas.core.frame.DataFrame'>\n",
            "RangeIndex: 216 entries, 0 to 215\n",
            "Data columns (total 1 columns):\n",
            " #   Column  Non-Null Count  Dtype \n",
            "---  ------  --------------  ----- \n",
            " 0   0       216 non-null    object\n",
            "dtypes: object(1)\n",
            "memory usage: 1.8+ KB\n"
          ]
        }
      ],
      "source": [
        "train_txt.info()"
      ]
    },
    {
      "cell_type": "code",
      "execution_count": null,
      "metadata": {
        "id": "tuV0MrStzISz"
      },
      "outputs": [],
      "source": [
        "##The training data has 216 entries of messages\n",
        "##The training data is grouped into message and label"
      ]
    },
    {
      "cell_type": "code",
      "execution_count": null,
      "metadata": {
        "id": "VwRmlGnMHsNY"
      },
      "outputs": [],
      "source": [
        "label_ = []\n",
        "message = []\n",
        "\n",
        "for i in range(0,len(train_txt)):\n",
        "  mssg = str(train_txt[train_txt.index==i])\n",
        "  mssg_ = re.split(r\"\\s+\", mssg,maxsplit=4)\n",
        "  label_.append(mssg_[3])\n",
        "  message.append(mssg_[4])"
      ]
    },
    {
      "cell_type": "code",
      "execution_count": null,
      "metadata": {
        "id": "A8oaUQTwzISz"
      },
      "outputs": [],
      "source": [
        "##A dataframe for training data is created"
      ]
    },
    {
      "cell_type": "code",
      "execution_count": null,
      "metadata": {
        "id": "bcHJF7-iILWs"
      },
      "outputs": [],
      "source": [
        "train_df = pd.DataFrame({'Message':message,'Label':label_})"
      ]
    },
    {
      "cell_type": "code",
      "execution_count": null,
      "metadata": {
        "id": "IVyrBOLLzIS0"
      },
      "outputs": [],
      "source": [
        "###The value counts of the label is measured.\n",
        "###It is identified that 177 messages are without any errors(syntax/data errors).\n",
        "###It is identified that 39 messages are having errors(syntax/data errors).\n"
      ]
    },
    {
      "cell_type": "code",
      "execution_count": null,
      "metadata": {
        "colab": {
          "base_uri": "https://localhost:8080/"
        },
        "id": "Zdv3gXuMIbx6",
        "outputId": "dc6c6ae8-3f0a-4f63-a0b0-a9d4e0250433"
      },
      "outputs": [
        {
          "output_type": "execute_result",
          "data": {
            "text/plain": [
              "__label__no_error    177\n",
              "__label__error        39\n",
              "Name: Label, dtype: int64"
            ]
          },
          "metadata": {},
          "execution_count": 16
        }
      ],
      "source": [
        "train_df['Label'].value_counts()"
      ]
    },
    {
      "cell_type": "code",
      "execution_count": null,
      "metadata": {
        "id": "n1rs_BbkzIS0"
      },
      "outputs": [],
      "source": [
        "##The testing data has 144 entries of messages\n",
        "##The testing data is grouped into message and label"
      ]
    },
    {
      "cell_type": "code",
      "execution_count": null,
      "metadata": {
        "id": "u4OeDSoVIzVl"
      },
      "outputs": [],
      "source": [
        "label_ = []\n",
        "message = []\n",
        "\n",
        "for i in range(0,len(test_txt)):\n",
        "  mssg = str(test_txt[test_txt.index==i])\n",
        "  mssg_ = re.split(r\"\\s+\", mssg,maxsplit=4)\n",
        "  label_.append(mssg_[3])\n",
        "  message.append(mssg_[4])"
      ]
    },
    {
      "cell_type": "code",
      "execution_count": null,
      "metadata": {
        "id": "w-K7hshrzIS1"
      },
      "outputs": [],
      "source": [
        "##A dataframe for testing data is created"
      ]
    },
    {
      "cell_type": "code",
      "execution_count": null,
      "metadata": {
        "id": "0P4eg5T0I8o1"
      },
      "outputs": [],
      "source": [
        "test_df = pd.DataFrame({'Message':message,'Label':label_})"
      ]
    },
    {
      "cell_type": "code",
      "execution_count": null,
      "metadata": {
        "id": "yQ06eC9lzIS1"
      },
      "outputs": [],
      "source": [
        "###The value counts of the label is measured.\n",
        "###It is identified that 137 messages are without any errors(syntax/data errors).\n",
        "###It is identified that 7 messages are having errors(syntax/data errors).\n"
      ]
    },
    {
      "cell_type": "code",
      "execution_count": null,
      "metadata": {
        "colab": {
          "base_uri": "https://localhost:8080/"
        },
        "id": "ETePIVBUJGBB",
        "outputId": "f6e3e4de-7c23-432d-d376-f4e46e93cf35"
      },
      "outputs": [
        {
          "output_type": "execute_result",
          "data": {
            "text/plain": [
              "__label__no_error    137\n",
              "__label__error         7\n",
              "Name: Label, dtype: int64"
            ]
          },
          "metadata": {},
          "execution_count": 19
        }
      ],
      "source": [
        "test_df['Label'].value_counts()"
      ]
    },
    {
      "cell_type": "code",
      "execution_count": null,
      "metadata": {
        "id": "iETdz2BhIrKK"
      },
      "outputs": [],
      "source": [
        "############################################################# Model 1 Based on Fast Text##################################################################################"
      ]
    },
    {
      "cell_type": "code",
      "execution_count": null,
      "metadata": {
        "id": "2_3-KtoOzIS3"
      },
      "outputs": [],
      "source": [
        "#The Message Parser is trained using the train_supervised function of fasttext library.The training is done using the training text data."
      ]
    },
    {
      "cell_type": "code",
      "execution_count": null,
      "metadata": {
        "id": "-MEHuoiW9Uoe"
      },
      "outputs": [],
      "source": [
        "model = fasttext.train_supervised(input='train.txt')"
      ]
    },
    {
      "cell_type": "code",
      "execution_count": null,
      "metadata": {
        "colab": {
          "base_uri": "https://localhost:8080/"
        },
        "id": "at5c3PS49dI-",
        "outputId": "2c5c7708-88db-425d-a4a4-7618d7d3b63b"
      },
      "outputs": [
        {
          "output_type": "execute_result",
          "data": {
            "text/plain": [
              "(144, 0.9513888888888888, 0.9513888888888888)"
            ]
          },
          "metadata": {},
          "execution_count": 21
        }
      ],
      "source": [
        "model.test('test.txt')"
      ]
    },
    {
      "cell_type": "code",
      "execution_count": null,
      "metadata": {
        "id": "4Lu0czj6zIS4"
      },
      "outputs": [],
      "source": [
        "#Upon testing the message parser using the test data,it is observed that the accuracy of the model is 95%."
      ]
    },
    {
      "cell_type": "code",
      "execution_count": null,
      "metadata": {
        "id": "8jFp2Xwc_oT0"
      },
      "outputs": [],
      "source": [
        "## Add more epochs and larger learning rate. This is just to see if the accuracy is improved or not.\n",
        "## Epoch:A hyperparameter that defines the number times that the learning algorithm will work through the entire training dataset. One epoch means that each sample in the training dataset has had an opportunity to update the internal model parameters.\n",
        "## Learning rate: It is a tuning parameter in an optimization algorithm that determines the step size at each iteration while moving toward a minimum of a loss function.\n",
        "## wordNgrams : max length of word ngram"
      ]
    },
    {
      "cell_type": "code",
      "execution_count": null,
      "metadata": {
        "id": "q-4tIiur_2xP"
      },
      "outputs": [],
      "source": [
        "model_1 = fasttext.train_supervised(input=\"train.txt\", epoch=25,lr=0.95,wordNgrams=3)"
      ]
    },
    {
      "cell_type": "code",
      "execution_count": null,
      "metadata": {
        "colab": {
          "base_uri": "https://localhost:8080/"
        },
        "id": "k2STh6TKABfg",
        "outputId": "ea2e8c34-71b2-4b0d-fb5d-4df2f2184922"
      },
      "outputs": [
        {
          "output_type": "execute_result",
          "data": {
            "text/plain": [
              "(144, 0.9513888888888888, 0.9513888888888888)"
            ]
          },
          "metadata": {},
          "execution_count": 23
        }
      ],
      "source": [
        "model_1.test(\"test.txt\")"
      ]
    },
    {
      "cell_type": "code",
      "source": [
        "model.get_labels()"
      ],
      "metadata": {
        "id": "itpfqmu0Wuyv"
      },
      "execution_count": null,
      "outputs": []
    },
    {
      "cell_type": "code",
      "execution_count": null,
      "metadata": {
        "id": "nbBHzJDKzIS5"
      },
      "outputs": [],
      "source": [
        "##After adding more epochs and larger learning rate ,the accuracy of the model is still 95%"
      ]
    },
    {
      "cell_type": "code",
      "execution_count": null,
      "metadata": {
        "id": "Ryq1ZQ-9J_Qi"
      },
      "outputs": [],
      "source": [
        "######################################################################Model 2 Using ML Algo###############################################################################"
      ]
    },
    {
      "cell_type": "code",
      "execution_count": null,
      "metadata": {
        "id": "xn2nl6M8zIS5"
      },
      "outputs": [],
      "source": [
        "##CountVectorizer is a great tool provided by the scikit-learn library in Python. It is used to transform a given text into a vector on the basis of the frequency (count) of each word that occurs in the entire text."
      ]
    },
    {
      "cell_type": "code",
      "execution_count": null,
      "metadata": {
        "id": "LMkXORz4J0uG"
      },
      "outputs": [],
      "source": [
        "count_vectorizer = feature_extraction.text.CountVectorizer()"
      ]
    },
    {
      "cell_type": "code",
      "execution_count": null,
      "metadata": {
        "id": "45HCrj-NzIS6"
      },
      "outputs": [],
      "source": [
        "##The training and testing messages are transformed into vectors using the count_vectorizer method"
      ]
    },
    {
      "cell_type": "code",
      "execution_count": null,
      "metadata": {
        "id": "gYLGUAsqKDbP"
      },
      "outputs": [],
      "source": [
        "train_vectors = count_vectorizer.fit_transform(train_df[\"Message\"])\n",
        "test_vectors = count_vectorizer.fit_transform(test_df[\"Message\"])"
      ]
    },
    {
      "cell_type": "code",
      "execution_count": null,
      "metadata": {
        "id": "DH21jXP2zIS7"
      },
      "outputs": [],
      "source": [
        "##The training and testing data are given label numbers using lambda function.\n",
        "##If the label is \"__label__no_error\",then label number will be 0.\n",
        "##If the label is \"__label__error\",then label number will be 1.\n"
      ]
    },
    {
      "cell_type": "code",
      "execution_count": null,
      "metadata": {
        "id": "dkd6sZrWLSt2"
      },
      "outputs": [],
      "source": [
        "train_df['Label_num'] = train_df['Label'].apply(\n",
        "    lambda x: 1 if x == '__label__error' else (0 if x == '__label__no_error' else None))"
      ]
    },
    {
      "cell_type": "code",
      "execution_count": null,
      "metadata": {
        "id": "vvECPzUALz8P"
      },
      "outputs": [],
      "source": [
        "test_df['Label_num'] = test_df['Label'].apply(\n",
        "    lambda x: 1 if x == '__label__error' else (0 if x == '__label__no_error' else None))"
      ]
    },
    {
      "cell_type": "code",
      "execution_count": null,
      "metadata": {
        "id": "4AvctXQqzIS7"
      },
      "outputs": [],
      "source": [
        "##Ridge classification is a technique used to analyze linear discriminant models. It is a form of regularization that penalizes model coefficients to prevent overfitting\n",
        "##Overfitting is a common issue in machine learning that occurs when a model is too complex and captures noise in the data instead of the underlying signal.\n",
        "##Ridge classification works by adding a penalty term to the cost function that discourages complexity. The penalty term is typically the sum of the squared coefficients of the features in the model. This forces the coefficients to remain small, which prevents overfitting."
      ]
    },
    {
      "cell_type": "code",
      "execution_count": null,
      "metadata": {
        "id": "xxkHzdKWzIS7"
      },
      "outputs": [],
      "source": [
        "##cross_val_score():It is a method which runs cross validation on a dataset to test whether the model can generalise over the whole dataset. The function returns a list of one score per split, and the average of these scores can be calculated to provide a single metric value for the dataset.\n",
        "##This is a function and a technique which you should add to your workflow to make sure you are developing highly performant models.\n",
        "##The parameters passed in this method are estimator:clf,the data to fit the model on,the target of the model,number of splits to use:3,scoring metric:f1 score"
      ]
    },
    {
      "cell_type": "code",
      "execution_count": null,
      "metadata": {
        "colab": {
          "base_uri": "https://localhost:8080/"
        },
        "id": "jUnSxguCK2oI",
        "outputId": "0b32c5ad-355b-4a05-8573-3a91bf6d8286"
      },
      "outputs": [
        {
          "data": {
            "text/plain": [
              "array([0.66666667, 0.66666667, 0.14285714])"
            ]
          },
          "execution_count": 24,
          "metadata": {},
          "output_type": "execute_result"
        }
      ],
      "source": [
        "clf = linear_model.RidgeClassifier()\n",
        "scores = model_selection.cross_val_score(clf, train_vectors, train_df[\"Label_num\"], cv=3, scoring=\"f1\")\n",
        "scores"
      ]
    },
    {
      "cell_type": "code",
      "execution_count": null,
      "metadata": {
        "id": "0cpQg_sBzIS8"
      },
      "outputs": [],
      "source": [
        "##The f1-scores of the 3 splits are 66.7%,66.7% and 14.3% respectively."
      ]
    },
    {
      "cell_type": "code",
      "execution_count": null,
      "metadata": {
        "id": "gxPbJOAVPLXE"
      },
      "outputs": [],
      "source": [
        "#################################################### Model 3 Using Bigram & Trigram #####################################################################################"
      ]
    },
    {
      "cell_type": "code",
      "execution_count": null,
      "metadata": {
        "colab": {
          "base_uri": "https://localhost:8080/",
          "height": 206
        },
        "id": "a4iMlqbdfETF",
        "outputId": "30be2522-d255-47ad-9b51-c79384c536a2"
      },
      "outputs": [
        {
          "data": {
            "text/html": [
              "\n",
              "  <div id=\"df-a60cb84b-49c4-4099-918a-43fd23f8a0d9\">\n",
              "    <div class=\"colab-df-container\">\n",
              "      <div>\n",
              "<style scoped>\n",
              "    .dataframe tbody tr th:only-of-type {\n",
              "        vertical-align: middle;\n",
              "    }\n",
              "\n",
              "    .dataframe tbody tr th {\n",
              "        vertical-align: top;\n",
              "    }\n",
              "\n",
              "    .dataframe thead th {\n",
              "        text-align: right;\n",
              "    }\n",
              "</style>\n",
              "<table border=\"1\" class=\"dataframe\">\n",
              "  <thead>\n",
              "    <tr style=\"text-align: right;\">\n",
              "      <th></th>\n",
              "      <th>Message</th>\n",
              "      <th>Label</th>\n",
              "      <th>Label_num</th>\n",
              "    </tr>\n",
              "  </thead>\n",
              "  <tbody>\n",
              "    <tr>\n",
              "      <th>0</th>\n",
              "      <td>CPM</td>\n",
              "      <td>__label__no_error</td>\n",
              "      <td>0</td>\n",
              "    </tr>\n",
              "    <tr>\n",
              "      <th>1</th>\n",
              "      <td>EY972/11.A6DDD.HAN</td>\n",
              "      <td>__label__no_error</td>\n",
              "      <td>0</td>\n",
              "    </tr>\n",
              "    <tr>\n",
              "      <th>2</th>\n",
              "      <td>-PL/PMC71439EY/AUH/2223/C....</td>\n",
              "      <td>__label__no_error</td>\n",
              "      <td>0</td>\n",
              "    </tr>\n",
              "    <tr>\n",
              "      <th>3</th>\n",
              "      <td>-PR/PMC74892EY/AUH/2370/C....</td>\n",
              "      <td>__label__no_error</td>\n",
              "      <td>0</td>\n",
              "    </tr>\n",
              "    <tr>\n",
              "      <th>4</th>\n",
              "      <td>-R/PMC72439EY/AUH/985/C.EL...</td>\n",
              "      <td>__label__no_error</td>\n",
              "      <td>0</td>\n",
              "    </tr>\n",
              "  </tbody>\n",
              "</table>\n",
              "</div>\n",
              "      <button class=\"colab-df-convert\" onclick=\"convertToInteractive('df-a60cb84b-49c4-4099-918a-43fd23f8a0d9')\"\n",
              "              title=\"Convert this dataframe to an interactive table.\"\n",
              "              style=\"display:none;\">\n",
              "        \n",
              "  <svg xmlns=\"http://www.w3.org/2000/svg\" height=\"24px\"viewBox=\"0 0 24 24\"\n",
              "       width=\"24px\">\n",
              "    <path d=\"M0 0h24v24H0V0z\" fill=\"none\"/>\n",
              "    <path d=\"M18.56 5.44l.94 2.06.94-2.06 2.06-.94-2.06-.94-.94-2.06-.94 2.06-2.06.94zm-11 1L8.5 8.5l.94-2.06 2.06-.94-2.06-.94L8.5 2.5l-.94 2.06-2.06.94zm10 10l.94 2.06.94-2.06 2.06-.94-2.06-.94-.94-2.06-.94 2.06-2.06.94z\"/><path d=\"M17.41 7.96l-1.37-1.37c-.4-.4-.92-.59-1.43-.59-.52 0-1.04.2-1.43.59L10.3 9.45l-7.72 7.72c-.78.78-.78 2.05 0 2.83L4 21.41c.39.39.9.59 1.41.59.51 0 1.02-.2 1.41-.59l7.78-7.78 2.81-2.81c.8-.78.8-2.07 0-2.86zM5.41 20L4 18.59l7.72-7.72 1.47 1.35L5.41 20z\"/>\n",
              "  </svg>\n",
              "      </button>\n",
              "      \n",
              "  <style>\n",
              "    .colab-df-container {\n",
              "      display:flex;\n",
              "      flex-wrap:wrap;\n",
              "      gap: 12px;\n",
              "    }\n",
              "\n",
              "    .colab-df-convert {\n",
              "      background-color: #E8F0FE;\n",
              "      border: none;\n",
              "      border-radius: 50%;\n",
              "      cursor: pointer;\n",
              "      display: none;\n",
              "      fill: #1967D2;\n",
              "      height: 32px;\n",
              "      padding: 0 0 0 0;\n",
              "      width: 32px;\n",
              "    }\n",
              "\n",
              "    .colab-df-convert:hover {\n",
              "      background-color: #E2EBFA;\n",
              "      box-shadow: 0px 1px 2px rgba(60, 64, 67, 0.3), 0px 1px 3px 1px rgba(60, 64, 67, 0.15);\n",
              "      fill: #174EA6;\n",
              "    }\n",
              "\n",
              "    [theme=dark] .colab-df-convert {\n",
              "      background-color: #3B4455;\n",
              "      fill: #D2E3FC;\n",
              "    }\n",
              "\n",
              "    [theme=dark] .colab-df-convert:hover {\n",
              "      background-color: #434B5C;\n",
              "      box-shadow: 0px 1px 3px 1px rgba(0, 0, 0, 0.15);\n",
              "      filter: drop-shadow(0px 1px 2px rgba(0, 0, 0, 0.3));\n",
              "      fill: #FFFFFF;\n",
              "    }\n",
              "  </style>\n",
              "\n",
              "      <script>\n",
              "        const buttonEl =\n",
              "          document.querySelector('#df-a60cb84b-49c4-4099-918a-43fd23f8a0d9 button.colab-df-convert');\n",
              "        buttonEl.style.display =\n",
              "          google.colab.kernel.accessAllowed ? 'block' : 'none';\n",
              "\n",
              "        async function convertToInteractive(key) {\n",
              "          const element = document.querySelector('#df-a60cb84b-49c4-4099-918a-43fd23f8a0d9');\n",
              "          const dataTable =\n",
              "            await google.colab.kernel.invokeFunction('convertToInteractive',\n",
              "                                                     [key], {});\n",
              "          if (!dataTable) return;\n",
              "\n",
              "          const docLinkHtml = 'Like what you see? Visit the ' +\n",
              "            '<a target=\"_blank\" href=https://colab.research.google.com/notebooks/data_table.ipynb>data table notebook</a>'\n",
              "            + ' to learn more about interactive tables.';\n",
              "          element.innerHTML = '';\n",
              "          dataTable['output_type'] = 'display_data';\n",
              "          await google.colab.output.renderOutput(dataTable, element);\n",
              "          const docLink = document.createElement('div');\n",
              "          docLink.innerHTML = docLinkHtml;\n",
              "          element.appendChild(docLink);\n",
              "        }\n",
              "      </script>\n",
              "    </div>\n",
              "  </div>\n",
              "  "
            ],
            "text/plain": [
              "                         Message              Label  Label_num\n",
              "0                           CPM   __label__no_error          0\n",
              "1            EY972/11.A6DDD.HAN   __label__no_error          0\n",
              "2  -PL/PMC71439EY/AUH/2223/C....  __label__no_error          0\n",
              "3  -PR/PMC74892EY/AUH/2370/C....  __label__no_error          0\n",
              "4  -R/PMC72439EY/AUH/985/C.EL...  __label__no_error          0"
            ]
          },
          "execution_count": 25,
          "metadata": {},
          "output_type": "execute_result"
        }
      ],
      "source": [
        "train_df.head()"
      ]
    },
    {
      "cell_type": "code",
      "execution_count": null,
      "metadata": {
        "id": "aE-Gq52b2jL8"
      },
      "outputs": [],
      "source": [
        "train_no_error = train_df[train_df['Label']=='__label__no_error']"
      ]
    },
    {
      "cell_type": "code",
      "execution_count": null,
      "metadata": {
        "colab": {
          "base_uri": "https://localhost:8080/",
          "height": 206
        },
        "id": "tf4U6DiG2-wB",
        "outputId": "cf7fdfc6-ca48-40e1-fcd8-7b98aba54726"
      },
      "outputs": [
        {
          "data": {
            "text/html": [
              "\n",
              "  <div id=\"df-e9f52c62-e388-49fc-96c1-3f0f540b3088\">\n",
              "    <div class=\"colab-df-container\">\n",
              "      <div>\n",
              "<style scoped>\n",
              "    .dataframe tbody tr th:only-of-type {\n",
              "        vertical-align: middle;\n",
              "    }\n",
              "\n",
              "    .dataframe tbody tr th {\n",
              "        vertical-align: top;\n",
              "    }\n",
              "\n",
              "    .dataframe thead th {\n",
              "        text-align: right;\n",
              "    }\n",
              "</style>\n",
              "<table border=\"1\" class=\"dataframe\">\n",
              "  <thead>\n",
              "    <tr style=\"text-align: right;\">\n",
              "      <th></th>\n",
              "      <th>Message</th>\n",
              "      <th>Label</th>\n",
              "      <th>Label_num</th>\n",
              "    </tr>\n",
              "  </thead>\n",
              "  <tbody>\n",
              "    <tr>\n",
              "      <th>0</th>\n",
              "      <td>CPM</td>\n",
              "      <td>__label__no_error</td>\n",
              "      <td>0</td>\n",
              "    </tr>\n",
              "    <tr>\n",
              "      <th>1</th>\n",
              "      <td>EY972/11.A6DDD.HAN</td>\n",
              "      <td>__label__no_error</td>\n",
              "      <td>0</td>\n",
              "    </tr>\n",
              "    <tr>\n",
              "      <th>2</th>\n",
              "      <td>-PL/PMC71439EY/AUH/2223/C....</td>\n",
              "      <td>__label__no_error</td>\n",
              "      <td>0</td>\n",
              "    </tr>\n",
              "    <tr>\n",
              "      <th>3</th>\n",
              "      <td>-PR/PMC74892EY/AUH/2370/C....</td>\n",
              "      <td>__label__no_error</td>\n",
              "      <td>0</td>\n",
              "    </tr>\n",
              "    <tr>\n",
              "      <th>4</th>\n",
              "      <td>-R/PMC72439EY/AUH/985/C.EL...</td>\n",
              "      <td>__label__no_error</td>\n",
              "      <td>0</td>\n",
              "    </tr>\n",
              "  </tbody>\n",
              "</table>\n",
              "</div>\n",
              "      <button class=\"colab-df-convert\" onclick=\"convertToInteractive('df-e9f52c62-e388-49fc-96c1-3f0f540b3088')\"\n",
              "              title=\"Convert this dataframe to an interactive table.\"\n",
              "              style=\"display:none;\">\n",
              "        \n",
              "  <svg xmlns=\"http://www.w3.org/2000/svg\" height=\"24px\"viewBox=\"0 0 24 24\"\n",
              "       width=\"24px\">\n",
              "    <path d=\"M0 0h24v24H0V0z\" fill=\"none\"/>\n",
              "    <path d=\"M18.56 5.44l.94 2.06.94-2.06 2.06-.94-2.06-.94-.94-2.06-.94 2.06-2.06.94zm-11 1L8.5 8.5l.94-2.06 2.06-.94-2.06-.94L8.5 2.5l-.94 2.06-2.06.94zm10 10l.94 2.06.94-2.06 2.06-.94-2.06-.94-.94-2.06-.94 2.06-2.06.94z\"/><path d=\"M17.41 7.96l-1.37-1.37c-.4-.4-.92-.59-1.43-.59-.52 0-1.04.2-1.43.59L10.3 9.45l-7.72 7.72c-.78.78-.78 2.05 0 2.83L4 21.41c.39.39.9.59 1.41.59.51 0 1.02-.2 1.41-.59l7.78-7.78 2.81-2.81c.8-.78.8-2.07 0-2.86zM5.41 20L4 18.59l7.72-7.72 1.47 1.35L5.41 20z\"/>\n",
              "  </svg>\n",
              "      </button>\n",
              "      \n",
              "  <style>\n",
              "    .colab-df-container {\n",
              "      display:flex;\n",
              "      flex-wrap:wrap;\n",
              "      gap: 12px;\n",
              "    }\n",
              "\n",
              "    .colab-df-convert {\n",
              "      background-color: #E8F0FE;\n",
              "      border: none;\n",
              "      border-radius: 50%;\n",
              "      cursor: pointer;\n",
              "      display: none;\n",
              "      fill: #1967D2;\n",
              "      height: 32px;\n",
              "      padding: 0 0 0 0;\n",
              "      width: 32px;\n",
              "    }\n",
              "\n",
              "    .colab-df-convert:hover {\n",
              "      background-color: #E2EBFA;\n",
              "      box-shadow: 0px 1px 2px rgba(60, 64, 67, 0.3), 0px 1px 3px 1px rgba(60, 64, 67, 0.15);\n",
              "      fill: #174EA6;\n",
              "    }\n",
              "\n",
              "    [theme=dark] .colab-df-convert {\n",
              "      background-color: #3B4455;\n",
              "      fill: #D2E3FC;\n",
              "    }\n",
              "\n",
              "    [theme=dark] .colab-df-convert:hover {\n",
              "      background-color: #434B5C;\n",
              "      box-shadow: 0px 1px 3px 1px rgba(0, 0, 0, 0.15);\n",
              "      filter: drop-shadow(0px 1px 2px rgba(0, 0, 0, 0.3));\n",
              "      fill: #FFFFFF;\n",
              "    }\n",
              "  </style>\n",
              "\n",
              "      <script>\n",
              "        const buttonEl =\n",
              "          document.querySelector('#df-e9f52c62-e388-49fc-96c1-3f0f540b3088 button.colab-df-convert');\n",
              "        buttonEl.style.display =\n",
              "          google.colab.kernel.accessAllowed ? 'block' : 'none';\n",
              "\n",
              "        async function convertToInteractive(key) {\n",
              "          const element = document.querySelector('#df-e9f52c62-e388-49fc-96c1-3f0f540b3088');\n",
              "          const dataTable =\n",
              "            await google.colab.kernel.invokeFunction('convertToInteractive',\n",
              "                                                     [key], {});\n",
              "          if (!dataTable) return;\n",
              "\n",
              "          const docLinkHtml = 'Like what you see? Visit the ' +\n",
              "            '<a target=\"_blank\" href=https://colab.research.google.com/notebooks/data_table.ipynb>data table notebook</a>'\n",
              "            + ' to learn more about interactive tables.';\n",
              "          element.innerHTML = '';\n",
              "          dataTable['output_type'] = 'display_data';\n",
              "          await google.colab.output.renderOutput(dataTable, element);\n",
              "          const docLink = document.createElement('div');\n",
              "          docLink.innerHTML = docLinkHtml;\n",
              "          element.appendChild(docLink);\n",
              "        }\n",
              "      </script>\n",
              "    </div>\n",
              "  </div>\n",
              "  "
            ],
            "text/plain": [
              "                         Message              Label  Label_num\n",
              "0                           CPM   __label__no_error          0\n",
              "1            EY972/11.A6DDD.HAN   __label__no_error          0\n",
              "2  -PL/PMC71439EY/AUH/2223/C....  __label__no_error          0\n",
              "3  -PR/PMC74892EY/AUH/2370/C....  __label__no_error          0\n",
              "4  -R/PMC72439EY/AUH/985/C.EL...  __label__no_error          0"
            ]
          },
          "execution_count": 44,
          "metadata": {},
          "output_type": "execute_result"
        }
      ],
      "source": [
        "train_no_error.head()"
      ]
    },
    {
      "cell_type": "code",
      "execution_count": null,
      "metadata": {
        "id": "Trv2sdavzIS9"
      },
      "outputs": [],
      "source": [
        "##NLTK is a toolkit build for working with NLP in Python. It provides us various text processing libraries with a lot of test datasets. A variety of tasks can be performed using NLTK such as tokenizing, parse tree visualization, etc.\n",
        "##Punkt Sentence Tokenizer : This tokenizer divides a text into a list of sentences by using an unsupervised algorithm to build a model for abbreviation words, collocations, and words that start sentences. It must be trained on a large collection of plaintext in the target language before it can be used."
      ]
    },
    {
      "cell_type": "code",
      "source": [
        "import regex"
      ],
      "metadata": {
        "id": "RECPZoMevbce"
      },
      "execution_count": null,
      "outputs": []
    },
    {
      "cell_type": "code",
      "execution_count": null,
      "metadata": {
        "colab": {
          "base_uri": "https://localhost:8080/"
        },
        "id": "z0g2v88plBsS",
        "outputId": "a2d95c92-55b4-4e9d-dcf8-822063c04805"
      },
      "outputs": [
        {
          "output_type": "stream",
          "name": "stderr",
          "text": [
            "[nltk_data] Downloading package punkt to /root/nltk_data...\n",
            "[nltk_data]   Package punkt is already up-to-date!\n"
          ]
        }
      ],
      "source": [
        "import nltk\n",
        "nltk.download('punkt')\n",
        "from nltk.tokenize import word_tokenize"
      ]
    },
    {
      "cell_type": "code",
      "execution_count": null,
      "metadata": {
        "id": "FIx30I6bzIS-"
      },
      "outputs": [],
      "source": [
        "##The training messages are tokenized into sentences.\n",
        "##The sentences are then tokenized into words."
      ]
    },
    {
      "cell_type": "code",
      "source": [
        "sentences = train_no_error['Message'].tolist()"
      ],
      "metadata": {
        "id": "pUWw_fhvyI1I"
      },
      "execution_count": null,
      "outputs": []
    },
    {
      "cell_type": "code",
      "source": [
        "sentences_correct = cpm_correct_format_txt[0].tolist()"
      ],
      "metadata": {
        "id": "u5y6sjFzyMYn"
      },
      "execution_count": null,
      "outputs": []
    },
    {
      "cell_type": "code",
      "execution_count": null,
      "metadata": {
        "colab": {
          "base_uri": "https://localhost:8080/"
        },
        "id": "d5k1cJD1lMx5",
        "outputId": "ac099198-1aaf-4bb0-d9ec-eed7b52ce0f7"
      },
      "outputs": [
        {
          "name": "stdout",
          "output_type": "stream",
          "text": [
            "[['cpm'], ['ey972/11.a6ddd.han'], ['-pl/pmc71439ey/auh/2223/c', '....'], ['-pr/pmc74892ey/auh/2370/c', '....'], ['-r/pmc72439ey/auh/985/c.el', '...'], ['-11p/pmc01336ey/auh/1165/c', '...'], ['-12p/pmc75635ey/auh/1860/c', '...'], ['-13p/pmc70016ey/auh/2050/c', '...'], ['-21p/pmc76368ey/auh/2270/c', '...'], ['-22p/pmc72223ey/auh/2375/c', '...'], ['-23p/pmc74605ey/auh/2390/c', '...'], ['-31p/pmc74776ey/auh/2445/c', '...'], ['-33l/ake29519ey/auh/444/c', '....'], ['-33r/ake29217ey/auh/65/x'], ['-41l/ake26910ey/auh/65/x'], ['-41r/n'], ['-41p/pmc75812ey/auh/2475/c', '...'], ['-42p/pmc74004ey/auh/2405/c', '...'], ['-51/n'], ['-52/n'], ['-53/n'], ['cpm'], ['ey956/28.a6ddd.auh'], ['-ar/pmc77270ey/jnb/1540/c'], ['-bl/pmc77913ey/jnb/1235/c'], ['-br/pmc77717ey/jnb/1250/c'], ['-cl/pmc70333ey/jnb/1420/c'], ['-cr/pmc75544ey/jnb/1440/c', '....'], ['-dl/pmc76410ey/jnb/1475/c'], ['-dr/pmc76297ey/jnb/1605/c'], ['-el/pmc77378ey/jnb/1770/c'], ['-er/pmc76550ey/nbo/1820/c'], ['-fl/pmc72704ey/jnb/1920/c', '....'], ['-kl/pmc79972ey/jnb/2745/c', '....'], ['-lr/pmc77668ey/jnb/2825/c', '....'], ['-pl/pmc70975ey/jnb/2605/c', '....'], ['-12p/pmc74847ey/jnb/1670/c', '...'], ['-al/pmc77612ey/auh/1915/c', '....'], ['-ar/pmc72671ey/auh/1840/c', '....'], ['-bl/pmc76614ey/auh/1705/c', '....'], ['-br/pmc76649ey/auh/1705/c', '....'], ['-cl/pmc75672ey/auh/2275/c', '....'], ['-cr/pmc76847ey/auh/1855/c', '....'], ['-dl/pmc74817ey/auh/2490/c', '....'], ['-dr/pmc01084ey/auh/2460/c', '....'], ['-el/pmc76217ey/auh/2675/c', '....'], ['-er/pmc74925ey/auh/2655/c', '....'], ['-fl/pmc77135ey/auh/2685/c', '....'], ['-fr/pmc77284ey/auh/2660/c', '....'], ['-gl/pmc71204ey/auh/2730/c', '....'], ['-gr/pmc76143ey/auh/2860/c', '....'], ['-hl/pmc77707ey/auh/3035/c', '....'], ['-hr/pmc74214ey/auh/3115/c', '....'], ['-jl/pmc70639ey/auh/3475/c', '....'], ['-jr/pmc76874ey/auh/3820/c', '....'], ['-kl/pmc70953ey/auh/4060/c', '....'], ['-kr/pmc79889ey/auh/4090/c', '....'], ['-ll/pmc74283ey/auh/3490/c', '....'], ['-lr/pmc75500ey/auh/4240/c', '....'], ['-ml/pmc75907ey/auh/4215/c', '....'], ['-mr/pmc70056ey/auh/3600/c', '....'], ['-31l/ake22173ey/jnb/335/c', '....'], ['-31r/ake26286ey/jnb/545/c', '....'], ['-42r/xkn60063ey/jnb/465/c', '....'], ['-53/n'], ['cpm'], ['ey9868/12.a6ddf.ruh'], ['-ar/n'], ['-al/n'], ['-br/n'], ['-bl/n'], ['-cr/n'], ['-cl/n'], ['-dr/n'], ['-dl/n'], ['-er/n'], ['-el/n'], ['-fr/n'], ['-fl/n'], ['-gl/n'], ['-gr/n'], ['-hr/n'], ['-hl/n'], ['-jr/n'], ['-jl/n'], ['-kr/n'], ['-kl/n'], ['-ll/n'], ['-lr/n'], ['-mr/n'], ['-ml/n'], ['-pr/n'], ['-pl/n'], ['-r/n'], ['-11p/n'], ['-12p/n'], ['-13p/n'], ['-21p/n'], ['-22p/pmc71680ey/auh/1820/x', '...'], ['-23p/pmc76052ey/auh/1869/m'], ['-31p/pmc75338ey/auh/2340/x', '...'], ['-32p/n'], ['-41l/ake26177ey/auh/113/c'], ['-41r/n'], ['-42l/ake23927ey/auh/609/m'], ['-42r/ake29769ey/auh/953/m'], ['-43/alf41072ey/auh/1534/m'], ['-44l/600/e.eic'], ['-44r/ake23963ey/auh/778/m'], ['-51/n'], ['-52/n'], ['-53/n'], ['si', '44l', 'fsk'], ['cpm'], ['ey917/08.a6ddb.auh'], ['-al/paj10367ey/ams/2207/c', '....'], ['-ar/pmc70521ey/ams/1925/c'], ['-bl/hml00610ej/ams/2850/c', '....'], ['-br/pmc77052ey/ams/1505/c', '....'], ['-cl/hml00662ej/ams/2710/c', '....'], ['-cr/pmc73662ey/ams/1780/c', '....'], ['-dl/hml00683ej/ams/2710/c', '....'], ['-dr/pmc79883ey/ams/2130/c'], ['-el/hml00914ej/ams/2710/c', '....'], ['-er/pmc72276ey/ams/2340/c'], ['-fl/hml00920ej/ams/2710/c', '....'], ['-fr/pmc76900ey/ams/2391/c'], ['-gl/hml00916ej/ams/2710/c', '....'], ['-gr/pmc71771ey/ams/2330/c'], ['-hl/hml00915ej/ams/2710/c', '....'], ['-hr/pmc77882ey/ams/2652/c', '....'], ['-jl/hml00923ej/ams/2710/c', '....'], ['-jr/pmc77331ey/ams/2771/c', '....'], ['-kl/hml00919ej/ams/2710/c', '....'], ['-kr/pmc70981ey/ams/2991/c', '....'], ['-ll/pmc71803ey/ams/3176/c', '....'], ['-lr/pmc72550ey/ams/2150/c'], ['-ml/pmc76321ey/ams/3257/c', '....'], ['-mr/pmc70018ey/ams/3290/c', '....'], ['-pl/pmc70776ey/ams/2100/c'], ['-pr/pmc72997ey/ams/2050/c'], ['-r/pmc75286ey/ams/2314/c.elm'], ['-11p/pmc74938ey/ams/1150/c'], ['-12p/pmc77805ey/ams/1195/c', '...'], ['-13p/pmc77121ey/ams/1520/c'], ['-21p/pmc01241ey/ams/1863/c'], ['-22p/pmc76816ey/ams/2356/c'], ['-23p/pmc70241ey/ams/2351/c'], ['-31p/pmc70029ey/ams/2334/c'], ['-33l/ake24069ey/ams/0475/m'], ['-33r/ake29813ey/ams/0250/c', '...'], ['-41l/ake29874ey/ams/0460/m'], ['-41r/ake24619ey/ams/0645/c'], ['-41p/pmc72856ey/ams/2377/c'], ['-42p/pmc72789ey/ams/2498/c'], ['-51/ams/26/m'], ['-52/ams/40/e'], ['-53/n'], ['si', '52', '20ratchet', 'strapes'], ['cpm'], ['ey9807/28.a6dde.dac'], ['-al/paj10278ey/auh/1604/c/', '...'], ['-bl/pmc77470ey/auh/1716/c/', '...'], ['-cl/pmc74878ey/auh/1622/c/', '...'], ['-dl/pmc77652ey/auh/1868/c/', '...'], ['-el/pmc75049ey/auh/2028/c/', '...'], ['-fl/pmc71398ey/auh/2105/c/', '...'], ['-gl/pmc77740ey/auh/2266/c/', '...'], ['-hl/pmc74012ey/auh/4138/c/', '...'], ['-jl/pmc77795ey/auh/3516/c/', '...'], ['-kl/pmc79916ey/auh/2522/c/', '...'], ['-ll/pmc79741ey/auh/3416/c/', '...'], ['-ml/pmc75738ey/auh/2454/c/', '...'], ['-pl/pmc75956ey/auh/2564/c/', '...'], ['-32l/ake25144ey/auh/422/c-', '...'], ['-33l/ake29478ey/auh/506/c-', '...'], ['-41l/ake26428ey/auh/720/c-', '...']]\n"
          ]
        }
      ],
      "source": [
        "tokenized_sent = []\n",
        "for s in sentences:\n",
        "    tokenized_sent.append(word_tokenize(s.lower()))\n",
        "print(tokenized_sent)"
      ]
    },
    {
      "cell_type": "code",
      "source": [
        "tokenized_sent = []\n",
        "for s in sentences_correct:\n",
        "    tokenized_sent.append(word_tokenize(s.lower()))\n",
        "print(tokenized_sent)"
      ],
      "metadata": {
        "colab": {
          "base_uri": "https://localhost:8080/"
        },
        "id": "5CBDDnBr0QSA",
        "outputId": "aff0636c-f0d9-49f8-8c18-9ea01aad6240"
      },
      "execution_count": null,
      "outputs": [
        {
          "output_type": "stream",
          "name": "stdout",
          "text": [
            "[['cpm'], ['ey972/11.a6ddd.han'], ['-al/pmc77612ey/auh/1915/c.eli.vun'], ['-ar/pmc72671ey/auh/1840/c.eli.vun'], ['-bl/pmc76614ey/auh/1705/c.eli.vun'], ['-br/pmc76649ey/auh/1705/c.eli.vun'], ['-cl/pmc75672ey/auh/2275/c.eli.hea.vun'], ['-cr/pmc76847ey/auh/1855/c.eli.vun'], ['-dl/pmc74817ey/auh/2490/c.eli.elm.hea.vun'], ['-dr/pmc01084ey/auh/2460/c.eli.vun'], ['-el/pmc76217ey/auh/2675/c.eli.vun'], ['-er/pmc74925ey/auh/2655/c.eli.elm.hea.vun'], ['-fl/pmc77135ey/auh/2685/c.eli.vun'], ['-fr/pmc77284ey/auh/2660/c.eli.vun'], ['-gl/pmc71204ey/auh/2730/c.eli.vun'], ['-gr/pmc76143ey/auh/2860/c.eli.vun'], ['-hl/pmc77707ey/auh/3035/c.eli.vun'], ['-hr/pmc74214ey/auh/3115/c.eli.vun'], ['-jl/pmc70639ey/auh/3475/c.eli.vun'], ['-jr/pmc76874ey/auh/3820/c.eli.vun'], ['-kl/pmc70953ey/auh/4060/c.eli.vun'], ['-kr/pmc79889ey/auh/4090/c.eli.vun'], ['-ll/pmc74283ey/auh/3490/c.eli.vun'], ['-lr/pmc75500ey/auh/4240/c.eli.vun'], ['-ml/pmc75907ey/auh/4215/c.eli.vun'], ['-mr/pmc70056ey/auh/3600/c.eli.vun'], ['-pl/pmc71439ey/auh/2223/c.eli.elm.hea.vun'], ['-pr/pmc74892ey/auh/2370/c.vun'], ['-r/pmc72439ey/auh/985/c.eli.vun'], ['-11p/pmc01336ey/auh/1165/c.eli.vun'], ['-12p/pmc75635ey/auh/1860/c.eli.vun'], ['-13p/pmc70016ey/auh/2050/c.eli.vun'], ['-21p/pmc76368ey/auh/2270/c.eli.vun'], ['-22p/pmc72223ey/auh/2375/c.eli.vun'], ['-23p/pmc74605ey/auh/2390/c.eli.vun'], ['-31p/pmc74776ey/auh/2445/c.eli.vun'], ['-33l/ake29519ey/auh/444/c.eli.vun'], ['-33r/ake29217ey/auh/65/x'], ['-41l/ake26910ey/auh/65/x'], ['-41r/n'], ['-41p/pmc75812ey/auh/2475/c.eli.vun'], ['-42p/pmc74004ey/auh/2405/c.eli.vun'], ['-51/n'], ['-52/n'], ['-53/n']]\n"
          ]
        }
      ]
    },
    {
      "cell_type": "code",
      "execution_count": null,
      "metadata": {
        "id": "svDXHTyvzIS-"
      },
      "outputs": [],
      "source": [
        "##Bigram:It is a common type of collocation.Bigrams are two adjacent words, such as 'CT scan', 'machine learning', or 'social media'.\n",
        "\n",
        "##Bigram AssocMeasures : A collection of bigram association measures. Each association measure is provided as a function with three arguments:\n",
        "##bigram_score_fn(n_ii, (n_ix, n_xi), n_xx).\n",
        "\n",
        "##Collocation:Phrases or expressions containing multiple words, that are highly likely to co-occur."
      ]
    },
    {
      "cell_type": "code",
      "execution_count": null,
      "metadata": {
        "colab": {
          "base_uri": "https://localhost:8080/"
        },
        "id": "l3_suAt6uEmp",
        "outputId": "d2d5715f-1203-4ab4-cfee-0531acc0718d"
      },
      "outputs": [
        {
          "name": "stdout",
          "output_type": "stream",
          "text": [
            "Bigrams: []\n",
            "Bigrams: [('ey972', '11.a6ddd.han')]\n",
            "Bigrams: [('-pl', 'pmc71439ey'), ('2223', 'c'), ('auh', '2223'), ('pmc71439ey', 'auh')]\n",
            "Bigrams: []\n",
            "Bigrams: [('-pr', 'pmc74892ey'), ('2370', 'c'), ('auh', '2370'), ('pmc74892ey', 'auh')]\n",
            "Bigrams: []\n",
            "Bigrams: [('-r', 'pmc72439ey'), ('985', 'c.el'), ('auh', '985'), ('pmc72439ey', 'auh')]\n",
            "Bigrams: []\n",
            "Bigrams: [('-11p', 'pmc01336ey'), ('1165', 'c'), ('auh', '1165'), ('pmc01336ey', 'auh')]\n",
            "Bigrams: []\n",
            "Bigrams: [('-12p', 'pmc75635ey'), ('1860', 'c'), ('auh', '1860'), ('pmc75635ey', 'auh')]\n",
            "Bigrams: []\n",
            "Bigrams: [('-13p', 'pmc70016ey'), ('2050', 'c'), ('auh', '2050'), ('pmc70016ey', 'auh')]\n",
            "Bigrams: []\n",
            "Bigrams: [('-21p', 'pmc76368ey'), ('2270', 'c'), ('auh', '2270'), ('pmc76368ey', 'auh')]\n",
            "Bigrams: []\n",
            "Bigrams: [('-22p', 'pmc72223ey'), ('2375', 'c'), ('auh', '2375'), ('pmc72223ey', 'auh')]\n",
            "Bigrams: []\n",
            "Bigrams: [('-23p', 'pmc74605ey'), ('2390', 'c'), ('auh', '2390'), ('pmc74605ey', 'auh')]\n",
            "Bigrams: []\n",
            "Bigrams: [('-31p', 'pmc74776ey'), ('2445', 'c'), ('auh', '2445'), ('pmc74776ey', 'auh')]\n",
            "Bigrams: []\n",
            "Bigrams: [('-33l', 'ake29519ey'), ('444', 'c'), ('ake29519ey', 'auh'), ('auh', '444')]\n",
            "Bigrams: []\n",
            "Bigrams: [('-33r', 'ake29217ey'), ('65', 'x'), ('ake29217ey', 'auh'), ('auh', '65')]\n",
            "Bigrams: [('-41l', 'ake26910ey'), ('65', 'x'), ('ake26910ey', 'auh'), ('auh', '65')]\n",
            "Bigrams: [('-41r', 'n')]\n",
            "Bigrams: [('-41p', 'pmc75812ey'), ('2475', 'c'), ('auh', '2475'), ('pmc75812ey', 'auh')]\n",
            "Bigrams: []\n",
            "Bigrams: [('-42p', 'pmc74004ey'), ('2405', 'c'), ('auh', '2405'), ('pmc74004ey', 'auh')]\n",
            "Bigrams: []\n",
            "Bigrams: [('-51', 'n')]\n",
            "Bigrams: [('-52', 'n')]\n",
            "Bigrams: [('-53', 'n')]\n",
            "Bigrams: []\n",
            "Bigrams: [('ey956', '28.a6ddd.auh')]\n",
            "Bigrams: [('-ar', 'pmc77270ey'), ('1540', 'c'), ('jnb', '1540'), ('pmc77270ey', 'jnb')]\n",
            "Bigrams: [('-bl', 'pmc77913ey'), ('1235', 'c'), ('jnb', '1235'), ('pmc77913ey', 'jnb')]\n",
            "Bigrams: [('-br', 'pmc77717ey'), ('1250', 'c'), ('jnb', '1250'), ('pmc77717ey', 'jnb')]\n",
            "Bigrams: [('-cl', 'pmc70333ey'), ('1420', 'c'), ('jnb', '1420'), ('pmc70333ey', 'jnb')]\n",
            "Bigrams: [('-cr', 'pmc75544ey'), ('1440', 'c'), ('jnb', '1440'), ('pmc75544ey', 'jnb')]\n",
            "Bigrams: []\n",
            "Bigrams: [('-dl', 'pmc76410ey'), ('1475', 'c'), ('jnb', '1475'), ('pmc76410ey', 'jnb')]\n",
            "Bigrams: [('-dr', 'pmc76297ey'), ('1605', 'c'), ('jnb', '1605'), ('pmc76297ey', 'jnb')]\n",
            "Bigrams: [('-el', 'pmc77378ey'), ('1770', 'c'), ('jnb', '1770'), ('pmc77378ey', 'jnb')]\n",
            "Bigrams: [('-er', 'pmc76550ey'), ('1820', 'c'), ('nbo', '1820'), ('pmc76550ey', 'nbo')]\n",
            "Bigrams: [('-fl', 'pmc72704ey'), ('1920', 'c'), ('jnb', '1920'), ('pmc72704ey', 'jnb')]\n",
            "Bigrams: []\n",
            "Bigrams: [('-kl', 'pmc79972ey'), ('2745', 'c'), ('jnb', '2745'), ('pmc79972ey', 'jnb')]\n",
            "Bigrams: []\n",
            "Bigrams: [('-lr', 'pmc77668ey'), ('2825', 'c'), ('jnb', '2825'), ('pmc77668ey', 'jnb')]\n",
            "Bigrams: []\n",
            "Bigrams: [('-pl', 'pmc70975ey'), ('2605', 'c'), ('jnb', '2605'), ('pmc70975ey', 'jnb')]\n",
            "Bigrams: []\n",
            "Bigrams: [('-12p', 'pmc74847ey'), ('1670', 'c'), ('jnb', '1670'), ('pmc74847ey', 'jnb')]\n",
            "Bigrams: []\n",
            "Bigrams: [('-al', 'pmc77612ey'), ('1915', 'c'), ('auh', '1915'), ('pmc77612ey', 'auh')]\n",
            "Bigrams: []\n",
            "Bigrams: [('-ar', 'pmc72671ey'), ('1840', 'c'), ('auh', '1840'), ('pmc72671ey', 'auh')]\n",
            "Bigrams: []\n",
            "Bigrams: [('-bl', 'pmc76614ey'), ('1705', 'c'), ('auh', '1705'), ('pmc76614ey', 'auh')]\n",
            "Bigrams: []\n",
            "Bigrams: [('-br', 'pmc76649ey'), ('1705', 'c'), ('auh', '1705'), ('pmc76649ey', 'auh')]\n",
            "Bigrams: []\n",
            "Bigrams: [('-cl', 'pmc75672ey'), ('2275', 'c'), ('auh', '2275'), ('pmc75672ey', 'auh')]\n",
            "Bigrams: []\n",
            "Bigrams: [('-cr', 'pmc76847ey'), ('1855', 'c'), ('auh', '1855'), ('pmc76847ey', 'auh')]\n",
            "Bigrams: []\n",
            "Bigrams: [('-dl', 'pmc74817ey'), ('2490', 'c'), ('auh', '2490'), ('pmc74817ey', 'auh')]\n",
            "Bigrams: []\n",
            "Bigrams: [('-dr', 'pmc01084ey'), ('2460', 'c'), ('auh', '2460'), ('pmc01084ey', 'auh')]\n",
            "Bigrams: []\n",
            "Bigrams: [('-el', 'pmc76217ey'), ('2675', 'c'), ('auh', '2675'), ('pmc76217ey', 'auh')]\n",
            "Bigrams: []\n",
            "Bigrams: [('-er', 'pmc74925ey'), ('2655', 'c'), ('auh', '2655'), ('pmc74925ey', 'auh')]\n",
            "Bigrams: []\n",
            "Bigrams: [('-fl', 'pmc77135ey'), ('2685', 'c'), ('auh', '2685'), ('pmc77135ey', 'auh')]\n",
            "Bigrams: []\n",
            "Bigrams: [('-fr', 'pmc77284ey'), ('2660', 'c'), ('auh', '2660'), ('pmc77284ey', 'auh')]\n",
            "Bigrams: []\n",
            "Bigrams: [('-gl', 'pmc71204ey'), ('2730', 'c'), ('auh', '2730'), ('pmc71204ey', 'auh')]\n",
            "Bigrams: []\n",
            "Bigrams: [('-gr', 'pmc76143ey'), ('2860', 'c'), ('auh', '2860'), ('pmc76143ey', 'auh')]\n",
            "Bigrams: []\n",
            "Bigrams: [('-hl', 'pmc77707ey'), ('3035', 'c'), ('auh', '3035'), ('pmc77707ey', 'auh')]\n",
            "Bigrams: []\n",
            "Bigrams: [('-hr', 'pmc74214ey'), ('3115', 'c'), ('auh', '3115'), ('pmc74214ey', 'auh')]\n",
            "Bigrams: []\n",
            "Bigrams: [('-jl', 'pmc70639ey'), ('3475', 'c'), ('auh', '3475'), ('pmc70639ey', 'auh')]\n",
            "Bigrams: []\n",
            "Bigrams: [('-jr', 'pmc76874ey'), ('3820', 'c'), ('auh', '3820'), ('pmc76874ey', 'auh')]\n",
            "Bigrams: []\n",
            "Bigrams: [('-kl', 'pmc70953ey'), ('4060', 'c'), ('auh', '4060'), ('pmc70953ey', 'auh')]\n",
            "Bigrams: []\n",
            "Bigrams: [('-kr', 'pmc79889ey'), ('4090', 'c'), ('auh', '4090'), ('pmc79889ey', 'auh')]\n",
            "Bigrams: []\n",
            "Bigrams: [('-ll', 'pmc74283ey'), ('3490', 'c'), ('auh', '3490'), ('pmc74283ey', 'auh')]\n",
            "Bigrams: []\n",
            "Bigrams: [('-lr', 'pmc75500ey'), ('4240', 'c'), ('auh', '4240'), ('pmc75500ey', 'auh')]\n",
            "Bigrams: []\n",
            "Bigrams: [('-ml', 'pmc75907ey'), ('4215', 'c'), ('auh', '4215'), ('pmc75907ey', 'auh')]\n",
            "Bigrams: []\n",
            "Bigrams: [('-mr', 'pmc70056ey'), ('3600', 'c'), ('auh', '3600'), ('pmc70056ey', 'auh')]\n",
            "Bigrams: []\n",
            "Bigrams: [('-31l', 'ake22173ey'), ('335', 'c'), ('ake22173ey', 'jnb'), ('jnb', '335')]\n",
            "Bigrams: []\n",
            "Bigrams: [('-31r', 'ake26286ey'), ('545', 'c'), ('ake26286ey', 'jnb'), ('jnb', '545')]\n",
            "Bigrams: []\n",
            "Bigrams: [('-42r', 'xkn60063ey'), ('465', 'c'), ('jnb', '465'), ('xkn60063ey', 'jnb')]\n",
            "Bigrams: []\n",
            "Bigrams: [('-53', 'n')]\n",
            "Bigrams: []\n",
            "Bigrams: [('ey9868', '12.a6ddf.ruh')]\n",
            "Bigrams: [('-ar', 'n')]\n",
            "Bigrams: [('-al', 'n')]\n",
            "Bigrams: [('-br', 'n')]\n",
            "Bigrams: [('-bl', 'n')]\n",
            "Bigrams: [('-cr', 'n')]\n",
            "Bigrams: [('-cl', 'n')]\n",
            "Bigrams: [('-dr', 'n')]\n",
            "Bigrams: [('-dl', 'n')]\n",
            "Bigrams: [('-er', 'n')]\n",
            "Bigrams: [('-el', 'n')]\n",
            "Bigrams: [('-fr', 'n')]\n",
            "Bigrams: [('-fl', 'n')]\n",
            "Bigrams: [('-gl', 'n')]\n",
            "Bigrams: [('-gr', 'n')]\n",
            "Bigrams: [('-hr', 'n')]\n",
            "Bigrams: [('-hl', 'n')]\n",
            "Bigrams: [('-jr', 'n')]\n",
            "Bigrams: [('-jl', 'n')]\n",
            "Bigrams: [('-kr', 'n')]\n",
            "Bigrams: [('-kl', 'n')]\n",
            "Bigrams: [('-ll', 'n')]\n",
            "Bigrams: [('-lr', 'n')]\n",
            "Bigrams: [('-mr', 'n')]\n",
            "Bigrams: [('-ml', 'n')]\n",
            "Bigrams: [('-pr', 'n')]\n",
            "Bigrams: [('-pl', 'n')]\n",
            "Bigrams: [('-r', 'n')]\n",
            "Bigrams: [('-11p', 'n')]\n",
            "Bigrams: [('-12p', 'n')]\n",
            "Bigrams: [('-13p', 'n')]\n",
            "Bigrams: [('-21p', 'n')]\n",
            "Bigrams: [('-22p', 'pmc71680ey'), ('1820', 'x'), ('auh', '1820'), ('pmc71680ey', 'auh')]\n",
            "Bigrams: []\n",
            "Bigrams: [('-23p', 'pmc76052ey'), ('1869', 'm'), ('auh', '1869'), ('pmc76052ey', 'auh')]\n",
            "Bigrams: [('-31p', 'pmc75338ey'), ('2340', 'x'), ('auh', '2340'), ('pmc75338ey', 'auh')]\n",
            "Bigrams: []\n",
            "Bigrams: [('-32p', 'n')]\n",
            "Bigrams: [('-41l', 'ake26177ey'), ('113', 'c'), ('ake26177ey', 'auh'), ('auh', '113')]\n",
            "Bigrams: [('-41r', 'n')]\n",
            "Bigrams: [('-42l', 'ake23927ey'), ('609', 'm'), ('ake23927ey', 'auh'), ('auh', '609')]\n",
            "Bigrams: [('-42r', 'ake29769ey'), ('953', 'm'), ('ake29769ey', 'auh'), ('auh', '953')]\n",
            "Bigrams: [('-43', 'alf41072ey'), ('1534', 'm'), ('alf41072ey', 'auh'), ('auh', '1534')]\n",
            "Bigrams: [('-44l', '600'), ('600', 'e.eic')]\n",
            "Bigrams: [('-44r', 'ake23963ey'), ('778', 'm'), ('ake23963ey', 'auh'), ('auh', '778')]\n",
            "Bigrams: [('-51', 'n')]\n",
            "Bigrams: [('-52', 'n')]\n",
            "Bigrams: [('-53', 'n')]\n",
            "Bigrams: []\n",
            "Bigrams: []\n",
            "Bigrams: []\n",
            "Bigrams: []\n",
            "Bigrams: [('ey917', '08.a6ddb.auh')]\n",
            "Bigrams: [('-al', 'paj10367ey'), ('2207', 'c'), ('ams', '2207'), ('paj10367ey', 'ams')]\n",
            "Bigrams: []\n",
            "Bigrams: [('-ar', 'pmc70521ey'), ('1925', 'c'), ('ams', '1925'), ('pmc70521ey', 'ams')]\n",
            "Bigrams: [('-bl', 'hml00610ej'), ('2850', 'c'), ('ams', '2850'), ('hml00610ej', 'ams')]\n",
            "Bigrams: []\n",
            "Bigrams: [('-br', 'pmc77052ey'), ('1505', 'c'), ('ams', '1505'), ('pmc77052ey', 'ams')]\n",
            "Bigrams: []\n",
            "Bigrams: [('-cl', 'hml00662ej'), ('2710', 'c'), ('ams', '2710'), ('hml00662ej', 'ams')]\n",
            "Bigrams: []\n",
            "Bigrams: [('-cr', 'pmc73662ey'), ('1780', 'c'), ('ams', '1780'), ('pmc73662ey', 'ams')]\n",
            "Bigrams: []\n",
            "Bigrams: [('-dl', 'hml00683ej'), ('2710', 'c'), ('ams', '2710'), ('hml00683ej', 'ams')]\n",
            "Bigrams: []\n",
            "Bigrams: [('-dr', 'pmc79883ey'), ('2130', 'c'), ('ams', '2130'), ('pmc79883ey', 'ams')]\n",
            "Bigrams: [('-el', 'hml00914ej'), ('2710', 'c'), ('ams', '2710'), ('hml00914ej', 'ams')]\n",
            "Bigrams: []\n",
            "Bigrams: [('-er', 'pmc72276ey'), ('2340', 'c'), ('ams', '2340'), ('pmc72276ey', 'ams')]\n",
            "Bigrams: [('-fl', 'hml00920ej'), ('2710', 'c'), ('ams', '2710'), ('hml00920ej', 'ams')]\n",
            "Bigrams: []\n",
            "Bigrams: [('-fr', 'pmc76900ey'), ('2391', 'c'), ('ams', '2391'), ('pmc76900ey', 'ams')]\n",
            "Bigrams: [('-gl', 'hml00916ej'), ('2710', 'c'), ('ams', '2710'), ('hml00916ej', 'ams')]\n",
            "Bigrams: []\n",
            "Bigrams: [('-gr', 'pmc71771ey'), ('2330', 'c'), ('ams', '2330'), ('pmc71771ey', 'ams')]\n",
            "Bigrams: [('-hl', 'hml00915ej'), ('2710', 'c'), ('ams', '2710'), ('hml00915ej', 'ams')]\n",
            "Bigrams: []\n",
            "Bigrams: [('-hr', 'pmc77882ey'), ('2652', 'c'), ('ams', '2652'), ('pmc77882ey', 'ams')]\n",
            "Bigrams: []\n",
            "Bigrams: [('-jl', 'hml00923ej'), ('2710', 'c'), ('ams', '2710'), ('hml00923ej', 'ams')]\n",
            "Bigrams: []\n",
            "Bigrams: [('-jr', 'pmc77331ey'), ('2771', 'c'), ('ams', '2771'), ('pmc77331ey', 'ams')]\n",
            "Bigrams: []\n",
            "Bigrams: [('-kl', 'hml00919ej'), ('2710', 'c'), ('ams', '2710'), ('hml00919ej', 'ams')]\n",
            "Bigrams: []\n",
            "Bigrams: [('-kr', 'pmc70981ey'), ('2991', 'c'), ('ams', '2991'), ('pmc70981ey', 'ams')]\n",
            "Bigrams: []\n",
            "Bigrams: [('-ll', 'pmc71803ey'), ('3176', 'c'), ('ams', '3176'), ('pmc71803ey', 'ams')]\n",
            "Bigrams: []\n",
            "Bigrams: [('-lr', 'pmc72550ey'), ('2150', 'c'), ('ams', '2150'), ('pmc72550ey', 'ams')]\n",
            "Bigrams: [('-ml', 'pmc76321ey'), ('3257', 'c'), ('ams', '3257'), ('pmc76321ey', 'ams')]\n",
            "Bigrams: []\n",
            "Bigrams: [('-mr', 'pmc70018ey'), ('3290', 'c'), ('ams', '3290'), ('pmc70018ey', 'ams')]\n",
            "Bigrams: []\n",
            "Bigrams: [('-pl', 'pmc70776ey'), ('2100', 'c'), ('ams', '2100'), ('pmc70776ey', 'ams')]\n",
            "Bigrams: [('-pr', 'pmc72997ey'), ('2050', 'c'), ('ams', '2050'), ('pmc72997ey', 'ams')]\n",
            "Bigrams: [('-r', 'pmc75286ey'), ('2314', 'c.elm'), ('ams', '2314'), ('pmc75286ey', 'ams')]\n",
            "Bigrams: [('-11p', 'pmc74938ey'), ('1150', 'c'), ('ams', '1150'), ('pmc74938ey', 'ams')]\n",
            "Bigrams: [('-12p', 'pmc77805ey'), ('1195', 'c'), ('ams', '1195'), ('pmc77805ey', 'ams')]\n",
            "Bigrams: []\n",
            "Bigrams: [('-13p', 'pmc77121ey'), ('1520', 'c'), ('ams', '1520'), ('pmc77121ey', 'ams')]\n",
            "Bigrams: [('-21p', 'pmc01241ey'), ('1863', 'c'), ('ams', '1863'), ('pmc01241ey', 'ams')]\n",
            "Bigrams: [('-22p', 'pmc76816ey'), ('2356', 'c'), ('ams', '2356'), ('pmc76816ey', 'ams')]\n",
            "Bigrams: [('-23p', 'pmc70241ey'), ('2351', 'c'), ('ams', '2351'), ('pmc70241ey', 'ams')]\n",
            "Bigrams: [('-31p', 'pmc70029ey'), ('2334', 'c'), ('ams', '2334'), ('pmc70029ey', 'ams')]\n",
            "Bigrams: [('-33l', 'ake24069ey'), ('0475', 'm'), ('ake24069ey', 'ams'), ('ams', '0475')]\n",
            "Bigrams: [('-33r', 'ake29813ey'), ('0250', 'c'), ('ake29813ey', 'ams'), ('ams', '0250')]\n",
            "Bigrams: []\n",
            "Bigrams: [('-41l', 'ake29874ey'), ('0460', 'm'), ('ake29874ey', 'ams'), ('ams', '0460')]\n",
            "Bigrams: [('-41r', 'ake24619ey'), ('0645', 'c'), ('ake24619ey', 'ams'), ('ams', '0645')]\n",
            "Bigrams: [('-41p', 'pmc72856ey'), ('2377', 'c'), ('ams', '2377'), ('pmc72856ey', 'ams')]\n",
            "Bigrams: [('-42p', 'pmc72789ey'), ('2498', 'c'), ('ams', '2498'), ('pmc72789ey', 'ams')]\n",
            "Bigrams: [('-51', 'ams'), ('26', 'm'), ('ams', '26')]\n",
            "Bigrams: [('-52', 'ams'), ('40', 'e'), ('ams', '40')]\n",
            "Bigrams: [('-53', 'n')]\n",
            "Bigrams: []\n",
            "Bigrams: []\n",
            "Bigrams: []\n",
            "Bigrams: []\n",
            "Bigrams: []\n",
            "Bigrams: [('ey9807', '28.a6dde.dac')]\n",
            "Bigrams: [('-al', 'paj10278ey'), ('1604', 'c'), ('auh', '1604'), ('c', ''), ('paj10278ey', 'auh')]\n",
            "Bigrams: []\n",
            "Bigrams: [('-bl', 'pmc77470ey'), ('1716', 'c'), ('auh', '1716'), ('c', ''), ('pmc77470ey', 'auh')]\n",
            "Bigrams: []\n",
            "Bigrams: [('-cl', 'pmc74878ey'), ('1622', 'c'), ('auh', '1622'), ('c', ''), ('pmc74878ey', 'auh')]\n",
            "Bigrams: []\n",
            "Bigrams: [('-dl', 'pmc77652ey'), ('1868', 'c'), ('auh', '1868'), ('c', ''), ('pmc77652ey', 'auh')]\n",
            "Bigrams: []\n",
            "Bigrams: [('-el', 'pmc75049ey'), ('2028', 'c'), ('auh', '2028'), ('c', ''), ('pmc75049ey', 'auh')]\n",
            "Bigrams: []\n",
            "Bigrams: [('-fl', 'pmc71398ey'), ('2105', 'c'), ('auh', '2105'), ('c', ''), ('pmc71398ey', 'auh')]\n",
            "Bigrams: []\n",
            "Bigrams: [('-gl', 'pmc77740ey'), ('2266', 'c'), ('auh', '2266'), ('c', ''), ('pmc77740ey', 'auh')]\n",
            "Bigrams: []\n",
            "Bigrams: [('-hl', 'pmc74012ey'), ('4138', 'c'), ('auh', '4138'), ('c', ''), ('pmc74012ey', 'auh')]\n",
            "Bigrams: []\n",
            "Bigrams: [('-jl', 'pmc77795ey'), ('3516', 'c'), ('auh', '3516'), ('c', ''), ('pmc77795ey', 'auh')]\n",
            "Bigrams: []\n",
            "Bigrams: [('-kl', 'pmc79916ey'), ('2522', 'c'), ('auh', '2522'), ('c', ''), ('pmc79916ey', 'auh')]\n",
            "Bigrams: []\n",
            "Bigrams: [('-ll', 'pmc79741ey'), ('3416', 'c'), ('auh', '3416'), ('c', ''), ('pmc79741ey', 'auh')]\n",
            "Bigrams: []\n",
            "Bigrams: [('-ml', 'pmc75738ey'), ('2454', 'c'), ('auh', '2454'), ('c', ''), ('pmc75738ey', 'auh')]\n",
            "Bigrams: []\n",
            "Bigrams: [('-pl', 'pmc75956ey'), ('2564', 'c'), ('auh', '2564'), ('c', ''), ('pmc75956ey', 'auh')]\n",
            "Bigrams: []\n",
            "Bigrams: [('-32l', 'ake25144ey'), ('422', 'c-'), ('ake25144ey', 'auh'), ('auh', '422')]\n",
            "Bigrams: []\n",
            "Bigrams: [('-33l', 'ake29478ey'), ('506', 'c-'), ('ake29478ey', 'auh'), ('auh', '506')]\n",
            "Bigrams: []\n",
            "Bigrams: [('-41l', 'ake26428ey'), ('720', 'c-'), ('ake26428ey', 'auh'), ('auh', '720')]\n",
            "Bigrams: []\n"
          ]
        }
      ],
      "source": [
        "from nltk.metrics import BigramAssocMeasures\n",
        "from nltk.collocations import BigramCollocationFinder\n",
        "\n",
        "bigrams_patterns = []\n",
        "\n",
        "for token in tokenized_sent :\n",
        "  for words in token :\n",
        "    bigram_collocation = BigramCollocationFinder.from_words(words.split('/'))\n",
        "    # Top 10 most occurring collocations\n",
        "    bigrams_patterns.append(bigram_collocation.nbest(BigramAssocMeasures.likelihood_ratio, 10))\n",
        "    print(\"Bigrams:\", bigram_collocation.nbest(BigramAssocMeasures.likelihood_ratio, 10))"
      ]
    },
    {
      "cell_type": "code",
      "execution_count": null,
      "metadata": {
        "colab": {
          "base_uri": "https://localhost:8080/"
        },
        "id": "q4RRRWd73JWJ",
        "outputId": "18fddd01-6cde-4b2c-aa6f-3f8542fca7d2"
      },
      "outputs": [
        {
          "data": {
            "text/plain": [
              "266"
            ]
          },
          "execution_count": 50,
          "metadata": {},
          "output_type": "execute_result"
        }
      ],
      "source": [
        "len(bigrams_patterns)"
      ]
    },
    {
      "cell_type": "code",
      "source": [
        "from nltk.metrics import BigramAssocMeasures\n",
        "from nltk.collocations import BigramCollocationFinder\n",
        "\n",
        "bigrams_patterns = []\n",
        "\n",
        "for token in tokenized_sent :\n",
        "  for words in token :\n",
        "    bigram_collocation = BigramCollocationFinder.from_words(words.split('/'))\n",
        "    # Top 10 most occurring collocations\n",
        "    bigrams_patterns.append(bigram_collocation.nbest(BigramAssocMeasures.likelihood_ratio, 10))\n",
        "    print(\"Bigrams:\", bigram_collocation.nbest(BigramAssocMeasures.likelihood_ratio, 10))"
      ],
      "metadata": {
        "colab": {
          "base_uri": "https://localhost:8080/"
        },
        "id": "FUXxgZ3t0aPM",
        "outputId": "5d71dfd5-4d93-4001-c7cc-d295ca80a62e"
      },
      "execution_count": null,
      "outputs": [
        {
          "output_type": "stream",
          "name": "stdout",
          "text": [
            "Bigrams: []\n",
            "Bigrams: [('ey972', '11.a6ddd.han')]\n",
            "Bigrams: [('-al', 'pmc77612ey'), ('1915', 'c.eli.vun'), ('auh', '1915'), ('pmc77612ey', 'auh')]\n",
            "Bigrams: [('-ar', 'pmc72671ey'), ('1840', 'c.eli.vun'), ('auh', '1840'), ('pmc72671ey', 'auh')]\n",
            "Bigrams: [('-bl', 'pmc76614ey'), ('1705', 'c.eli.vun'), ('auh', '1705'), ('pmc76614ey', 'auh')]\n",
            "Bigrams: [('-br', 'pmc76649ey'), ('1705', 'c.eli.vun'), ('auh', '1705'), ('pmc76649ey', 'auh')]\n",
            "Bigrams: [('-cl', 'pmc75672ey'), ('2275', 'c.eli.hea.vun'), ('auh', '2275'), ('pmc75672ey', 'auh')]\n",
            "Bigrams: [('-cr', 'pmc76847ey'), ('1855', 'c.eli.vun'), ('auh', '1855'), ('pmc76847ey', 'auh')]\n",
            "Bigrams: [('-dl', 'pmc74817ey'), ('2490', 'c.eli.elm.hea.vun'), ('auh', '2490'), ('pmc74817ey', 'auh')]\n",
            "Bigrams: [('-dr', 'pmc01084ey'), ('2460', 'c.eli.vun'), ('auh', '2460'), ('pmc01084ey', 'auh')]\n",
            "Bigrams: [('-el', 'pmc76217ey'), ('2675', 'c.eli.vun'), ('auh', '2675'), ('pmc76217ey', 'auh')]\n",
            "Bigrams: [('-er', 'pmc74925ey'), ('2655', 'c.eli.elm.hea.vun'), ('auh', '2655'), ('pmc74925ey', 'auh')]\n",
            "Bigrams: [('-fl', 'pmc77135ey'), ('2685', 'c.eli.vun'), ('auh', '2685'), ('pmc77135ey', 'auh')]\n",
            "Bigrams: [('-fr', 'pmc77284ey'), ('2660', 'c.eli.vun'), ('auh', '2660'), ('pmc77284ey', 'auh')]\n",
            "Bigrams: [('-gl', 'pmc71204ey'), ('2730', 'c.eli.vun'), ('auh', '2730'), ('pmc71204ey', 'auh')]\n",
            "Bigrams: [('-gr', 'pmc76143ey'), ('2860', 'c.eli.vun'), ('auh', '2860'), ('pmc76143ey', 'auh')]\n",
            "Bigrams: [('-hl', 'pmc77707ey'), ('3035', 'c.eli.vun'), ('auh', '3035'), ('pmc77707ey', 'auh')]\n",
            "Bigrams: [('-hr', 'pmc74214ey'), ('3115', 'c.eli.vun'), ('auh', '3115'), ('pmc74214ey', 'auh')]\n",
            "Bigrams: [('-jl', 'pmc70639ey'), ('3475', 'c.eli.vun'), ('auh', '3475'), ('pmc70639ey', 'auh')]\n",
            "Bigrams: [('-jr', 'pmc76874ey'), ('3820', 'c.eli.vun'), ('auh', '3820'), ('pmc76874ey', 'auh')]\n",
            "Bigrams: [('-kl', 'pmc70953ey'), ('4060', 'c.eli.vun'), ('auh', '4060'), ('pmc70953ey', 'auh')]\n",
            "Bigrams: [('-kr', 'pmc79889ey'), ('4090', 'c.eli.vun'), ('auh', '4090'), ('pmc79889ey', 'auh')]\n",
            "Bigrams: [('-ll', 'pmc74283ey'), ('3490', 'c.eli.vun'), ('auh', '3490'), ('pmc74283ey', 'auh')]\n",
            "Bigrams: [('-lr', 'pmc75500ey'), ('4240', 'c.eli.vun'), ('auh', '4240'), ('pmc75500ey', 'auh')]\n",
            "Bigrams: [('-ml', 'pmc75907ey'), ('4215', 'c.eli.vun'), ('auh', '4215'), ('pmc75907ey', 'auh')]\n",
            "Bigrams: [('-mr', 'pmc70056ey'), ('3600', 'c.eli.vun'), ('auh', '3600'), ('pmc70056ey', 'auh')]\n",
            "Bigrams: [('-pl', 'pmc71439ey'), ('2223', 'c.eli.elm.hea.vun'), ('auh', '2223'), ('pmc71439ey', 'auh')]\n",
            "Bigrams: [('-pr', 'pmc74892ey'), ('2370', 'c.vun'), ('auh', '2370'), ('pmc74892ey', 'auh')]\n",
            "Bigrams: [('-r', 'pmc72439ey'), ('985', 'c.eli.vun'), ('auh', '985'), ('pmc72439ey', 'auh')]\n",
            "Bigrams: [('-11p', 'pmc01336ey'), ('1165', 'c.eli.vun'), ('auh', '1165'), ('pmc01336ey', 'auh')]\n",
            "Bigrams: [('-12p', 'pmc75635ey'), ('1860', 'c.eli.vun'), ('auh', '1860'), ('pmc75635ey', 'auh')]\n",
            "Bigrams: [('-13p', 'pmc70016ey'), ('2050', 'c.eli.vun'), ('auh', '2050'), ('pmc70016ey', 'auh')]\n",
            "Bigrams: [('-21p', 'pmc76368ey'), ('2270', 'c.eli.vun'), ('auh', '2270'), ('pmc76368ey', 'auh')]\n",
            "Bigrams: [('-22p', 'pmc72223ey'), ('2375', 'c.eli.vun'), ('auh', '2375'), ('pmc72223ey', 'auh')]\n",
            "Bigrams: [('-23p', 'pmc74605ey'), ('2390', 'c.eli.vun'), ('auh', '2390'), ('pmc74605ey', 'auh')]\n",
            "Bigrams: [('-31p', 'pmc74776ey'), ('2445', 'c.eli.vun'), ('auh', '2445'), ('pmc74776ey', 'auh')]\n",
            "Bigrams: [('-33l', 'ake29519ey'), ('444', 'c.eli.vun'), ('ake29519ey', 'auh'), ('auh', '444')]\n",
            "Bigrams: [('-33r', 'ake29217ey'), ('65', 'x'), ('ake29217ey', 'auh'), ('auh', '65')]\n",
            "Bigrams: [('-41l', 'ake26910ey'), ('65', 'x'), ('ake26910ey', 'auh'), ('auh', '65')]\n",
            "Bigrams: [('-41r', 'n')]\n",
            "Bigrams: [('-41p', 'pmc75812ey'), ('2475', 'c.eli.vun'), ('auh', '2475'), ('pmc75812ey', 'auh')]\n",
            "Bigrams: [('-42p', 'pmc74004ey'), ('2405', 'c.eli.vun'), ('auh', '2405'), ('pmc74004ey', 'auh')]\n",
            "Bigrams: [('-51', 'n')]\n",
            "Bigrams: [('-52', 'n')]\n",
            "Bigrams: [('-53', 'n')]\n"
          ]
        }
      ]
    },
    {
      "cell_type": "code",
      "execution_count": null,
      "metadata": {
        "id": "CrGFp_DfzIS_"
      },
      "outputs": [],
      "source": [
        "## Trigram:It is a common type of collocation.Trigrams are three adjacent words,  such as 'out of business', or 'Proctor and Gamble'\n",
        "## Trigram AssocMeasures:A collection of trigram association measures. Each association measure is provided as a function with four arguments:\n",
        "##trigram_score_fn(n_iii,(n_iix, n_ixi, n_xii),(n_ixx, n_xix, n_xxi),n_xxx)"
      ]
    },
    {
      "cell_type": "code",
      "execution_count": null,
      "metadata": {
        "colab": {
          "base_uri": "https://localhost:8080/"
        },
        "id": "bkrD4mCGsto-",
        "outputId": "aaafad54-39de-4836-f39d-e20807297afc"
      },
      "outputs": [
        {
          "name": "stdout",
          "output_type": "stream",
          "text": [
            "Trigrams: []\n",
            "Trigrams: []\n",
            "Trigrams: [('-pl', 'pmc71439ey', 'auh'), ('auh', '2223', 'c'), ('pmc71439ey', 'auh', '2223')]\n",
            "Trigrams: []\n",
            "Trigrams: [('-pr', 'pmc74892ey', 'auh'), ('auh', '2370', 'c'), ('pmc74892ey', 'auh', '2370')]\n",
            "Trigrams: []\n",
            "Trigrams: [('-r', 'pmc72439ey', 'auh'), ('auh', '985', 'c.el'), ('pmc72439ey', 'auh', '985')]\n",
            "Trigrams: []\n",
            "Trigrams: [('-11p', 'pmc01336ey', 'auh'), ('auh', '1165', 'c'), ('pmc01336ey', 'auh', '1165')]\n",
            "Trigrams: []\n",
            "Trigrams: [('-12p', 'pmc75635ey', 'auh'), ('auh', '1860', 'c'), ('pmc75635ey', 'auh', '1860')]\n",
            "Trigrams: []\n",
            "Trigrams: [('-13p', 'pmc70016ey', 'auh'), ('auh', '2050', 'c'), ('pmc70016ey', 'auh', '2050')]\n",
            "Trigrams: []\n",
            "Trigrams: [('-21p', 'pmc76368ey', 'auh'), ('auh', '2270', 'c'), ('pmc76368ey', 'auh', '2270')]\n",
            "Trigrams: []\n",
            "Trigrams: [('-22p', 'pmc72223ey', 'auh'), ('auh', '2375', 'c'), ('pmc72223ey', 'auh', '2375')]\n",
            "Trigrams: []\n",
            "Trigrams: [('-23p', 'pmc74605ey', 'auh'), ('auh', '2390', 'c'), ('pmc74605ey', 'auh', '2390')]\n",
            "Trigrams: []\n",
            "Trigrams: [('-31p', 'pmc74776ey', 'auh'), ('auh', '2445', 'c'), ('pmc74776ey', 'auh', '2445')]\n",
            "Trigrams: []\n",
            "Trigrams: [('-33l', 'ake29519ey', 'auh'), ('ake29519ey', 'auh', '444'), ('auh', '444', 'c')]\n",
            "Trigrams: []\n",
            "Trigrams: [('-33r', 'ake29217ey', 'auh'), ('ake29217ey', 'auh', '65'), ('auh', '65', 'x')]\n",
            "Trigrams: [('-41l', 'ake26910ey', 'auh'), ('ake26910ey', 'auh', '65'), ('auh', '65', 'x')]\n",
            "Trigrams: []\n",
            "Trigrams: [('-41p', 'pmc75812ey', 'auh'), ('auh', '2475', 'c'), ('pmc75812ey', 'auh', '2475')]\n",
            "Trigrams: []\n",
            "Trigrams: [('-42p', 'pmc74004ey', 'auh'), ('auh', '2405', 'c'), ('pmc74004ey', 'auh', '2405')]\n",
            "Trigrams: []\n",
            "Trigrams: []\n",
            "Trigrams: []\n",
            "Trigrams: []\n",
            "Trigrams: []\n",
            "Trigrams: []\n",
            "Trigrams: [('-ar', 'pmc77270ey', 'jnb'), ('jnb', '1540', 'c'), ('pmc77270ey', 'jnb', '1540')]\n",
            "Trigrams: [('-bl', 'pmc77913ey', 'jnb'), ('jnb', '1235', 'c'), ('pmc77913ey', 'jnb', '1235')]\n",
            "Trigrams: [('-br', 'pmc77717ey', 'jnb'), ('jnb', '1250', 'c'), ('pmc77717ey', 'jnb', '1250')]\n",
            "Trigrams: [('-cl', 'pmc70333ey', 'jnb'), ('jnb', '1420', 'c'), ('pmc70333ey', 'jnb', '1420')]\n",
            "Trigrams: [('-cr', 'pmc75544ey', 'jnb'), ('jnb', '1440', 'c'), ('pmc75544ey', 'jnb', '1440')]\n",
            "Trigrams: []\n",
            "Trigrams: [('-dl', 'pmc76410ey', 'jnb'), ('jnb', '1475', 'c'), ('pmc76410ey', 'jnb', '1475')]\n",
            "Trigrams: [('-dr', 'pmc76297ey', 'jnb'), ('jnb', '1605', 'c'), ('pmc76297ey', 'jnb', '1605')]\n",
            "Trigrams: [('-el', 'pmc77378ey', 'jnb'), ('jnb', '1770', 'c'), ('pmc77378ey', 'jnb', '1770')]\n",
            "Trigrams: [('-er', 'pmc76550ey', 'nbo'), ('nbo', '1820', 'c'), ('pmc76550ey', 'nbo', '1820')]\n",
            "Trigrams: [('-fl', 'pmc72704ey', 'jnb'), ('jnb', '1920', 'c'), ('pmc72704ey', 'jnb', '1920')]\n",
            "Trigrams: []\n",
            "Trigrams: [('-kl', 'pmc79972ey', 'jnb'), ('jnb', '2745', 'c'), ('pmc79972ey', 'jnb', '2745')]\n",
            "Trigrams: []\n",
            "Trigrams: [('-lr', 'pmc77668ey', 'jnb'), ('jnb', '2825', 'c'), ('pmc77668ey', 'jnb', '2825')]\n",
            "Trigrams: []\n",
            "Trigrams: [('-pl', 'pmc70975ey', 'jnb'), ('jnb', '2605', 'c'), ('pmc70975ey', 'jnb', '2605')]\n",
            "Trigrams: []\n",
            "Trigrams: [('-12p', 'pmc74847ey', 'jnb'), ('jnb', '1670', 'c'), ('pmc74847ey', 'jnb', '1670')]\n",
            "Trigrams: []\n",
            "Trigrams: [('-al', 'pmc77612ey', 'auh'), ('auh', '1915', 'c'), ('pmc77612ey', 'auh', '1915')]\n",
            "Trigrams: []\n",
            "Trigrams: [('-ar', 'pmc72671ey', 'auh'), ('auh', '1840', 'c'), ('pmc72671ey', 'auh', '1840')]\n",
            "Trigrams: []\n",
            "Trigrams: [('-bl', 'pmc76614ey', 'auh'), ('auh', '1705', 'c'), ('pmc76614ey', 'auh', '1705')]\n",
            "Trigrams: []\n",
            "Trigrams: [('-br', 'pmc76649ey', 'auh'), ('auh', '1705', 'c'), ('pmc76649ey', 'auh', '1705')]\n",
            "Trigrams: []\n",
            "Trigrams: [('-cl', 'pmc75672ey', 'auh'), ('auh', '2275', 'c'), ('pmc75672ey', 'auh', '2275')]\n",
            "Trigrams: []\n",
            "Trigrams: [('-cr', 'pmc76847ey', 'auh'), ('auh', '1855', 'c'), ('pmc76847ey', 'auh', '1855')]\n",
            "Trigrams: []\n",
            "Trigrams: [('-dl', 'pmc74817ey', 'auh'), ('auh', '2490', 'c'), ('pmc74817ey', 'auh', '2490')]\n",
            "Trigrams: []\n",
            "Trigrams: [('-dr', 'pmc01084ey', 'auh'), ('auh', '2460', 'c'), ('pmc01084ey', 'auh', '2460')]\n",
            "Trigrams: []\n",
            "Trigrams: [('-el', 'pmc76217ey', 'auh'), ('auh', '2675', 'c'), ('pmc76217ey', 'auh', '2675')]\n",
            "Trigrams: []\n",
            "Trigrams: [('-er', 'pmc74925ey', 'auh'), ('auh', '2655', 'c'), ('pmc74925ey', 'auh', '2655')]\n",
            "Trigrams: []\n",
            "Trigrams: [('-fl', 'pmc77135ey', 'auh'), ('auh', '2685', 'c'), ('pmc77135ey', 'auh', '2685')]\n",
            "Trigrams: []\n",
            "Trigrams: [('-fr', 'pmc77284ey', 'auh'), ('auh', '2660', 'c'), ('pmc77284ey', 'auh', '2660')]\n",
            "Trigrams: []\n",
            "Trigrams: [('-gl', 'pmc71204ey', 'auh'), ('auh', '2730', 'c'), ('pmc71204ey', 'auh', '2730')]\n",
            "Trigrams: []\n",
            "Trigrams: [('-gr', 'pmc76143ey', 'auh'), ('auh', '2860', 'c'), ('pmc76143ey', 'auh', '2860')]\n",
            "Trigrams: []\n",
            "Trigrams: [('-hl', 'pmc77707ey', 'auh'), ('auh', '3035', 'c'), ('pmc77707ey', 'auh', '3035')]\n",
            "Trigrams: []\n",
            "Trigrams: [('-hr', 'pmc74214ey', 'auh'), ('auh', '3115', 'c'), ('pmc74214ey', 'auh', '3115')]\n",
            "Trigrams: []\n",
            "Trigrams: [('-jl', 'pmc70639ey', 'auh'), ('auh', '3475', 'c'), ('pmc70639ey', 'auh', '3475')]\n",
            "Trigrams: []\n",
            "Trigrams: [('-jr', 'pmc76874ey', 'auh'), ('auh', '3820', 'c'), ('pmc76874ey', 'auh', '3820')]\n",
            "Trigrams: []\n",
            "Trigrams: [('-kl', 'pmc70953ey', 'auh'), ('auh', '4060', 'c'), ('pmc70953ey', 'auh', '4060')]\n",
            "Trigrams: []\n",
            "Trigrams: [('-kr', 'pmc79889ey', 'auh'), ('auh', '4090', 'c'), ('pmc79889ey', 'auh', '4090')]\n",
            "Trigrams: []\n",
            "Trigrams: [('-ll', 'pmc74283ey', 'auh'), ('auh', '3490', 'c'), ('pmc74283ey', 'auh', '3490')]\n",
            "Trigrams: []\n",
            "Trigrams: [('-lr', 'pmc75500ey', 'auh'), ('auh', '4240', 'c'), ('pmc75500ey', 'auh', '4240')]\n",
            "Trigrams: []\n",
            "Trigrams: [('-ml', 'pmc75907ey', 'auh'), ('auh', '4215', 'c'), ('pmc75907ey', 'auh', '4215')]\n",
            "Trigrams: []\n",
            "Trigrams: [('-mr', 'pmc70056ey', 'auh'), ('auh', '3600', 'c'), ('pmc70056ey', 'auh', '3600')]\n",
            "Trigrams: []\n",
            "Trigrams: [('-31l', 'ake22173ey', 'jnb'), ('ake22173ey', 'jnb', '335'), ('jnb', '335', 'c')]\n",
            "Trigrams: []\n",
            "Trigrams: [('-31r', 'ake26286ey', 'jnb'), ('ake26286ey', 'jnb', '545'), ('jnb', '545', 'c')]\n",
            "Trigrams: []\n",
            "Trigrams: [('-42r', 'xkn60063ey', 'jnb'), ('jnb', '465', 'c'), ('xkn60063ey', 'jnb', '465')]\n",
            "Trigrams: []\n",
            "Trigrams: []\n",
            "Trigrams: []\n",
            "Trigrams: []\n",
            "Trigrams: []\n",
            "Trigrams: []\n",
            "Trigrams: []\n",
            "Trigrams: []\n",
            "Trigrams: []\n",
            "Trigrams: []\n",
            "Trigrams: []\n",
            "Trigrams: []\n",
            "Trigrams: []\n",
            "Trigrams: []\n",
            "Trigrams: []\n",
            "Trigrams: []\n",
            "Trigrams: []\n",
            "Trigrams: []\n",
            "Trigrams: []\n",
            "Trigrams: []\n",
            "Trigrams: []\n",
            "Trigrams: []\n",
            "Trigrams: []\n",
            "Trigrams: []\n",
            "Trigrams: []\n",
            "Trigrams: []\n",
            "Trigrams: []\n",
            "Trigrams: []\n",
            "Trigrams: []\n",
            "Trigrams: []\n",
            "Trigrams: []\n",
            "Trigrams: []\n",
            "Trigrams: []\n",
            "Trigrams: []\n",
            "Trigrams: []\n",
            "Trigrams: [('-22p', 'pmc71680ey', 'auh'), ('auh', '1820', 'x'), ('pmc71680ey', 'auh', '1820')]\n",
            "Trigrams: []\n",
            "Trigrams: [('-23p', 'pmc76052ey', 'auh'), ('auh', '1869', 'm'), ('pmc76052ey', 'auh', '1869')]\n",
            "Trigrams: [('-31p', 'pmc75338ey', 'auh'), ('auh', '2340', 'x'), ('pmc75338ey', 'auh', '2340')]\n",
            "Trigrams: []\n",
            "Trigrams: []\n",
            "Trigrams: [('-41l', 'ake26177ey', 'auh'), ('ake26177ey', 'auh', '113'), ('auh', '113', 'c')]\n",
            "Trigrams: []\n",
            "Trigrams: [('-42l', 'ake23927ey', 'auh'), ('ake23927ey', 'auh', '609'), ('auh', '609', 'm')]\n",
            "Trigrams: [('-42r', 'ake29769ey', 'auh'), ('ake29769ey', 'auh', '953'), ('auh', '953', 'm')]\n",
            "Trigrams: [('-43', 'alf41072ey', 'auh'), ('alf41072ey', 'auh', '1534'), ('auh', '1534', 'm')]\n",
            "Trigrams: [('-44l', '600', 'e.eic')]\n",
            "Trigrams: [('-44r', 'ake23963ey', 'auh'), ('ake23963ey', 'auh', '778'), ('auh', '778', 'm')]\n",
            "Trigrams: []\n",
            "Trigrams: []\n",
            "Trigrams: []\n",
            "Trigrams: []\n",
            "Trigrams: []\n",
            "Trigrams: []\n",
            "Trigrams: []\n",
            "Trigrams: []\n",
            "Trigrams: [('-al', 'paj10367ey', 'ams'), ('ams', '2207', 'c'), ('paj10367ey', 'ams', '2207')]\n",
            "Trigrams: []\n",
            "Trigrams: [('-ar', 'pmc70521ey', 'ams'), ('ams', '1925', 'c'), ('pmc70521ey', 'ams', '1925')]\n",
            "Trigrams: [('-bl', 'hml00610ej', 'ams'), ('ams', '2850', 'c'), ('hml00610ej', 'ams', '2850')]\n",
            "Trigrams: []\n",
            "Trigrams: [('-br', 'pmc77052ey', 'ams'), ('ams', '1505', 'c'), ('pmc77052ey', 'ams', '1505')]\n",
            "Trigrams: []\n",
            "Trigrams: [('-cl', 'hml00662ej', 'ams'), ('ams', '2710', 'c'), ('hml00662ej', 'ams', '2710')]\n",
            "Trigrams: []\n",
            "Trigrams: [('-cr', 'pmc73662ey', 'ams'), ('ams', '1780', 'c'), ('pmc73662ey', 'ams', '1780')]\n",
            "Trigrams: []\n",
            "Trigrams: [('-dl', 'hml00683ej', 'ams'), ('ams', '2710', 'c'), ('hml00683ej', 'ams', '2710')]\n",
            "Trigrams: []\n",
            "Trigrams: [('-dr', 'pmc79883ey', 'ams'), ('ams', '2130', 'c'), ('pmc79883ey', 'ams', '2130')]\n",
            "Trigrams: [('-el', 'hml00914ej', 'ams'), ('ams', '2710', 'c'), ('hml00914ej', 'ams', '2710')]\n",
            "Trigrams: []\n",
            "Trigrams: [('-er', 'pmc72276ey', 'ams'), ('ams', '2340', 'c'), ('pmc72276ey', 'ams', '2340')]\n",
            "Trigrams: [('-fl', 'hml00920ej', 'ams'), ('ams', '2710', 'c'), ('hml00920ej', 'ams', '2710')]\n",
            "Trigrams: []\n",
            "Trigrams: [('-fr', 'pmc76900ey', 'ams'), ('ams', '2391', 'c'), ('pmc76900ey', 'ams', '2391')]\n",
            "Trigrams: [('-gl', 'hml00916ej', 'ams'), ('ams', '2710', 'c'), ('hml00916ej', 'ams', '2710')]\n",
            "Trigrams: []\n",
            "Trigrams: [('-gr', 'pmc71771ey', 'ams'), ('ams', '2330', 'c'), ('pmc71771ey', 'ams', '2330')]\n",
            "Trigrams: [('-hl', 'hml00915ej', 'ams'), ('ams', '2710', 'c'), ('hml00915ej', 'ams', '2710')]\n",
            "Trigrams: []\n",
            "Trigrams: [('-hr', 'pmc77882ey', 'ams'), ('ams', '2652', 'c'), ('pmc77882ey', 'ams', '2652')]\n",
            "Trigrams: []\n",
            "Trigrams: [('-jl', 'hml00923ej', 'ams'), ('ams', '2710', 'c'), ('hml00923ej', 'ams', '2710')]\n",
            "Trigrams: []\n",
            "Trigrams: [('-jr', 'pmc77331ey', 'ams'), ('ams', '2771', 'c'), ('pmc77331ey', 'ams', '2771')]\n",
            "Trigrams: []\n",
            "Trigrams: [('-kl', 'hml00919ej', 'ams'), ('ams', '2710', 'c'), ('hml00919ej', 'ams', '2710')]\n",
            "Trigrams: []\n",
            "Trigrams: [('-kr', 'pmc70981ey', 'ams'), ('ams', '2991', 'c'), ('pmc70981ey', 'ams', '2991')]\n",
            "Trigrams: []\n",
            "Trigrams: [('-ll', 'pmc71803ey', 'ams'), ('ams', '3176', 'c'), ('pmc71803ey', 'ams', '3176')]\n",
            "Trigrams: []\n",
            "Trigrams: [('-lr', 'pmc72550ey', 'ams'), ('ams', '2150', 'c'), ('pmc72550ey', 'ams', '2150')]\n",
            "Trigrams: [('-ml', 'pmc76321ey', 'ams'), ('ams', '3257', 'c'), ('pmc76321ey', 'ams', '3257')]\n",
            "Trigrams: []\n",
            "Trigrams: [('-mr', 'pmc70018ey', 'ams'), ('ams', '3290', 'c'), ('pmc70018ey', 'ams', '3290')]\n",
            "Trigrams: []\n",
            "Trigrams: [('-pl', 'pmc70776ey', 'ams'), ('ams', '2100', 'c'), ('pmc70776ey', 'ams', '2100')]\n",
            "Trigrams: [('-pr', 'pmc72997ey', 'ams'), ('ams', '2050', 'c'), ('pmc72997ey', 'ams', '2050')]\n",
            "Trigrams: [('-r', 'pmc75286ey', 'ams'), ('ams', '2314', 'c.elm'), ('pmc75286ey', 'ams', '2314')]\n",
            "Trigrams: [('-11p', 'pmc74938ey', 'ams'), ('ams', '1150', 'c'), ('pmc74938ey', 'ams', '1150')]\n",
            "Trigrams: [('-12p', 'pmc77805ey', 'ams'), ('ams', '1195', 'c'), ('pmc77805ey', 'ams', '1195')]\n",
            "Trigrams: []\n",
            "Trigrams: [('-13p', 'pmc77121ey', 'ams'), ('ams', '1520', 'c'), ('pmc77121ey', 'ams', '1520')]\n",
            "Trigrams: [('-21p', 'pmc01241ey', 'ams'), ('ams', '1863', 'c'), ('pmc01241ey', 'ams', '1863')]\n",
            "Trigrams: [('-22p', 'pmc76816ey', 'ams'), ('ams', '2356', 'c'), ('pmc76816ey', 'ams', '2356')]\n",
            "Trigrams: [('-23p', 'pmc70241ey', 'ams'), ('ams', '2351', 'c'), ('pmc70241ey', 'ams', '2351')]\n",
            "Trigrams: [('-31p', 'pmc70029ey', 'ams'), ('ams', '2334', 'c'), ('pmc70029ey', 'ams', '2334')]\n",
            "Trigrams: [('-33l', 'ake24069ey', 'ams'), ('ake24069ey', 'ams', '0475'), ('ams', '0475', 'm')]\n",
            "Trigrams: [('-33r', 'ake29813ey', 'ams'), ('ake29813ey', 'ams', '0250'), ('ams', '0250', 'c')]\n",
            "Trigrams: []\n",
            "Trigrams: [('-41l', 'ake29874ey', 'ams'), ('ake29874ey', 'ams', '0460'), ('ams', '0460', 'm')]\n",
            "Trigrams: [('-41r', 'ake24619ey', 'ams'), ('ake24619ey', 'ams', '0645'), ('ams', '0645', 'c')]\n",
            "Trigrams: [('-41p', 'pmc72856ey', 'ams'), ('ams', '2377', 'c'), ('pmc72856ey', 'ams', '2377')]\n",
            "Trigrams: [('-42p', 'pmc72789ey', 'ams'), ('ams', '2498', 'c'), ('pmc72789ey', 'ams', '2498')]\n",
            "Trigrams: [('-51', 'ams', '26'), ('ams', '26', 'm')]\n",
            "Trigrams: [('-52', 'ams', '40'), ('ams', '40', 'e')]\n",
            "Trigrams: []\n",
            "Trigrams: []\n",
            "Trigrams: []\n",
            "Trigrams: []\n",
            "Trigrams: []\n",
            "Trigrams: []\n",
            "Trigrams: []\n",
            "Trigrams: [('-al', 'paj10278ey', 'auh'), ('1604', 'c', ''), ('auh', '1604', 'c'), ('paj10278ey', 'auh', '1604')]\n",
            "Trigrams: []\n",
            "Trigrams: [('-bl', 'pmc77470ey', 'auh'), ('1716', 'c', ''), ('auh', '1716', 'c'), ('pmc77470ey', 'auh', '1716')]\n",
            "Trigrams: []\n",
            "Trigrams: [('-cl', 'pmc74878ey', 'auh'), ('1622', 'c', ''), ('auh', '1622', 'c'), ('pmc74878ey', 'auh', '1622')]\n",
            "Trigrams: []\n",
            "Trigrams: [('-dl', 'pmc77652ey', 'auh'), ('1868', 'c', ''), ('auh', '1868', 'c'), ('pmc77652ey', 'auh', '1868')]\n",
            "Trigrams: []\n",
            "Trigrams: [('-el', 'pmc75049ey', 'auh'), ('2028', 'c', ''), ('auh', '2028', 'c'), ('pmc75049ey', 'auh', '2028')]\n",
            "Trigrams: []\n",
            "Trigrams: [('-fl', 'pmc71398ey', 'auh'), ('2105', 'c', ''), ('auh', '2105', 'c'), ('pmc71398ey', 'auh', '2105')]\n",
            "Trigrams: []\n",
            "Trigrams: [('-gl', 'pmc77740ey', 'auh'), ('2266', 'c', ''), ('auh', '2266', 'c'), ('pmc77740ey', 'auh', '2266')]\n",
            "Trigrams: []\n",
            "Trigrams: [('-hl', 'pmc74012ey', 'auh'), ('4138', 'c', ''), ('auh', '4138', 'c'), ('pmc74012ey', 'auh', '4138')]\n",
            "Trigrams: []\n",
            "Trigrams: [('-jl', 'pmc77795ey', 'auh'), ('3516', 'c', ''), ('auh', '3516', 'c'), ('pmc77795ey', 'auh', '3516')]\n",
            "Trigrams: []\n",
            "Trigrams: [('-kl', 'pmc79916ey', 'auh'), ('2522', 'c', ''), ('auh', '2522', 'c'), ('pmc79916ey', 'auh', '2522')]\n",
            "Trigrams: []\n",
            "Trigrams: [('-ll', 'pmc79741ey', 'auh'), ('3416', 'c', ''), ('auh', '3416', 'c'), ('pmc79741ey', 'auh', '3416')]\n",
            "Trigrams: []\n",
            "Trigrams: [('-ml', 'pmc75738ey', 'auh'), ('2454', 'c', ''), ('auh', '2454', 'c'), ('pmc75738ey', 'auh', '2454')]\n",
            "Trigrams: []\n",
            "Trigrams: [('-pl', 'pmc75956ey', 'auh'), ('2564', 'c', ''), ('auh', '2564', 'c'), ('pmc75956ey', 'auh', '2564')]\n",
            "Trigrams: []\n",
            "Trigrams: [('-32l', 'ake25144ey', 'auh'), ('ake25144ey', 'auh', '422'), ('auh', '422', 'c-')]\n",
            "Trigrams: []\n",
            "Trigrams: [('-33l', 'ake29478ey', 'auh'), ('ake29478ey', 'auh', '506'), ('auh', '506', 'c-')]\n",
            "Trigrams: []\n",
            "Trigrams: [('-41l', 'ake26428ey', 'auh'), ('ake26428ey', 'auh', '720'), ('auh', '720', 'c-')]\n",
            "Trigrams: []\n"
          ]
        }
      ],
      "source": [
        "from nltk.collocations import TrigramCollocationFinder\n",
        "from nltk.metrics import TrigramAssocMeasures\n",
        "\n",
        "trigrams_pattern = []\n",
        "\n",
        "for token in tokenized_sent :\n",
        "  for words in token :\n",
        "    trigram_collocation = TrigramCollocationFinder.from_words(words.split('/'))\n",
        "    trigrams_pattern.append(trigram_collocation.nbest(TrigramAssocMeasures.likelihood_ratio,10))\n",
        "    print(\"Trigrams:\", trigram_collocation.nbest(TrigramAssocMeasures.likelihood_ratio,10))"
      ]
    },
    {
      "cell_type": "code",
      "execution_count": null,
      "metadata": {
        "colab": {
          "base_uri": "https://localhost:8080/"
        },
        "id": "Q3orxJRD2aKW",
        "outputId": "37ea934d-3ae5-4743-f1f9-c40639fc4949"
      },
      "outputs": [
        {
          "data": {
            "text/plain": [
              "266"
            ]
          },
          "execution_count": 49,
          "metadata": {},
          "output_type": "execute_result"
        }
      ],
      "source": [
        "len(trigrams_pattern)"
      ]
    },
    {
      "cell_type": "code",
      "execution_count": null,
      "metadata": {
        "id": "lJs6wvlc3QL_"
      },
      "outputs": [],
      "source": [
        "test_error = test_df[test_df['Label']=='__label__error']"
      ]
    },
    {
      "cell_type": "code",
      "execution_count": null,
      "metadata": {
        "id": "pGBEgkK43qB7"
      },
      "outputs": [],
      "source": [
        "test_no_error = test_df[test_df['Label']== '__label__no_error']"
      ]
    },
    {
      "cell_type": "code",
      "execution_count": null,
      "metadata": {
        "colab": {
          "base_uri": "https://localhost:8080/",
          "height": 424
        },
        "id": "d0HRt5i_30ZS",
        "outputId": "34f43ff8-99ec-4474-efd9-645978c5a476"
      },
      "outputs": [
        {
          "data": {
            "text/html": [
              "\n",
              "  <div id=\"df-bc638f07-62db-467c-b5a5-bde67ad2aaba\">\n",
              "    <div class=\"colab-df-container\">\n",
              "      <div>\n",
              "<style scoped>\n",
              "    .dataframe tbody tr th:only-of-type {\n",
              "        vertical-align: middle;\n",
              "    }\n",
              "\n",
              "    .dataframe tbody tr th {\n",
              "        vertical-align: top;\n",
              "    }\n",
              "\n",
              "    .dataframe thead th {\n",
              "        text-align: right;\n",
              "    }\n",
              "</style>\n",
              "<table border=\"1\" class=\"dataframe\">\n",
              "  <thead>\n",
              "    <tr style=\"text-align: right;\">\n",
              "      <th></th>\n",
              "      <th>Message</th>\n",
              "      <th>Label</th>\n",
              "      <th>Label_num</th>\n",
              "    </tr>\n",
              "  </thead>\n",
              "  <tbody>\n",
              "    <tr>\n",
              "      <th>2</th>\n",
              "      <td>SI</td>\n",
              "      <td>__label__no_error</td>\n",
              "      <td>0</td>\n",
              "    </tr>\n",
              "    <tr>\n",
              "      <th>3</th>\n",
              "      <td>BULK/AUH/1764/C</td>\n",
              "      <td>__label__no_error</td>\n",
              "      <td>0</td>\n",
              "    </tr>\n",
              "    <tr>\n",
              "      <th>4</th>\n",
              "      <td>END</td>\n",
              "      <td>__label__no_error</td>\n",
              "      <td>0</td>\n",
              "    </tr>\n",
              "    <tr>\n",
              "      <th>5</th>\n",
              "      <td>CPM</td>\n",
              "      <td>__label__no_error</td>\n",
              "      <td>0</td>\n",
              "    </tr>\n",
              "    <tr>\n",
              "      <th>6</th>\n",
              "      <td>EY015/27.A6BMB.AUH</td>\n",
              "      <td>__label__no_error</td>\n",
              "      <td>0</td>\n",
              "    </tr>\n",
              "    <tr>\n",
              "      <th>...</th>\n",
              "      <td>...</td>\n",
              "      <td>...</td>\n",
              "      <td>...</td>\n",
              "    </tr>\n",
              "    <tr>\n",
              "      <th>136</th>\n",
              "      <td>14/Y2  MIX</td>\n",
              "      <td>__label__no_error</td>\n",
              "      <td>0</td>\n",
              "    </tr>\n",
              "    <tr>\n",
              "      <th>137</th>\n",
              "      <td>15R/P2  MIX</td>\n",
              "      <td>__label__no_error</td>\n",
              "      <td>0</td>\n",
              "    </tr>\n",
              "    <tr>\n",
              "      <th>138</th>\n",
              "      <td>12L/G1  MIX</td>\n",
              "      <td>__label__no_error</td>\n",
              "      <td>0</td>\n",
              "    </tr>\n",
              "    <tr>\n",
              "      <th>139</th>\n",
              "      <td>12R/S  MIX</td>\n",
              "      <td>__label__no_error</td>\n",
              "      <td>0</td>\n",
              "    </tr>\n",
              "    <tr>\n",
              "      <th>142</th>\n",
              "      <td>END  OF  MESSAGE</td>\n",
              "      <td>__label__no_error</td>\n",
              "      <td>0</td>\n",
              "    </tr>\n",
              "  </tbody>\n",
              "</table>\n",
              "<p>137 rows × 3 columns</p>\n",
              "</div>\n",
              "      <button class=\"colab-df-convert\" onclick=\"convertToInteractive('df-bc638f07-62db-467c-b5a5-bde67ad2aaba')\"\n",
              "              title=\"Convert this dataframe to an interactive table.\"\n",
              "              style=\"display:none;\">\n",
              "        \n",
              "  <svg xmlns=\"http://www.w3.org/2000/svg\" height=\"24px\"viewBox=\"0 0 24 24\"\n",
              "       width=\"24px\">\n",
              "    <path d=\"M0 0h24v24H0V0z\" fill=\"none\"/>\n",
              "    <path d=\"M18.56 5.44l.94 2.06.94-2.06 2.06-.94-2.06-.94-.94-2.06-.94 2.06-2.06.94zm-11 1L8.5 8.5l.94-2.06 2.06-.94-2.06-.94L8.5 2.5l-.94 2.06-2.06.94zm10 10l.94 2.06.94-2.06 2.06-.94-2.06-.94-.94-2.06-.94 2.06-2.06.94z\"/><path d=\"M17.41 7.96l-1.37-1.37c-.4-.4-.92-.59-1.43-.59-.52 0-1.04.2-1.43.59L10.3 9.45l-7.72 7.72c-.78.78-.78 2.05 0 2.83L4 21.41c.39.39.9.59 1.41.59.51 0 1.02-.2 1.41-.59l7.78-7.78 2.81-2.81c.8-.78.8-2.07 0-2.86zM5.41 20L4 18.59l7.72-7.72 1.47 1.35L5.41 20z\"/>\n",
              "  </svg>\n",
              "      </button>\n",
              "      \n",
              "  <style>\n",
              "    .colab-df-container {\n",
              "      display:flex;\n",
              "      flex-wrap:wrap;\n",
              "      gap: 12px;\n",
              "    }\n",
              "\n",
              "    .colab-df-convert {\n",
              "      background-color: #E8F0FE;\n",
              "      border: none;\n",
              "      border-radius: 50%;\n",
              "      cursor: pointer;\n",
              "      display: none;\n",
              "      fill: #1967D2;\n",
              "      height: 32px;\n",
              "      padding: 0 0 0 0;\n",
              "      width: 32px;\n",
              "    }\n",
              "\n",
              "    .colab-df-convert:hover {\n",
              "      background-color: #E2EBFA;\n",
              "      box-shadow: 0px 1px 2px rgba(60, 64, 67, 0.3), 0px 1px 3px 1px rgba(60, 64, 67, 0.15);\n",
              "      fill: #174EA6;\n",
              "    }\n",
              "\n",
              "    [theme=dark] .colab-df-convert {\n",
              "      background-color: #3B4455;\n",
              "      fill: #D2E3FC;\n",
              "    }\n",
              "\n",
              "    [theme=dark] .colab-df-convert:hover {\n",
              "      background-color: #434B5C;\n",
              "      box-shadow: 0px 1px 3px 1px rgba(0, 0, 0, 0.15);\n",
              "      filter: drop-shadow(0px 1px 2px rgba(0, 0, 0, 0.3));\n",
              "      fill: #FFFFFF;\n",
              "    }\n",
              "  </style>\n",
              "\n",
              "      <script>\n",
              "        const buttonEl =\n",
              "          document.querySelector('#df-bc638f07-62db-467c-b5a5-bde67ad2aaba button.colab-df-convert');\n",
              "        buttonEl.style.display =\n",
              "          google.colab.kernel.accessAllowed ? 'block' : 'none';\n",
              "\n",
              "        async function convertToInteractive(key) {\n",
              "          const element = document.querySelector('#df-bc638f07-62db-467c-b5a5-bde67ad2aaba');\n",
              "          const dataTable =\n",
              "            await google.colab.kernel.invokeFunction('convertToInteractive',\n",
              "                                                     [key], {});\n",
              "          if (!dataTable) return;\n",
              "\n",
              "          const docLinkHtml = 'Like what you see? Visit the ' +\n",
              "            '<a target=\"_blank\" href=https://colab.research.google.com/notebooks/data_table.ipynb>data table notebook</a>'\n",
              "            + ' to learn more about interactive tables.';\n",
              "          element.innerHTML = '';\n",
              "          dataTable['output_type'] = 'display_data';\n",
              "          await google.colab.output.renderOutput(dataTable, element);\n",
              "          const docLink = document.createElement('div');\n",
              "          docLink.innerHTML = docLinkHtml;\n",
              "          element.appendChild(docLink);\n",
              "        }\n",
              "      </script>\n",
              "    </div>\n",
              "  </div>\n",
              "  "
            ],
            "text/plain": [
              "                 Message              Label  Label_num\n",
              "2                    SI   __label__no_error          0\n",
              "3       BULK/AUH/1764/C   __label__no_error          0\n",
              "4                   END   __label__no_error          0\n",
              "5                   CPM   __label__no_error          0\n",
              "6    EY015/27.A6BMB.AUH   __label__no_error          0\n",
              "..                   ...                ...        ...\n",
              "136          14/Y2  MIX   __label__no_error          0\n",
              "137         15R/P2  MIX   __label__no_error          0\n",
              "138         12L/G1  MIX   __label__no_error          0\n",
              "139          12R/S  MIX   __label__no_error          0\n",
              "142    END  OF  MESSAGE   __label__no_error          0\n",
              "\n",
              "[137 rows x 3 columns]"
            ]
          },
          "execution_count": 54,
          "metadata": {},
          "output_type": "execute_result"
        }
      ],
      "source": [
        "test_no_error"
      ]
    },
    {
      "cell_type": "code",
      "execution_count": null,
      "metadata": {
        "colab": {
          "base_uri": "https://localhost:8080/",
          "height": 269
        },
        "id": "zYQfh2O63nmd",
        "outputId": "6df7fa05-cd02-4902-aacd-7a8c7d0ba20e"
      },
      "outputs": [
        {
          "data": {
            "text/html": [
              "\n",
              "  <div id=\"df-97d34509-3182-45b3-9434-66bf8109e2ec\">\n",
              "    <div class=\"colab-df-container\">\n",
              "      <div>\n",
              "<style scoped>\n",
              "    .dataframe tbody tr th:only-of-type {\n",
              "        vertical-align: middle;\n",
              "    }\n",
              "\n",
              "    .dataframe tbody tr th {\n",
              "        vertical-align: top;\n",
              "    }\n",
              "\n",
              "    .dataframe thead th {\n",
              "        text-align: right;\n",
              "    }\n",
              "</style>\n",
              "<table border=\"1\" class=\"dataframe\">\n",
              "  <thead>\n",
              "    <tr style=\"text-align: right;\">\n",
              "      <th></th>\n",
              "      <th>Message</th>\n",
              "      <th>Label</th>\n",
              "      <th>Label_num</th>\n",
              "    </tr>\n",
              "  </thead>\n",
              "  <tbody>\n",
              "    <tr>\n",
              "      <th>0</th>\n",
              "      <td>-41P/PMC74049EY/AUH/3576/C/LD</td>\n",
              "      <td>__label__error</td>\n",
              "      <td>1</td>\n",
              "    </tr>\n",
              "    <tr>\n",
              "      <th>1</th>\n",
              "      <td>-42P/PMC74557EY/AUH/3652/C/LD</td>\n",
              "      <td>__label__error</td>\n",
              "      <td>1</td>\n",
              "    </tr>\n",
              "    <tr>\n",
              "      <th>122</th>\n",
              "      <td>-44L/AKE25133EY/AUH/1210/C.HE...</td>\n",
              "      <td>__label__error</td>\n",
              "      <td>1</td>\n",
              "    </tr>\n",
              "    <tr>\n",
              "      <th>123</th>\n",
              "      <td>HEA.PEP</td>\n",
              "      <td>__label__error</td>\n",
              "      <td>1</td>\n",
              "    </tr>\n",
              "    <tr>\n",
              "      <th>140</th>\n",
              "      <td>BULK</td>\n",
              "      <td>__label__error</td>\n",
              "      <td>1</td>\n",
              "    </tr>\n",
              "    <tr>\n",
              "      <th>141</th>\n",
              "      <td>BJ-09//G2  -09//G1-06//R2-05</td>\n",
              "      <td>__label__error</td>\n",
              "      <td>1</td>\n",
              "    </tr>\n",
              "    <tr>\n",
              "      <th>143</th>\n",
              "      <td>\"\"</td>\n",
              "      <td>__label__error</td>\n",
              "      <td>1</td>\n",
              "    </tr>\n",
              "  </tbody>\n",
              "</table>\n",
              "</div>\n",
              "      <button class=\"colab-df-convert\" onclick=\"convertToInteractive('df-97d34509-3182-45b3-9434-66bf8109e2ec')\"\n",
              "              title=\"Convert this dataframe to an interactive table.\"\n",
              "              style=\"display:none;\">\n",
              "        \n",
              "  <svg xmlns=\"http://www.w3.org/2000/svg\" height=\"24px\"viewBox=\"0 0 24 24\"\n",
              "       width=\"24px\">\n",
              "    <path d=\"M0 0h24v24H0V0z\" fill=\"none\"/>\n",
              "    <path d=\"M18.56 5.44l.94 2.06.94-2.06 2.06-.94-2.06-.94-.94-2.06-.94 2.06-2.06.94zm-11 1L8.5 8.5l.94-2.06 2.06-.94-2.06-.94L8.5 2.5l-.94 2.06-2.06.94zm10 10l.94 2.06.94-2.06 2.06-.94-2.06-.94-.94-2.06-.94 2.06-2.06.94z\"/><path d=\"M17.41 7.96l-1.37-1.37c-.4-.4-.92-.59-1.43-.59-.52 0-1.04.2-1.43.59L10.3 9.45l-7.72 7.72c-.78.78-.78 2.05 0 2.83L4 21.41c.39.39.9.59 1.41.59.51 0 1.02-.2 1.41-.59l7.78-7.78 2.81-2.81c.8-.78.8-2.07 0-2.86zM5.41 20L4 18.59l7.72-7.72 1.47 1.35L5.41 20z\"/>\n",
              "  </svg>\n",
              "      </button>\n",
              "      \n",
              "  <style>\n",
              "    .colab-df-container {\n",
              "      display:flex;\n",
              "      flex-wrap:wrap;\n",
              "      gap: 12px;\n",
              "    }\n",
              "\n",
              "    .colab-df-convert {\n",
              "      background-color: #E8F0FE;\n",
              "      border: none;\n",
              "      border-radius: 50%;\n",
              "      cursor: pointer;\n",
              "      display: none;\n",
              "      fill: #1967D2;\n",
              "      height: 32px;\n",
              "      padding: 0 0 0 0;\n",
              "      width: 32px;\n",
              "    }\n",
              "\n",
              "    .colab-df-convert:hover {\n",
              "      background-color: #E2EBFA;\n",
              "      box-shadow: 0px 1px 2px rgba(60, 64, 67, 0.3), 0px 1px 3px 1px rgba(60, 64, 67, 0.15);\n",
              "      fill: #174EA6;\n",
              "    }\n",
              "\n",
              "    [theme=dark] .colab-df-convert {\n",
              "      background-color: #3B4455;\n",
              "      fill: #D2E3FC;\n",
              "    }\n",
              "\n",
              "    [theme=dark] .colab-df-convert:hover {\n",
              "      background-color: #434B5C;\n",
              "      box-shadow: 0px 1px 3px 1px rgba(0, 0, 0, 0.15);\n",
              "      filter: drop-shadow(0px 1px 2px rgba(0, 0, 0, 0.3));\n",
              "      fill: #FFFFFF;\n",
              "    }\n",
              "  </style>\n",
              "\n",
              "      <script>\n",
              "        const buttonEl =\n",
              "          document.querySelector('#df-97d34509-3182-45b3-9434-66bf8109e2ec button.colab-df-convert');\n",
              "        buttonEl.style.display =\n",
              "          google.colab.kernel.accessAllowed ? 'block' : 'none';\n",
              "\n",
              "        async function convertToInteractive(key) {\n",
              "          const element = document.querySelector('#df-97d34509-3182-45b3-9434-66bf8109e2ec');\n",
              "          const dataTable =\n",
              "            await google.colab.kernel.invokeFunction('convertToInteractive',\n",
              "                                                     [key], {});\n",
              "          if (!dataTable) return;\n",
              "\n",
              "          const docLinkHtml = 'Like what you see? Visit the ' +\n",
              "            '<a target=\"_blank\" href=https://colab.research.google.com/notebooks/data_table.ipynb>data table notebook</a>'\n",
              "            + ' to learn more about interactive tables.';\n",
              "          element.innerHTML = '';\n",
              "          dataTable['output_type'] = 'display_data';\n",
              "          await google.colab.output.renderOutput(dataTable, element);\n",
              "          const docLink = document.createElement('div');\n",
              "          docLink.innerHTML = docLinkHtml;\n",
              "          element.appendChild(docLink);\n",
              "        }\n",
              "      </script>\n",
              "    </div>\n",
              "  </div>\n",
              "  "
            ],
            "text/plain": [
              "                              Message           Label  Label_num\n",
              "0      -41P/PMC74049EY/AUH/3576/C/LD   __label__error          1\n",
              "1      -42P/PMC74557EY/AUH/3652/C/LD   __label__error          1\n",
              "122  -44L/AKE25133EY/AUH/1210/C.HE...  __label__error          1\n",
              "123                          HEA.PEP   __label__error          1\n",
              "140                             BULK   __label__error          1\n",
              "141     BJ-09//G2  -09//G1-06//R2-05   __label__error          1\n",
              "143                               \"\"   __label__error          1"
            ]
          },
          "execution_count": 52,
          "metadata": {},
          "output_type": "execute_result"
        }
      ],
      "source": [
        "test_error"
      ]
    },
    {
      "cell_type": "code",
      "source": [
        "test_df"
      ],
      "metadata": {
        "colab": {
          "base_uri": "https://localhost:8080/",
          "height": 424
        },
        "id": "aZsD2sFPfw7g",
        "outputId": "38851db8-2d86-4b10-ed7d-5a96a5398596"
      },
      "execution_count": null,
      "outputs": [
        {
          "output_type": "execute_result",
          "data": {
            "text/plain": [
              "                            Message              Label\n",
              "0    -41P/PMC74049EY/AUH/3576/C/LD      __label__error\n",
              "1    -42P/PMC74557EY/AUH/3652/C/LD      __label__error\n",
              "2                               SI   __label__no_error\n",
              "3                  BULK/AUH/1764/C   __label__no_error\n",
              "4                              END   __label__no_error\n",
              "..                              ...                ...\n",
              "139                     12R/S  MIX   __label__no_error\n",
              "140                           BULK      __label__error\n",
              "141   BJ-09//G2  -09//G1-06//R2-05      __label__error\n",
              "142               END  OF  MESSAGE   __label__no_error\n",
              "143                             \"\"      __label__error\n",
              "\n",
              "[144 rows x 2 columns]"
            ],
            "text/html": [
              "\n",
              "  <div id=\"df-626625e0-6608-46a1-92e3-695c0eb859fa\">\n",
              "    <div class=\"colab-df-container\">\n",
              "      <div>\n",
              "<style scoped>\n",
              "    .dataframe tbody tr th:only-of-type {\n",
              "        vertical-align: middle;\n",
              "    }\n",
              "\n",
              "    .dataframe tbody tr th {\n",
              "        vertical-align: top;\n",
              "    }\n",
              "\n",
              "    .dataframe thead th {\n",
              "        text-align: right;\n",
              "    }\n",
              "</style>\n",
              "<table border=\"1\" class=\"dataframe\">\n",
              "  <thead>\n",
              "    <tr style=\"text-align: right;\">\n",
              "      <th></th>\n",
              "      <th>Message</th>\n",
              "      <th>Label</th>\n",
              "    </tr>\n",
              "  </thead>\n",
              "  <tbody>\n",
              "    <tr>\n",
              "      <th>0</th>\n",
              "      <td>-41P/PMC74049EY/AUH/3576/C/LD</td>\n",
              "      <td>__label__error</td>\n",
              "    </tr>\n",
              "    <tr>\n",
              "      <th>1</th>\n",
              "      <td>-42P/PMC74557EY/AUH/3652/C/LD</td>\n",
              "      <td>__label__error</td>\n",
              "    </tr>\n",
              "    <tr>\n",
              "      <th>2</th>\n",
              "      <td>SI</td>\n",
              "      <td>__label__no_error</td>\n",
              "    </tr>\n",
              "    <tr>\n",
              "      <th>3</th>\n",
              "      <td>BULK/AUH/1764/C</td>\n",
              "      <td>__label__no_error</td>\n",
              "    </tr>\n",
              "    <tr>\n",
              "      <th>4</th>\n",
              "      <td>END</td>\n",
              "      <td>__label__no_error</td>\n",
              "    </tr>\n",
              "    <tr>\n",
              "      <th>...</th>\n",
              "      <td>...</td>\n",
              "      <td>...</td>\n",
              "    </tr>\n",
              "    <tr>\n",
              "      <th>139</th>\n",
              "      <td>12R/S  MIX</td>\n",
              "      <td>__label__no_error</td>\n",
              "    </tr>\n",
              "    <tr>\n",
              "      <th>140</th>\n",
              "      <td>BULK</td>\n",
              "      <td>__label__error</td>\n",
              "    </tr>\n",
              "    <tr>\n",
              "      <th>141</th>\n",
              "      <td>BJ-09//G2  -09//G1-06//R2-05</td>\n",
              "      <td>__label__error</td>\n",
              "    </tr>\n",
              "    <tr>\n",
              "      <th>142</th>\n",
              "      <td>END  OF  MESSAGE</td>\n",
              "      <td>__label__no_error</td>\n",
              "    </tr>\n",
              "    <tr>\n",
              "      <th>143</th>\n",
              "      <td>\"\"</td>\n",
              "      <td>__label__error</td>\n",
              "    </tr>\n",
              "  </tbody>\n",
              "</table>\n",
              "<p>144 rows × 2 columns</p>\n",
              "</div>\n",
              "      <button class=\"colab-df-convert\" onclick=\"convertToInteractive('df-626625e0-6608-46a1-92e3-695c0eb859fa')\"\n",
              "              title=\"Convert this dataframe to an interactive table.\"\n",
              "              style=\"display:none;\">\n",
              "        \n",
              "  <svg xmlns=\"http://www.w3.org/2000/svg\" height=\"24px\"viewBox=\"0 0 24 24\"\n",
              "       width=\"24px\">\n",
              "    <path d=\"M0 0h24v24H0V0z\" fill=\"none\"/>\n",
              "    <path d=\"M18.56 5.44l.94 2.06.94-2.06 2.06-.94-2.06-.94-.94-2.06-.94 2.06-2.06.94zm-11 1L8.5 8.5l.94-2.06 2.06-.94-2.06-.94L8.5 2.5l-.94 2.06-2.06.94zm10 10l.94 2.06.94-2.06 2.06-.94-2.06-.94-.94-2.06-.94 2.06-2.06.94z\"/><path d=\"M17.41 7.96l-1.37-1.37c-.4-.4-.92-.59-1.43-.59-.52 0-1.04.2-1.43.59L10.3 9.45l-7.72 7.72c-.78.78-.78 2.05 0 2.83L4 21.41c.39.39.9.59 1.41.59.51 0 1.02-.2 1.41-.59l7.78-7.78 2.81-2.81c.8-.78.8-2.07 0-2.86zM5.41 20L4 18.59l7.72-7.72 1.47 1.35L5.41 20z\"/>\n",
              "  </svg>\n",
              "      </button>\n",
              "      \n",
              "  <style>\n",
              "    .colab-df-container {\n",
              "      display:flex;\n",
              "      flex-wrap:wrap;\n",
              "      gap: 12px;\n",
              "    }\n",
              "\n",
              "    .colab-df-convert {\n",
              "      background-color: #E8F0FE;\n",
              "      border: none;\n",
              "      border-radius: 50%;\n",
              "      cursor: pointer;\n",
              "      display: none;\n",
              "      fill: #1967D2;\n",
              "      height: 32px;\n",
              "      padding: 0 0 0 0;\n",
              "      width: 32px;\n",
              "    }\n",
              "\n",
              "    .colab-df-convert:hover {\n",
              "      background-color: #E2EBFA;\n",
              "      box-shadow: 0px 1px 2px rgba(60, 64, 67, 0.3), 0px 1px 3px 1px rgba(60, 64, 67, 0.15);\n",
              "      fill: #174EA6;\n",
              "    }\n",
              "\n",
              "    [theme=dark] .colab-df-convert {\n",
              "      background-color: #3B4455;\n",
              "      fill: #D2E3FC;\n",
              "    }\n",
              "\n",
              "    [theme=dark] .colab-df-convert:hover {\n",
              "      background-color: #434B5C;\n",
              "      box-shadow: 0px 1px 3px 1px rgba(0, 0, 0, 0.15);\n",
              "      filter: drop-shadow(0px 1px 2px rgba(0, 0, 0, 0.3));\n",
              "      fill: #FFFFFF;\n",
              "    }\n",
              "  </style>\n",
              "\n",
              "      <script>\n",
              "        const buttonEl =\n",
              "          document.querySelector('#df-626625e0-6608-46a1-92e3-695c0eb859fa button.colab-df-convert');\n",
              "        buttonEl.style.display =\n",
              "          google.colab.kernel.accessAllowed ? 'block' : 'none';\n",
              "\n",
              "        async function convertToInteractive(key) {\n",
              "          const element = document.querySelector('#df-626625e0-6608-46a1-92e3-695c0eb859fa');\n",
              "          const dataTable =\n",
              "            await google.colab.kernel.invokeFunction('convertToInteractive',\n",
              "                                                     [key], {});\n",
              "          if (!dataTable) return;\n",
              "\n",
              "          const docLinkHtml = 'Like what you see? Visit the ' +\n",
              "            '<a target=\"_blank\" href=https://colab.research.google.com/notebooks/data_table.ipynb>data table notebook</a>'\n",
              "            + ' to learn more about interactive tables.';\n",
              "          element.innerHTML = '';\n",
              "          dataTable['output_type'] = 'display_data';\n",
              "          await google.colab.output.renderOutput(dataTable, element);\n",
              "          const docLink = document.createElement('div');\n",
              "          docLink.innerHTML = docLinkHtml;\n",
              "          element.appendChild(docLink);\n",
              "        }\n",
              "      </script>\n",
              "    </div>\n",
              "  </div>\n",
              "  "
            ]
          },
          "metadata": {},
          "execution_count": 45
        }
      ]
    },
    {
      "cell_type": "code",
      "source": [
        "test_set[0] = {'a': '-41P/PMC74049EY/AUH/3576/'}"
      ],
      "metadata": {
        "id": "GRu7wGFFf5Dm"
      },
      "execution_count": null,
      "outputs": []
    },
    {
      "cell_type": "code",
      "source": [
        "test_set"
      ],
      "metadata": {
        "colab": {
          "base_uri": "https://localhost:8080/"
        },
        "id": "1hstt5uRgIgi",
        "outputId": "e6cdff7b-5b93-41cd-97f9-e74a9fb80f5c"
      },
      "execution_count": null,
      "outputs": [
        {
          "output_type": "execute_result",
          "data": {
            "text/plain": [
              "[{'a': '-41P/PMC74049EY/AUH/3576/'},\n",
              " {'a': '-42P/PMC74557EY/AUH/3652/C/LD '},\n",
              " {'a': 'SI '},\n",
              " {'a': 'BULK/AUH/1764/C '},\n",
              " {'a': 'END '},\n",
              " {'a': 'CPM '},\n",
              " {'a': 'EY015/27.A6BMB.AUH '},\n",
              " {'a': '-21P/N '},\n",
              " {'a': '-22P/PMC71680EY/AUH/1820/X...'},\n",
              " {'a': '-23P/PMC76052EY/AUH/1869/M '},\n",
              " {'a': '-31P/PMC75338EY/AUH/2340/X...'},\n",
              " {'a': '-32P/N '},\n",
              " {'a': '-41L/AKE26177EY/AUH/113/C '},\n",
              " {'a': '-41R/N '},\n",
              " {'a': '-42L/AKE23927EY/AUH/609/M '},\n",
              " {'a': '-42R/AKE29769EY/AUH/953/M '},\n",
              " {'a': '-43/ALF41072EY/AUH/1534/M '},\n",
              " {'a': '-44L/600/E.EIC '},\n",
              " {'a': '-44R/AKE23963EY/AUH/778/M '},\n",
              " {'a': '-51/N '},\n",
              " {'a': '-52/N '},\n",
              " {'a': '-53/N '},\n",
              " {'a': 'SI  44L  FSK '},\n",
              " {'a': 'CPM '},\n",
              " {'a': 'EY917/08.A6DDB.AUH '},\n",
              " {'a': '-AL/PAJ10367EY/AMS/2207/C....'},\n",
              " {'a': '-AR/PMC70521EY/AMS/1925/C '},\n",
              " {'a': '-BL/HML00610EJ/AMS/2850/C....'},\n",
              " {'a': '-BR/PMC77052EY/AMS/1505/C....'},\n",
              " {'a': '-CL/HML00662EJ/AMS/2710/C....'},\n",
              " {'a': '-CR/PMC73662EY/AMS/1780/C....'},\n",
              " {'a': '-DL/HML00683EJ/AMS/2710/C....'},\n",
              " {'a': '-DR/PMC79883EY/AMS/2130/C '},\n",
              " {'a': '-EL/HML00914EJ/AMS/2710/C....'},\n",
              " {'a': '-ER/PMC72276EY/AMS/2340/C '},\n",
              " {'a': '-FL/HML00920EJ/AMS/2710/C....'},\n",
              " {'a': '-11P/PMC71010EY/MAN/1274/C '},\n",
              " {'a': '-12L/AKE/MAN/551/BJ1-12R/N '},\n",
              " {'a': '-13L/AKE61670EY/MAN/692/BY...'},\n",
              " {'a': '-14L/AKE71350EY/MAN/692/BY...'},\n",
              " {'a': '-15L/AKE25950EY/MAN/846/BY...'},\n",
              " {'a': '-21L/AKE29738EY/MAN/714/BY...'},\n",
              " {'a': '-22L/AKE26340EY/MAN/530/BY...'},\n",
              " {'a': '-23L/AKE26172EY/MAN/678/BY...'},\n",
              " {'a': '-24L/AKE23878EY/MAN/808/BY...'},\n",
              " {'a': '-25L/AKE24749EY/MAN/677/BY...'},\n",
              " {'a': '-26/PLA30554EY/MAN/730/C '},\n",
              " {'a': '-31P/PMC72713EY/MAN/1055/C '},\n",
              " {'a': '-32P/PMC76166EY/MAN/1338/C '},\n",
              " {'a': '-33P/PMC75518EY/MAN/1625/C '},\n",
              " {'a': '-41P/PMC75891EY/MAN/1655/C...'},\n",
              " {'a': '-42P/PMC72929EY/MAN/2448/C '},\n",
              " {'a': '-43P/PMC70141EY/MAN/2328/C '},\n",
              " {'a': '-5/MAN/176/BY/323/C/D.ICE....'},\n",
              " {'a': 'SI  AUH-MAN '},\n",
              " {'a': '2L/BJ '},\n",
              " {'a': '4R/BJ '},\n",
              " {'a': '13R/WBL  (WITHOUT  BATTERY) '},\n",
              " {'a': 'CPT5/BT/4 '},\n",
              " {'a': 'CPT5/D/11 '},\n",
              " {'a': 'CPT5/BLA '},\n",
              " {'a': 'END  OF  MESSAGE '},\n",
              " {'a': 'CPM '},\n",
              " {'a': 'EY980/21.A6DDD.HAN '},\n",
              " {'a': '-AL/PMC72080EY/AUH/2140/C....'},\n",
              " {'a': '-AR/PMC72598EY/AUH/2075/C....'},\n",
              " {'a': '-BL/PMC01688EY/AUH/940/C.P...'},\n",
              " {'a': '-BR/PMC77738EY/AUH/1075/C....'},\n",
              " {'a': '-CL/PMC73643EY/AUH/1185/C....'},\n",
              " {'a': '-CR/PMC74359EY/AUH/1150/C....'},\n",
              " {'a': '-DL/PMC73318EY/AUH/1200/C....'},\n",
              " {'a': '-DR/PMC01288EY/AUH/1080/C....'},\n",
              " {'a': '-EL/PMC70003EY/AUH/1373/C....'},\n",
              " {'a': '-ER/PMC75846EY/AUH/1340/C....'},\n",
              " {'a': '-FL/PMC73543EY/AUH/1465/C....'},\n",
              " {'a': '-FR/PMC75325EY/AUH/1385/C....'},\n",
              " {'a': '-GL/PMC70895EY/AUH/2780/C....'},\n",
              " {'a': '-GR/PMC75041EY/AUH/2855/C....'},\n",
              " {'a': '-HL/PMC75669EY/AUH/1700/C....'},\n",
              " {'a': '-HR/PMC76114EY/AUH/2030/C....'},\n",
              " {'a': '-JL/PMC74821EY/AUH/2120/C....'},\n",
              " {'a': '-JR/PMC74840EY/AUH/2385/C....'},\n",
              " {'a': '-KL/PMC72929EY/AUH/2395/C....'},\n",
              " {'a': '-KR/PMC71648EY/AUH/2697/C....'},\n",
              " {'a': '-LL/PMC75633EY/AUH/2645/C....'},\n",
              " {'a': '-LR/PMC70141EY/AUH/2750/C....'},\n",
              " {'a': '-ML/PMC72747EY/AUH/1565/C....'},\n",
              " {'a': '-MR/PMC74869EY/AUH/1640/C....'},\n",
              " {'a': '-PL/PMC01325EY/AUH/3715/C....'},\n",
              " {'a': '-PR/PMC75955EY/AUH/2975/C....'},\n",
              " {'a': '-R/PMC75584EY/AUH/1960/C.H...'},\n",
              " {'a': '-11P/PMC74085EY/AUH/630/C   '},\n",
              " {'a': '-12P/PMC73677EY/AUH/1415/C...'},\n",
              " {'a': '-13P/PMC70052EY/AUH/1435/C...'},\n",
              " {'a': '-21P/PMC75081EY/AUH/1510/C...'},\n",
              " {'a': '-22P/PMC76497EY/AUH/1623/C...'},\n",
              " {'a': '-23P/PMC71238EY/AUH/2040/C...'},\n",
              " {'a': '-31P/PMC73328EY/AUH/2195/C...'},\n",
              " {'a': '-33/PLA30134EY/AUH/465/C.E...'},\n",
              " {'a': '-41L/AKE26381EY/AUH/191/C '},\n",
              " {'a': '-41R/N '},\n",
              " {'a': '-41P/PMC77223EY/AUH/2225/C...'},\n",
              " {'a': '-42P/PMC76628EY/AUH/2355/C...'},\n",
              " {'a': '-51/N '},\n",
              " {'a': '-52/N '},\n",
              " {'a': '-53/N '},\n",
              " {'a': 'CPM '},\n",
              " {'a': 'EY217/27.A6BLO '},\n",
              " {'a': '-11/PLA30312EY/AUH/740/C '},\n",
              " {'a': '-12L/AKE61053EY/AUH/398/BY...'},\n",
              " {'a': '-13L/AKE22251EY/AUH/400/BY...'},\n",
              " {'a': '-14L/AKE29757EY/AUH/382/BY...'},\n",
              " {'a': '-15L/AKE24430EY/AUH/550/C-...'},\n",
              " {'a': '-21P/PMC79087EY/AUH/2245/C...'},\n",
              " {'a': '-22P/PMC77726EY/AUH/2345/C...'},\n",
              " {'a': '-23P/PMC76458EY/AUH/2350/C...'},\n",
              " {'a': '-31P/PMC72113EY/AUH/2360/C...'},\n",
              " {'a': '-32P/PAJ10558EY/AUH/1775/C...'},\n",
              " {'a': '-34L/AKE24141EY/AUH/600/BY...'},\n",
              " {'a': '-41L/AKE70871EY/AUH/247/BY...'},\n",
              " {'a': '-42L/AKE26131EY/AUH/300/BY...'},\n",
              " {'a': '-43L/AKE29267EY/AUH/1200/C...'},\n",
              " {'a': '-44L/AKE25133EY/AUH/1210/C.HE...'},\n",
              " {'a': 'HEA.PEP '},\n",
              " {'a': '-5/AUH/587/BJ/125/BY.VR4 '},\n",
              " {'a': 'SI  BLR-AUH '},\n",
              " {'a': '34L/BY '},\n",
              " {'a': '34R/BY '},\n",
              " {'a': '41L/BY '},\n",
              " {'a': '41R/BY '},\n",
              " {'a': '43R/EY653/G1 '},\n",
              " {'a': '42R/EY25/P2 '},\n",
              " {'a': '13R/EY97/G1 '},\n",
              " {'a': '13L/EY131/US '},\n",
              " {'a': '14R/EY101/US '},\n",
              " {'a': '42L/EY151/ORD/S '},\n",
              " {'a': '14/Y2  MIX '},\n",
              " {'a': '15R/P2  MIX '},\n",
              " {'a': '12L/G1  MIX '},\n",
              " {'a': '12R/S  MIX '},\n",
              " {'a': 'BULK '},\n",
              " {'a': 'BJ-09//G2  -09//G1-06//R2-05 '},\n",
              " {'a': 'END  OF  MESSAGE '},\n",
              " {'a': '\"\" '}]"
            ]
          },
          "metadata": {},
          "execution_count": 50
        }
      ]
    },
    {
      "cell_type": "code",
      "execution_count": null,
      "metadata": {
        "id": "kK4IIsoM33gY"
      },
      "outputs": [],
      "source": [
        "## Splitting in bigram and trigram for the test data."
      ]
    },
    {
      "cell_type": "code",
      "execution_count": null,
      "metadata": {
        "colab": {
          "base_uri": "https://localhost:8080/"
        },
        "id": "AqK13w9k4BNt",
        "outputId": "04fd65f1-8e44-4fd4-bb4c-d7890767ff40"
      },
      "outputs": [
        {
          "name": "stdout",
          "output_type": "stream",
          "text": [
            "[['si'], ['bulk/auh/1764/c'], ['end'], ['cpm'], ['ey015/27.a6bmb.auh'], ['-21p/n'], ['-22p/pmc71680ey/auh/1820/x', '...'], ['-23p/pmc76052ey/auh/1869/m'], ['-31p/pmc75338ey/auh/2340/x', '...'], ['-32p/n'], ['-41l/ake26177ey/auh/113/c'], ['-41r/n'], ['-42l/ake23927ey/auh/609/m'], ['-42r/ake29769ey/auh/953/m'], ['-43/alf41072ey/auh/1534/m'], ['-44l/600/e.eic'], ['-44r/ake23963ey/auh/778/m'], ['-51/n'], ['-52/n'], ['-53/n'], ['si', '44l', 'fsk'], ['cpm'], ['ey917/08.a6ddb.auh'], ['-al/paj10367ey/ams/2207/c', '....'], ['-ar/pmc70521ey/ams/1925/c'], ['-bl/hml00610ej/ams/2850/c', '....'], ['-br/pmc77052ey/ams/1505/c', '....'], ['-cl/hml00662ej/ams/2710/c', '....'], ['-cr/pmc73662ey/ams/1780/c', '....'], ['-dl/hml00683ej/ams/2710/c', '....'], ['-dr/pmc79883ey/ams/2130/c'], ['-el/hml00914ej/ams/2710/c', '....'], ['-er/pmc72276ey/ams/2340/c'], ['-fl/hml00920ej/ams/2710/c', '....'], ['-11p/pmc71010ey/man/1274/c'], ['-12l/ake/man/551/bj1-12r/n'], ['-13l/ake61670ey/man/692/by', '...'], ['-14l/ake71350ey/man/692/by', '...'], ['-15l/ake25950ey/man/846/by', '...'], ['-21l/ake29738ey/man/714/by', '...'], ['-22l/ake26340ey/man/530/by', '...'], ['-23l/ake26172ey/man/678/by', '...'], ['-24l/ake23878ey/man/808/by', '...'], ['-25l/ake24749ey/man/677/by', '...'], ['-26/pla30554ey/man/730/c'], ['-31p/pmc72713ey/man/1055/c'], ['-32p/pmc76166ey/man/1338/c'], ['-33p/pmc75518ey/man/1625/c'], ['-41p/pmc75891ey/man/1655/c', '...'], ['-42p/pmc72929ey/man/2448/c'], ['-43p/pmc70141ey/man/2328/c'], ['-5/man/176/by/323/c/d.ice', '....'], ['si', 'auh-man'], ['2l/bj'], ['4r/bj'], ['13r/wbl', '(', 'without', 'battery', ')'], ['cpt5/bt/4'], ['cpt5/d/11'], ['cpt5/bla'], ['end', 'of', 'message'], ['cpm'], ['ey980/21.a6ddd.han'], ['-al/pmc72080ey/auh/2140/c', '....'], ['-ar/pmc72598ey/auh/2075/c', '....'], ['-bl/pmc01688ey/auh/940/c.p', '...'], ['-br/pmc77738ey/auh/1075/c', '....'], ['-cl/pmc73643ey/auh/1185/c', '....'], ['-cr/pmc74359ey/auh/1150/c', '....'], ['-dl/pmc73318ey/auh/1200/c', '....'], ['-dr/pmc01288ey/auh/1080/c', '....'], ['-el/pmc70003ey/auh/1373/c', '....'], ['-er/pmc75846ey/auh/1340/c', '....'], ['-fl/pmc73543ey/auh/1465/c', '....'], ['-fr/pmc75325ey/auh/1385/c', '....'], ['-gl/pmc70895ey/auh/2780/c', '....'], ['-gr/pmc75041ey/auh/2855/c', '....'], ['-hl/pmc75669ey/auh/1700/c', '....'], ['-hr/pmc76114ey/auh/2030/c', '....'], ['-jl/pmc74821ey/auh/2120/c', '....'], ['-jr/pmc74840ey/auh/2385/c', '....'], ['-kl/pmc72929ey/auh/2395/c', '....'], ['-kr/pmc71648ey/auh/2697/c', '....'], ['-ll/pmc75633ey/auh/2645/c', '....'], ['-lr/pmc70141ey/auh/2750/c', '....'], ['-ml/pmc72747ey/auh/1565/c', '....'], ['-mr/pmc74869ey/auh/1640/c', '....'], ['-pl/pmc01325ey/auh/3715/c', '....'], ['-pr/pmc75955ey/auh/2975/c', '....'], ['-r/pmc75584ey/auh/1960/c.h', '...'], ['-11p/pmc74085ey/auh/630/c'], ['-12p/pmc73677ey/auh/1415/c', '...'], ['-13p/pmc70052ey/auh/1435/c', '...'], ['-21p/pmc75081ey/auh/1510/c', '...'], ['-22p/pmc76497ey/auh/1623/c', '...'], ['-23p/pmc71238ey/auh/2040/c', '...'], ['-31p/pmc73328ey/auh/2195/c', '...'], ['-33/pla30134ey/auh/465/c.e', '...'], ['-41l/ake26381ey/auh/191/c'], ['-41r/n'], ['-41p/pmc77223ey/auh/2225/c', '...'], ['-42p/pmc76628ey/auh/2355/c', '...'], ['-51/n'], ['-52/n'], ['-53/n'], ['cpm'], ['ey217/27.a6blo'], ['-11/pla30312ey/auh/740/c'], ['-12l/ake61053ey/auh/398/by', '...'], ['-13l/ake22251ey/auh/400/by', '...'], ['-14l/ake29757ey/auh/382/by', '...'], ['-15l/ake24430ey/auh/550/c-', '...'], ['-21p/pmc79087ey/auh/2245/c', '...'], ['-22p/pmc77726ey/auh/2345/c', '...'], ['-23p/pmc76458ey/auh/2350/c', '...'], ['-31p/pmc72113ey/auh/2360/c', '...'], ['-32p/paj10558ey/auh/1775/c', '...'], ['-34l/ake24141ey/auh/600/by', '...'], ['-41l/ake70871ey/auh/247/by', '...'], ['-42l/ake26131ey/auh/300/by', '...'], ['-43l/ake29267ey/auh/1200/c', '...'], ['-5/auh/587/bj/125/by.vr4'], ['si', 'blr-auh'], ['34l/by'], ['34r/by'], ['41l/by'], ['41r/by'], ['43r/ey653/g1'], ['42r/ey25/p2'], ['13r/ey97/g1'], ['13l/ey131/us'], ['14r/ey101/us'], ['42l/ey151/ord/s'], ['14/y2', 'mix'], ['15r/p2', 'mix'], ['12l/g1', 'mix'], ['12r/s', 'mix'], ['end', 'of', 'message']]\n"
          ]
        }
      ],
      "source": [
        "sentences = test_no_error['Message'].tolist()\n",
        "\n",
        "tokenized_sent = []\n",
        "for s in sentences:\n",
        "    tokenized_sent.append(word_tokenize(s.lower()))\n",
        "print(tokenized_sent)"
      ]
    },
    {
      "cell_type": "code",
      "source": [
        "sentences = cpm_incorrect_format_txt[0].tolist()\n",
        "\n",
        "tokenized_sent = []\n",
        "for s in sentences:\n",
        "    tokenized_sent.append(word_tokenize(s.lower()))\n",
        "print(tokenized_sent)"
      ],
      "metadata": {
        "colab": {
          "base_uri": "https://localhost:8080/"
        },
        "id": "IFHrT60C0owG",
        "outputId": "5eef4ab0-b502-4873-c48b-13ccf3c4afe8"
      },
      "execution_count": null,
      "outputs": [
        {
          "output_type": "stream",
          "name": "stdout",
          "text": [
            "[['cpm'], ['ey956/28.a6ddd.auh'], ['-al/paj10229ey/jnb/2280/c.elm'], ['-ar/pmc77270ey/jnb/1540/c'], ['-bl/pmc77913ey/jnb/1235/c'], ['-br/pmc77717ey/jnb/1250/c'], ['-cl/pmc70333ey/jnb/1420/c'], ['-cr/pmc75544ey/jnb/1440/c.eli'], ['-dl/pmc76410ey/jnb/1475/c'], ['-dr/pmc76297ey/jnb/1605/c'], ['-el/pmc77378ey/jnb/1770/c'], ['-er/pmc76550ey/nbo/1820/c'], ['-fl/pmc72704ey/jnb/1920/c.rfl.eli'], ['-fr/pmc74296ey/jnb/2085/c'], ['-gl/pmc74420ey/jnb/2330/c'], ['-gr/pmc77514ey/jnb/2245/c'], ['-hl/pmc74075ey/jnb/5105/c'], ['-hr/pmc75724ey/jnb/4850/c.eli'], ['-jl/pmc74745ey/jnb/2525/c.eli'], ['-jr/pmc73455ey/jnb/2375/c'], ['-kl/pmc79972ey/jnb/2745/c.eli.vun'], ['-kr/pmc01321ey/jnb/2760/c'], ['-ll/amj61411fx/jnb/3430/c'], ['-lr/pmc77668ey/jnb/2825/c.eli.vun'], ['-ml/pmc76713ey/jnb/3410/c'], ['-mr/pmc76683ey/jnb/3230/c'], ['-pl/pmc70975ey/jnb/2605/c.eli.elm'], ['-pr/pmc72324ey/jnb/3325/c'], ['-r/pmc71330ey/jnb/2995/c'], ['-11p/pmc76662ey/jnb/1040/c'], ['-12p/pmc74847ey/jnb/1670/c.eli.vun'], ['-13p/pmc77256ey/jnb/2265/c'], ['-21p/pmc72134ey/jnb/2475/c'], ['-22p/pmc71274ey/jnb/2780/c'], ['-23p/pmc74221ey/jnb/3425/c'], ['-31l/ake22173ey/jnb/335/c.eli.vun'], ['-31r/ake26286ey/jnb/545/c.eli.elm'], ['-32l/ake27053ey/jnb/370/c'], ['-32r/ake29014ey/jnb/515/c'], ['-33l/ava41801lh/jnb/230/c.rli'], ['-33r/ake24451ey/jnb/525/c'], ['-41l/ava41597lh/jnb/185/c'], ['-41r/ava13249lh/jnb/395/c'], ['-42l/xkn64993ey/jnb/460/c'], ['-42r/xkn60063ey/jnb/465/c.rmd.rfl'], ['-43l/ake25078ey/nbo/285/c'], ['-43r/ake25621ey/jnb/270/c.rmd'], ['-44/alf41302ey/nbo/785/c'], ['-51/jnb/188/c'], ['-52/jnb/545/c'], ['-53/n'], ['-si/crushable', 'cargo', 'ldd', 'in', 'postn', 'al/ar/22p']]\n"
          ]
        }
      ]
    },
    {
      "cell_type": "code",
      "execution_count": null,
      "metadata": {
        "colab": {
          "base_uri": "https://localhost:8080/"
        },
        "id": "LUFLKmDT4J_F",
        "outputId": "5b79df24-412e-4237-c61e-dd21ea538d98"
      },
      "outputs": [
        {
          "name": "stdout",
          "output_type": "stream",
          "text": [
            "Bigrams: []\n",
            "Bigrams: [('1764', 'c'), ('auh', '1764'), ('bulk', 'auh')]\n",
            "Bigrams: []\n",
            "Bigrams: []\n",
            "Bigrams: [('ey015', '27.a6bmb.auh')]\n",
            "Bigrams: [('-21p', 'n')]\n",
            "Bigrams: [('-22p', 'pmc71680ey'), ('1820', 'x'), ('auh', '1820'), ('pmc71680ey', 'auh')]\n",
            "Bigrams: []\n",
            "Bigrams: [('-23p', 'pmc76052ey'), ('1869', 'm'), ('auh', '1869'), ('pmc76052ey', 'auh')]\n",
            "Bigrams: [('-31p', 'pmc75338ey'), ('2340', 'x'), ('auh', '2340'), ('pmc75338ey', 'auh')]\n",
            "Bigrams: []\n",
            "Bigrams: [('-32p', 'n')]\n",
            "Bigrams: [('-41l', 'ake26177ey'), ('113', 'c'), ('ake26177ey', 'auh'), ('auh', '113')]\n",
            "Bigrams: [('-41r', 'n')]\n",
            "Bigrams: [('-42l', 'ake23927ey'), ('609', 'm'), ('ake23927ey', 'auh'), ('auh', '609')]\n",
            "Bigrams: [('-42r', 'ake29769ey'), ('953', 'm'), ('ake29769ey', 'auh'), ('auh', '953')]\n",
            "Bigrams: [('-43', 'alf41072ey'), ('1534', 'm'), ('alf41072ey', 'auh'), ('auh', '1534')]\n",
            "Bigrams: [('-44l', '600'), ('600', 'e.eic')]\n",
            "Bigrams: [('-44r', 'ake23963ey'), ('778', 'm'), ('ake23963ey', 'auh'), ('auh', '778')]\n",
            "Bigrams: [('-51', 'n')]\n",
            "Bigrams: [('-52', 'n')]\n",
            "Bigrams: [('-53', 'n')]\n",
            "Bigrams: []\n",
            "Bigrams: []\n",
            "Bigrams: []\n",
            "Bigrams: []\n",
            "Bigrams: [('ey917', '08.a6ddb.auh')]\n",
            "Bigrams: [('-al', 'paj10367ey'), ('2207', 'c'), ('ams', '2207'), ('paj10367ey', 'ams')]\n",
            "Bigrams: []\n",
            "Bigrams: [('-ar', 'pmc70521ey'), ('1925', 'c'), ('ams', '1925'), ('pmc70521ey', 'ams')]\n",
            "Bigrams: [('-bl', 'hml00610ej'), ('2850', 'c'), ('ams', '2850'), ('hml00610ej', 'ams')]\n",
            "Bigrams: []\n",
            "Bigrams: [('-br', 'pmc77052ey'), ('1505', 'c'), ('ams', '1505'), ('pmc77052ey', 'ams')]\n",
            "Bigrams: []\n",
            "Bigrams: [('-cl', 'hml00662ej'), ('2710', 'c'), ('ams', '2710'), ('hml00662ej', 'ams')]\n",
            "Bigrams: []\n",
            "Bigrams: [('-cr', 'pmc73662ey'), ('1780', 'c'), ('ams', '1780'), ('pmc73662ey', 'ams')]\n",
            "Bigrams: []\n",
            "Bigrams: [('-dl', 'hml00683ej'), ('2710', 'c'), ('ams', '2710'), ('hml00683ej', 'ams')]\n",
            "Bigrams: []\n",
            "Bigrams: [('-dr', 'pmc79883ey'), ('2130', 'c'), ('ams', '2130'), ('pmc79883ey', 'ams')]\n",
            "Bigrams: [('-el', 'hml00914ej'), ('2710', 'c'), ('ams', '2710'), ('hml00914ej', 'ams')]\n",
            "Bigrams: []\n",
            "Bigrams: [('-er', 'pmc72276ey'), ('2340', 'c'), ('ams', '2340'), ('pmc72276ey', 'ams')]\n",
            "Bigrams: [('-fl', 'hml00920ej'), ('2710', 'c'), ('ams', '2710'), ('hml00920ej', 'ams')]\n",
            "Bigrams: []\n",
            "Bigrams: [('-11p', 'pmc71010ey'), ('1274', 'c'), ('man', '1274'), ('pmc71010ey', 'man')]\n",
            "Bigrams: [('-12l', 'ake'), ('551', 'bj1-12r'), ('ake', 'man'), ('bj1-12r', 'n'), ('man', '551')]\n",
            "Bigrams: [('-13l', 'ake61670ey'), ('692', 'by'), ('ake61670ey', 'man'), ('man', '692')]\n",
            "Bigrams: []\n",
            "Bigrams: [('-14l', 'ake71350ey'), ('692', 'by'), ('ake71350ey', 'man'), ('man', '692')]\n",
            "Bigrams: []\n",
            "Bigrams: [('-15l', 'ake25950ey'), ('846', 'by'), ('ake25950ey', 'man'), ('man', '846')]\n",
            "Bigrams: []\n",
            "Bigrams: [('-21l', 'ake29738ey'), ('714', 'by'), ('ake29738ey', 'man'), ('man', '714')]\n",
            "Bigrams: []\n",
            "Bigrams: [('-22l', 'ake26340ey'), ('530', 'by'), ('ake26340ey', 'man'), ('man', '530')]\n",
            "Bigrams: []\n",
            "Bigrams: [('-23l', 'ake26172ey'), ('678', 'by'), ('ake26172ey', 'man'), ('man', '678')]\n",
            "Bigrams: []\n",
            "Bigrams: [('-24l', 'ake23878ey'), ('808', 'by'), ('ake23878ey', 'man'), ('man', '808')]\n",
            "Bigrams: []\n",
            "Bigrams: [('-25l', 'ake24749ey'), ('677', 'by'), ('ake24749ey', 'man'), ('man', '677')]\n",
            "Bigrams: []\n",
            "Bigrams: [('-26', 'pla30554ey'), ('730', 'c'), ('man', '730'), ('pla30554ey', 'man')]\n",
            "Bigrams: [('-31p', 'pmc72713ey'), ('1055', 'c'), ('man', '1055'), ('pmc72713ey', 'man')]\n",
            "Bigrams: [('-32p', 'pmc76166ey'), ('1338', 'c'), ('man', '1338'), ('pmc76166ey', 'man')]\n",
            "Bigrams: [('-33p', 'pmc75518ey'), ('1625', 'c'), ('man', '1625'), ('pmc75518ey', 'man')]\n",
            "Bigrams: [('-41p', 'pmc75891ey'), ('1655', 'c'), ('man', '1655'), ('pmc75891ey', 'man')]\n",
            "Bigrams: []\n",
            "Bigrams: [('-42p', 'pmc72929ey'), ('2448', 'c'), ('man', '2448'), ('pmc72929ey', 'man')]\n",
            "Bigrams: [('-43p', 'pmc70141ey'), ('2328', 'c'), ('man', '2328'), ('pmc70141ey', 'man')]\n",
            "Bigrams: [('-5', 'man'), ('176', 'by'), ('323', 'c'), ('by', '323'), ('c', 'd.ice'), ('man', '176')]\n",
            "Bigrams: []\n",
            "Bigrams: []\n",
            "Bigrams: []\n",
            "Bigrams: [('2l', 'bj')]\n",
            "Bigrams: [('4r', 'bj')]\n",
            "Bigrams: [('13r', 'wbl')]\n",
            "Bigrams: []\n",
            "Bigrams: []\n",
            "Bigrams: []\n",
            "Bigrams: []\n",
            "Bigrams: [('bt', '4'), ('cpt5', 'bt')]\n",
            "Bigrams: [('cpt5', 'd'), ('d', '11')]\n",
            "Bigrams: [('cpt5', 'bla')]\n",
            "Bigrams: []\n",
            "Bigrams: []\n",
            "Bigrams: []\n",
            "Bigrams: []\n",
            "Bigrams: [('ey980', '21.a6ddd.han')]\n",
            "Bigrams: [('-al', 'pmc72080ey'), ('2140', 'c'), ('auh', '2140'), ('pmc72080ey', 'auh')]\n",
            "Bigrams: []\n",
            "Bigrams: [('-ar', 'pmc72598ey'), ('2075', 'c'), ('auh', '2075'), ('pmc72598ey', 'auh')]\n",
            "Bigrams: []\n",
            "Bigrams: [('-bl', 'pmc01688ey'), ('940', 'c.p'), ('auh', '940'), ('pmc01688ey', 'auh')]\n",
            "Bigrams: []\n",
            "Bigrams: [('-br', 'pmc77738ey'), ('1075', 'c'), ('auh', '1075'), ('pmc77738ey', 'auh')]\n",
            "Bigrams: []\n",
            "Bigrams: [('-cl', 'pmc73643ey'), ('1185', 'c'), ('auh', '1185'), ('pmc73643ey', 'auh')]\n",
            "Bigrams: []\n",
            "Bigrams: [('-cr', 'pmc74359ey'), ('1150', 'c'), ('auh', '1150'), ('pmc74359ey', 'auh')]\n",
            "Bigrams: []\n",
            "Bigrams: [('-dl', 'pmc73318ey'), ('1200', 'c'), ('auh', '1200'), ('pmc73318ey', 'auh')]\n",
            "Bigrams: []\n",
            "Bigrams: [('-dr', 'pmc01288ey'), ('1080', 'c'), ('auh', '1080'), ('pmc01288ey', 'auh')]\n",
            "Bigrams: []\n",
            "Bigrams: [('-el', 'pmc70003ey'), ('1373', 'c'), ('auh', '1373'), ('pmc70003ey', 'auh')]\n",
            "Bigrams: []\n",
            "Bigrams: [('-er', 'pmc75846ey'), ('1340', 'c'), ('auh', '1340'), ('pmc75846ey', 'auh')]\n",
            "Bigrams: []\n",
            "Bigrams: [('-fl', 'pmc73543ey'), ('1465', 'c'), ('auh', '1465'), ('pmc73543ey', 'auh')]\n",
            "Bigrams: []\n",
            "Bigrams: [('-fr', 'pmc75325ey'), ('1385', 'c'), ('auh', '1385'), ('pmc75325ey', 'auh')]\n",
            "Bigrams: []\n",
            "Bigrams: [('-gl', 'pmc70895ey'), ('2780', 'c'), ('auh', '2780'), ('pmc70895ey', 'auh')]\n",
            "Bigrams: []\n",
            "Bigrams: [('-gr', 'pmc75041ey'), ('2855', 'c'), ('auh', '2855'), ('pmc75041ey', 'auh')]\n",
            "Bigrams: []\n",
            "Bigrams: [('-hl', 'pmc75669ey'), ('1700', 'c'), ('auh', '1700'), ('pmc75669ey', 'auh')]\n",
            "Bigrams: []\n",
            "Bigrams: [('-hr', 'pmc76114ey'), ('2030', 'c'), ('auh', '2030'), ('pmc76114ey', 'auh')]\n",
            "Bigrams: []\n",
            "Bigrams: [('-jl', 'pmc74821ey'), ('2120', 'c'), ('auh', '2120'), ('pmc74821ey', 'auh')]\n",
            "Bigrams: []\n",
            "Bigrams: [('-jr', 'pmc74840ey'), ('2385', 'c'), ('auh', '2385'), ('pmc74840ey', 'auh')]\n",
            "Bigrams: []\n",
            "Bigrams: [('-kl', 'pmc72929ey'), ('2395', 'c'), ('auh', '2395'), ('pmc72929ey', 'auh')]\n",
            "Bigrams: []\n",
            "Bigrams: [('-kr', 'pmc71648ey'), ('2697', 'c'), ('auh', '2697'), ('pmc71648ey', 'auh')]\n",
            "Bigrams: []\n",
            "Bigrams: [('-ll', 'pmc75633ey'), ('2645', 'c'), ('auh', '2645'), ('pmc75633ey', 'auh')]\n",
            "Bigrams: []\n",
            "Bigrams: [('-lr', 'pmc70141ey'), ('2750', 'c'), ('auh', '2750'), ('pmc70141ey', 'auh')]\n",
            "Bigrams: []\n",
            "Bigrams: [('-ml', 'pmc72747ey'), ('1565', 'c'), ('auh', '1565'), ('pmc72747ey', 'auh')]\n",
            "Bigrams: []\n",
            "Bigrams: [('-mr', 'pmc74869ey'), ('1640', 'c'), ('auh', '1640'), ('pmc74869ey', 'auh')]\n",
            "Bigrams: []\n",
            "Bigrams: [('-pl', 'pmc01325ey'), ('3715', 'c'), ('auh', '3715'), ('pmc01325ey', 'auh')]\n",
            "Bigrams: []\n",
            "Bigrams: [('-pr', 'pmc75955ey'), ('2975', 'c'), ('auh', '2975'), ('pmc75955ey', 'auh')]\n",
            "Bigrams: []\n",
            "Bigrams: [('-r', 'pmc75584ey'), ('1960', 'c.h'), ('auh', '1960'), ('pmc75584ey', 'auh')]\n",
            "Bigrams: []\n",
            "Bigrams: [('-11p', 'pmc74085ey'), ('630', 'c'), ('auh', '630'), ('pmc74085ey', 'auh')]\n",
            "Bigrams: [('-12p', 'pmc73677ey'), ('1415', 'c'), ('auh', '1415'), ('pmc73677ey', 'auh')]\n",
            "Bigrams: []\n",
            "Bigrams: [('-13p', 'pmc70052ey'), ('1435', 'c'), ('auh', '1435'), ('pmc70052ey', 'auh')]\n",
            "Bigrams: []\n",
            "Bigrams: [('-21p', 'pmc75081ey'), ('1510', 'c'), ('auh', '1510'), ('pmc75081ey', 'auh')]\n",
            "Bigrams: []\n",
            "Bigrams: [('-22p', 'pmc76497ey'), ('1623', 'c'), ('auh', '1623'), ('pmc76497ey', 'auh')]\n",
            "Bigrams: []\n",
            "Bigrams: [('-23p', 'pmc71238ey'), ('2040', 'c'), ('auh', '2040'), ('pmc71238ey', 'auh')]\n",
            "Bigrams: []\n",
            "Bigrams: [('-31p', 'pmc73328ey'), ('2195', 'c'), ('auh', '2195'), ('pmc73328ey', 'auh')]\n",
            "Bigrams: []\n",
            "Bigrams: [('-33', 'pla30134ey'), ('465', 'c.e'), ('auh', '465'), ('pla30134ey', 'auh')]\n",
            "Bigrams: []\n",
            "Bigrams: [('-41l', 'ake26381ey'), ('191', 'c'), ('ake26381ey', 'auh'), ('auh', '191')]\n",
            "Bigrams: [('-41r', 'n')]\n",
            "Bigrams: [('-41p', 'pmc77223ey'), ('2225', 'c'), ('auh', '2225'), ('pmc77223ey', 'auh')]\n",
            "Bigrams: []\n",
            "Bigrams: [('-42p', 'pmc76628ey'), ('2355', 'c'), ('auh', '2355'), ('pmc76628ey', 'auh')]\n",
            "Bigrams: []\n",
            "Bigrams: [('-51', 'n')]\n",
            "Bigrams: [('-52', 'n')]\n",
            "Bigrams: [('-53', 'n')]\n",
            "Bigrams: []\n",
            "Bigrams: [('ey217', '27.a6blo')]\n",
            "Bigrams: [('-11', 'pla30312ey'), ('740', 'c'), ('auh', '740'), ('pla30312ey', 'auh')]\n",
            "Bigrams: [('-12l', 'ake61053ey'), ('398', 'by'), ('ake61053ey', 'auh'), ('auh', '398')]\n",
            "Bigrams: []\n",
            "Bigrams: [('-13l', 'ake22251ey'), ('400', 'by'), ('ake22251ey', 'auh'), ('auh', '400')]\n",
            "Bigrams: []\n",
            "Bigrams: [('-14l', 'ake29757ey'), ('382', 'by'), ('ake29757ey', 'auh'), ('auh', '382')]\n",
            "Bigrams: []\n",
            "Bigrams: [('-15l', 'ake24430ey'), ('550', 'c-'), ('ake24430ey', 'auh'), ('auh', '550')]\n",
            "Bigrams: []\n",
            "Bigrams: [('-21p', 'pmc79087ey'), ('2245', 'c'), ('auh', '2245'), ('pmc79087ey', 'auh')]\n",
            "Bigrams: []\n",
            "Bigrams: [('-22p', 'pmc77726ey'), ('2345', 'c'), ('auh', '2345'), ('pmc77726ey', 'auh')]\n",
            "Bigrams: []\n",
            "Bigrams: [('-23p', 'pmc76458ey'), ('2350', 'c'), ('auh', '2350'), ('pmc76458ey', 'auh')]\n",
            "Bigrams: []\n",
            "Bigrams: [('-31p', 'pmc72113ey'), ('2360', 'c'), ('auh', '2360'), ('pmc72113ey', 'auh')]\n",
            "Bigrams: []\n",
            "Bigrams: [('-32p', 'paj10558ey'), ('1775', 'c'), ('auh', '1775'), ('paj10558ey', 'auh')]\n",
            "Bigrams: []\n",
            "Bigrams: [('-34l', 'ake24141ey'), ('600', 'by'), ('ake24141ey', 'auh'), ('auh', '600')]\n",
            "Bigrams: []\n",
            "Bigrams: [('-41l', 'ake70871ey'), ('247', 'by'), ('ake70871ey', 'auh'), ('auh', '247')]\n",
            "Bigrams: []\n",
            "Bigrams: [('-42l', 'ake26131ey'), ('300', 'by'), ('ake26131ey', 'auh'), ('auh', '300')]\n",
            "Bigrams: []\n",
            "Bigrams: [('-43l', 'ake29267ey'), ('1200', 'c'), ('ake29267ey', 'auh'), ('auh', '1200')]\n",
            "Bigrams: []\n",
            "Bigrams: [('-5', 'auh'), ('125', 'by.vr4'), ('587', 'bj'), ('auh', '587'), ('bj', '125')]\n",
            "Bigrams: []\n",
            "Bigrams: []\n",
            "Bigrams: [('34l', 'by')]\n",
            "Bigrams: [('34r', 'by')]\n",
            "Bigrams: [('41l', 'by')]\n",
            "Bigrams: [('41r', 'by')]\n",
            "Bigrams: [('43r', 'ey653'), ('ey653', 'g1')]\n",
            "Bigrams: [('42r', 'ey25'), ('ey25', 'p2')]\n",
            "Bigrams: [('13r', 'ey97'), ('ey97', 'g1')]\n",
            "Bigrams: [('13l', 'ey131'), ('ey131', 'us')]\n",
            "Bigrams: [('14r', 'ey101'), ('ey101', 'us')]\n",
            "Bigrams: [('42l', 'ey151'), ('ey151', 'ord'), ('ord', 's')]\n",
            "Bigrams: [('14', 'y2')]\n",
            "Bigrams: []\n",
            "Bigrams: [('15r', 'p2')]\n",
            "Bigrams: []\n",
            "Bigrams: [('12l', 'g1')]\n",
            "Bigrams: []\n",
            "Bigrams: [('12r', 's')]\n",
            "Bigrams: []\n",
            "Bigrams: []\n",
            "Bigrams: []\n",
            "Bigrams: []\n"
          ]
        }
      ],
      "source": [
        "bigrams_patterns_test = []\n",
        "\n",
        "for token in tokenized_sent :\n",
        "  for words in token :\n",
        "    bigram_collocation = BigramCollocationFinder.from_words(words.split('/'))\n",
        "    # Top 10 most occurring collocations\n",
        "    bigrams_patterns_test.append(bigram_collocation.nbest(BigramAssocMeasures.likelihood_ratio, 10))\n",
        "    print(\"Bigrams:\", bigram_collocation.nbest(BigramAssocMeasures.likelihood_ratio, 10))"
      ]
    },
    {
      "cell_type": "code",
      "source": [
        "bigrams_patterns_incorr = []\n",
        "\n",
        "for token in tokenized_sent :\n",
        "  for words in token :\n",
        "    bigram_collocation = BigramCollocationFinder.from_words(words.split('/'))\n",
        "    # Top 10 most occurring collocations\n",
        "    bigrams_patterns_incorr.append(bigram_collocation.nbest(BigramAssocMeasures.likelihood_ratio, 10))\n",
        "    print(\"Bigrams:\", bigram_collocation.nbest(BigramAssocMeasures.likelihood_ratio, 10))"
      ],
      "metadata": {
        "colab": {
          "base_uri": "https://localhost:8080/"
        },
        "id": "tAAaoDl3099l",
        "outputId": "d478159d-b38c-4e31-e099-d2167e7a074f"
      },
      "execution_count": null,
      "outputs": [
        {
          "output_type": "stream",
          "name": "stdout",
          "text": [
            "Bigrams: []\n",
            "Bigrams: [('ey956', '28.a6ddd.auh')]\n",
            "Bigrams: [('-al', 'paj10229ey'), ('2280', 'c.elm'), ('jnb', '2280'), ('paj10229ey', 'jnb')]\n",
            "Bigrams: [('-ar', 'pmc77270ey'), ('1540', 'c'), ('jnb', '1540'), ('pmc77270ey', 'jnb')]\n",
            "Bigrams: [('-bl', 'pmc77913ey'), ('1235', 'c'), ('jnb', '1235'), ('pmc77913ey', 'jnb')]\n",
            "Bigrams: [('-br', 'pmc77717ey'), ('1250', 'c'), ('jnb', '1250'), ('pmc77717ey', 'jnb')]\n",
            "Bigrams: [('-cl', 'pmc70333ey'), ('1420', 'c'), ('jnb', '1420'), ('pmc70333ey', 'jnb')]\n",
            "Bigrams: [('-cr', 'pmc75544ey'), ('1440', 'c.eli'), ('jnb', '1440'), ('pmc75544ey', 'jnb')]\n",
            "Bigrams: [('-dl', 'pmc76410ey'), ('1475', 'c'), ('jnb', '1475'), ('pmc76410ey', 'jnb')]\n",
            "Bigrams: [('-dr', 'pmc76297ey'), ('1605', 'c'), ('jnb', '1605'), ('pmc76297ey', 'jnb')]\n",
            "Bigrams: [('-el', 'pmc77378ey'), ('1770', 'c'), ('jnb', '1770'), ('pmc77378ey', 'jnb')]\n",
            "Bigrams: [('-er', 'pmc76550ey'), ('1820', 'c'), ('nbo', '1820'), ('pmc76550ey', 'nbo')]\n",
            "Bigrams: [('-fl', 'pmc72704ey'), ('1920', 'c.rfl.eli'), ('jnb', '1920'), ('pmc72704ey', 'jnb')]\n",
            "Bigrams: [('-fr', 'pmc74296ey'), ('2085', 'c'), ('jnb', '2085'), ('pmc74296ey', 'jnb')]\n",
            "Bigrams: [('-gl', 'pmc74420ey'), ('2330', 'c'), ('jnb', '2330'), ('pmc74420ey', 'jnb')]\n",
            "Bigrams: [('-gr', 'pmc77514ey'), ('2245', 'c'), ('jnb', '2245'), ('pmc77514ey', 'jnb')]\n",
            "Bigrams: [('-hl', 'pmc74075ey'), ('5105', 'c'), ('jnb', '5105'), ('pmc74075ey', 'jnb')]\n",
            "Bigrams: [('-hr', 'pmc75724ey'), ('4850', 'c.eli'), ('jnb', '4850'), ('pmc75724ey', 'jnb')]\n",
            "Bigrams: [('-jl', 'pmc74745ey'), ('2525', 'c.eli'), ('jnb', '2525'), ('pmc74745ey', 'jnb')]\n",
            "Bigrams: [('-jr', 'pmc73455ey'), ('2375', 'c'), ('jnb', '2375'), ('pmc73455ey', 'jnb')]\n",
            "Bigrams: [('-kl', 'pmc79972ey'), ('2745', 'c.eli.vun'), ('jnb', '2745'), ('pmc79972ey', 'jnb')]\n",
            "Bigrams: [('-kr', 'pmc01321ey'), ('2760', 'c'), ('jnb', '2760'), ('pmc01321ey', 'jnb')]\n",
            "Bigrams: [('-ll', 'amj61411fx'), ('3430', 'c'), ('amj61411fx', 'jnb'), ('jnb', '3430')]\n",
            "Bigrams: [('-lr', 'pmc77668ey'), ('2825', 'c.eli.vun'), ('jnb', '2825'), ('pmc77668ey', 'jnb')]\n",
            "Bigrams: [('-ml', 'pmc76713ey'), ('3410', 'c'), ('jnb', '3410'), ('pmc76713ey', 'jnb')]\n",
            "Bigrams: [('-mr', 'pmc76683ey'), ('3230', 'c'), ('jnb', '3230'), ('pmc76683ey', 'jnb')]\n",
            "Bigrams: [('-pl', 'pmc70975ey'), ('2605', 'c.eli.elm'), ('jnb', '2605'), ('pmc70975ey', 'jnb')]\n",
            "Bigrams: [('-pr', 'pmc72324ey'), ('3325', 'c'), ('jnb', '3325'), ('pmc72324ey', 'jnb')]\n",
            "Bigrams: [('-r', 'pmc71330ey'), ('2995', 'c'), ('jnb', '2995'), ('pmc71330ey', 'jnb')]\n",
            "Bigrams: [('-11p', 'pmc76662ey'), ('1040', 'c'), ('jnb', '1040'), ('pmc76662ey', 'jnb')]\n",
            "Bigrams: [('-12p', 'pmc74847ey'), ('1670', 'c.eli.vun'), ('jnb', '1670'), ('pmc74847ey', 'jnb')]\n",
            "Bigrams: [('-13p', 'pmc77256ey'), ('2265', 'c'), ('jnb', '2265'), ('pmc77256ey', 'jnb')]\n",
            "Bigrams: [('-21p', 'pmc72134ey'), ('2475', 'c'), ('jnb', '2475'), ('pmc72134ey', 'jnb')]\n",
            "Bigrams: [('-22p', 'pmc71274ey'), ('2780', 'c'), ('jnb', '2780'), ('pmc71274ey', 'jnb')]\n",
            "Bigrams: [('-23p', 'pmc74221ey'), ('3425', 'c'), ('jnb', '3425'), ('pmc74221ey', 'jnb')]\n",
            "Bigrams: [('-31l', 'ake22173ey'), ('335', 'c.eli.vun'), ('ake22173ey', 'jnb'), ('jnb', '335')]\n",
            "Bigrams: [('-31r', 'ake26286ey'), ('545', 'c.eli.elm'), ('ake26286ey', 'jnb'), ('jnb', '545')]\n",
            "Bigrams: [('-32l', 'ake27053ey'), ('370', 'c'), ('ake27053ey', 'jnb'), ('jnb', '370')]\n",
            "Bigrams: [('-32r', 'ake29014ey'), ('515', 'c'), ('ake29014ey', 'jnb'), ('jnb', '515')]\n",
            "Bigrams: [('-33l', 'ava41801lh'), ('230', 'c.rli'), ('ava41801lh', 'jnb'), ('jnb', '230')]\n",
            "Bigrams: [('-33r', 'ake24451ey'), ('525', 'c'), ('ake24451ey', 'jnb'), ('jnb', '525')]\n",
            "Bigrams: [('-41l', 'ava41597lh'), ('185', 'c'), ('ava41597lh', 'jnb'), ('jnb', '185')]\n",
            "Bigrams: [('-41r', 'ava13249lh'), ('395', 'c'), ('ava13249lh', 'jnb'), ('jnb', '395')]\n",
            "Bigrams: [('-42l', 'xkn64993ey'), ('460', 'c'), ('jnb', '460'), ('xkn64993ey', 'jnb')]\n",
            "Bigrams: [('-42r', 'xkn60063ey'), ('465', 'c.rmd.rfl'), ('jnb', '465'), ('xkn60063ey', 'jnb')]\n",
            "Bigrams: [('-43l', 'ake25078ey'), ('285', 'c'), ('ake25078ey', 'nbo'), ('nbo', '285')]\n",
            "Bigrams: [('-43r', 'ake25621ey'), ('270', 'c.rmd'), ('ake25621ey', 'jnb'), ('jnb', '270')]\n",
            "Bigrams: [('-44', 'alf41302ey'), ('785', 'c'), ('alf41302ey', 'nbo'), ('nbo', '785')]\n",
            "Bigrams: [('-51', 'jnb'), ('188', 'c'), ('jnb', '188')]\n",
            "Bigrams: [('-52', 'jnb'), ('545', 'c'), ('jnb', '545')]\n",
            "Bigrams: [('-53', 'n')]\n",
            "Bigrams: [('-si', 'crushable')]\n",
            "Bigrams: []\n",
            "Bigrams: []\n",
            "Bigrams: []\n",
            "Bigrams: []\n",
            "Bigrams: [('al', 'ar'), ('ar', '22p')]\n"
          ]
        }
      ]
    },
    {
      "cell_type": "code",
      "execution_count": null,
      "metadata": {
        "colab": {
          "base_uri": "https://localhost:8080/"
        },
        "id": "rt7fPila4WGw",
        "outputId": "7a08c1f6-b97c-4486-94c3-51d19c08717e"
      },
      "outputs": [
        {
          "output_type": "stream",
          "name": "stdout",
          "text": [
            "Trigrams: []\n",
            "Trigrams: []\n",
            "Trigrams: [('-al', 'paj10229ey', 'jnb'), ('jnb', '2280', 'c.elm'), ('paj10229ey', 'jnb', '2280')]\n",
            "Trigrams: [('-ar', 'pmc77270ey', 'jnb'), ('jnb', '1540', 'c'), ('pmc77270ey', 'jnb', '1540')]\n",
            "Trigrams: [('-bl', 'pmc77913ey', 'jnb'), ('jnb', '1235', 'c'), ('pmc77913ey', 'jnb', '1235')]\n",
            "Trigrams: [('-br', 'pmc77717ey', 'jnb'), ('jnb', '1250', 'c'), ('pmc77717ey', 'jnb', '1250')]\n",
            "Trigrams: [('-cl', 'pmc70333ey', 'jnb'), ('jnb', '1420', 'c'), ('pmc70333ey', 'jnb', '1420')]\n",
            "Trigrams: [('-cr', 'pmc75544ey', 'jnb'), ('jnb', '1440', 'c.eli'), ('pmc75544ey', 'jnb', '1440')]\n",
            "Trigrams: [('-dl', 'pmc76410ey', 'jnb'), ('jnb', '1475', 'c'), ('pmc76410ey', 'jnb', '1475')]\n",
            "Trigrams: [('-dr', 'pmc76297ey', 'jnb'), ('jnb', '1605', 'c'), ('pmc76297ey', 'jnb', '1605')]\n",
            "Trigrams: [('-el', 'pmc77378ey', 'jnb'), ('jnb', '1770', 'c'), ('pmc77378ey', 'jnb', '1770')]\n",
            "Trigrams: [('-er', 'pmc76550ey', 'nbo'), ('nbo', '1820', 'c'), ('pmc76550ey', 'nbo', '1820')]\n",
            "Trigrams: [('-fl', 'pmc72704ey', 'jnb'), ('jnb', '1920', 'c.rfl.eli'), ('pmc72704ey', 'jnb', '1920')]\n",
            "Trigrams: [('-fr', 'pmc74296ey', 'jnb'), ('jnb', '2085', 'c'), ('pmc74296ey', 'jnb', '2085')]\n",
            "Trigrams: [('-gl', 'pmc74420ey', 'jnb'), ('jnb', '2330', 'c'), ('pmc74420ey', 'jnb', '2330')]\n",
            "Trigrams: [('-gr', 'pmc77514ey', 'jnb'), ('jnb', '2245', 'c'), ('pmc77514ey', 'jnb', '2245')]\n",
            "Trigrams: [('-hl', 'pmc74075ey', 'jnb'), ('jnb', '5105', 'c'), ('pmc74075ey', 'jnb', '5105')]\n",
            "Trigrams: [('-hr', 'pmc75724ey', 'jnb'), ('jnb', '4850', 'c.eli'), ('pmc75724ey', 'jnb', '4850')]\n",
            "Trigrams: [('-jl', 'pmc74745ey', 'jnb'), ('jnb', '2525', 'c.eli'), ('pmc74745ey', 'jnb', '2525')]\n",
            "Trigrams: [('-jr', 'pmc73455ey', 'jnb'), ('jnb', '2375', 'c'), ('pmc73455ey', 'jnb', '2375')]\n",
            "Trigrams: [('-kl', 'pmc79972ey', 'jnb'), ('jnb', '2745', 'c.eli.vun'), ('pmc79972ey', 'jnb', '2745')]\n",
            "Trigrams: [('-kr', 'pmc01321ey', 'jnb'), ('jnb', '2760', 'c'), ('pmc01321ey', 'jnb', '2760')]\n",
            "Trigrams: [('-ll', 'amj61411fx', 'jnb'), ('amj61411fx', 'jnb', '3430'), ('jnb', '3430', 'c')]\n",
            "Trigrams: [('-lr', 'pmc77668ey', 'jnb'), ('jnb', '2825', 'c.eli.vun'), ('pmc77668ey', 'jnb', '2825')]\n",
            "Trigrams: [('-ml', 'pmc76713ey', 'jnb'), ('jnb', '3410', 'c'), ('pmc76713ey', 'jnb', '3410')]\n",
            "Trigrams: [('-mr', 'pmc76683ey', 'jnb'), ('jnb', '3230', 'c'), ('pmc76683ey', 'jnb', '3230')]\n",
            "Trigrams: [('-pl', 'pmc70975ey', 'jnb'), ('jnb', '2605', 'c.eli.elm'), ('pmc70975ey', 'jnb', '2605')]\n",
            "Trigrams: [('-pr', 'pmc72324ey', 'jnb'), ('jnb', '3325', 'c'), ('pmc72324ey', 'jnb', '3325')]\n",
            "Trigrams: [('-r', 'pmc71330ey', 'jnb'), ('jnb', '2995', 'c'), ('pmc71330ey', 'jnb', '2995')]\n",
            "Trigrams: [('-11p', 'pmc76662ey', 'jnb'), ('jnb', '1040', 'c'), ('pmc76662ey', 'jnb', '1040')]\n",
            "Trigrams: [('-12p', 'pmc74847ey', 'jnb'), ('jnb', '1670', 'c.eli.vun'), ('pmc74847ey', 'jnb', '1670')]\n",
            "Trigrams: [('-13p', 'pmc77256ey', 'jnb'), ('jnb', '2265', 'c'), ('pmc77256ey', 'jnb', '2265')]\n",
            "Trigrams: [('-21p', 'pmc72134ey', 'jnb'), ('jnb', '2475', 'c'), ('pmc72134ey', 'jnb', '2475')]\n",
            "Trigrams: [('-22p', 'pmc71274ey', 'jnb'), ('jnb', '2780', 'c'), ('pmc71274ey', 'jnb', '2780')]\n",
            "Trigrams: [('-23p', 'pmc74221ey', 'jnb'), ('jnb', '3425', 'c'), ('pmc74221ey', 'jnb', '3425')]\n",
            "Trigrams: [('-31l', 'ake22173ey', 'jnb'), ('ake22173ey', 'jnb', '335'), ('jnb', '335', 'c.eli.vun')]\n",
            "Trigrams: [('-31r', 'ake26286ey', 'jnb'), ('ake26286ey', 'jnb', '545'), ('jnb', '545', 'c.eli.elm')]\n",
            "Trigrams: [('-32l', 'ake27053ey', 'jnb'), ('ake27053ey', 'jnb', '370'), ('jnb', '370', 'c')]\n",
            "Trigrams: [('-32r', 'ake29014ey', 'jnb'), ('ake29014ey', 'jnb', '515'), ('jnb', '515', 'c')]\n",
            "Trigrams: [('-33l', 'ava41801lh', 'jnb'), ('ava41801lh', 'jnb', '230'), ('jnb', '230', 'c.rli')]\n",
            "Trigrams: [('-33r', 'ake24451ey', 'jnb'), ('ake24451ey', 'jnb', '525'), ('jnb', '525', 'c')]\n",
            "Trigrams: [('-41l', 'ava41597lh', 'jnb'), ('ava41597lh', 'jnb', '185'), ('jnb', '185', 'c')]\n",
            "Trigrams: [('-41r', 'ava13249lh', 'jnb'), ('ava13249lh', 'jnb', '395'), ('jnb', '395', 'c')]\n",
            "Trigrams: [('-42l', 'xkn64993ey', 'jnb'), ('jnb', '460', 'c'), ('xkn64993ey', 'jnb', '460')]\n",
            "Trigrams: [('-42r', 'xkn60063ey', 'jnb'), ('jnb', '465', 'c.rmd.rfl'), ('xkn60063ey', 'jnb', '465')]\n",
            "Trigrams: [('-43l', 'ake25078ey', 'nbo'), ('ake25078ey', 'nbo', '285'), ('nbo', '285', 'c')]\n",
            "Trigrams: [('-43r', 'ake25621ey', 'jnb'), ('ake25621ey', 'jnb', '270'), ('jnb', '270', 'c.rmd')]\n",
            "Trigrams: [('-44', 'alf41302ey', 'nbo'), ('alf41302ey', 'nbo', '785'), ('nbo', '785', 'c')]\n",
            "Trigrams: [('-51', 'jnb', '188'), ('jnb', '188', 'c')]\n",
            "Trigrams: [('-52', 'jnb', '545'), ('jnb', '545', 'c')]\n",
            "Trigrams: []\n",
            "Trigrams: []\n",
            "Trigrams: []\n",
            "Trigrams: []\n",
            "Trigrams: []\n",
            "Trigrams: []\n",
            "Trigrams: [('al', 'ar', '22p')]\n"
          ]
        }
      ],
      "source": [
        "from nltk.collocations import TrigramCollocationFinder\n",
        "from nltk.metrics import TrigramAssocMeasures\n",
        "\n",
        "trigrams_pattern_test = []\n",
        "\n",
        "for token in tokenized_sent :\n",
        "  for words in token :\n",
        "    trigram_collocation = TrigramCollocationFinder.from_words(words.split('/'))\n",
        "    trigrams_pattern_test.append(trigram_collocation.nbest(TrigramAssocMeasures.likelihood_ratio,10))\n",
        "    print(\"Trigrams:\", trigram_collocation.nbest(TrigramAssocMeasures.likelihood_ratio,10))"
      ]
    },
    {
      "cell_type": "code",
      "execution_count": null,
      "metadata": {
        "id": "lG3dJUg65FWN"
      },
      "outputs": [],
      "source": [
        "indi_patt = []\n",
        "\n",
        "for pat in bigrams_patterns :\n",
        "  for indi_pat in pat :\n",
        "    for i in indi_pat :\n",
        "      indi_patt.append(i)"
      ]
    },
    {
      "cell_type": "code",
      "execution_count": null,
      "metadata": {
        "id": "DydQTa9Q6v97"
      },
      "outputs": [],
      "source": [
        "indi_patt_test = []\n",
        "\n",
        "for pat in bigrams_patterns_test :\n",
        "  for indi_pat in pat :\n",
        "    for i in indi_pat :\n",
        "      indi_patt_test.append(i)"
      ]
    },
    {
      "cell_type": "code",
      "execution_count": null,
      "metadata": {
        "colab": {
          "base_uri": "https://localhost:8080/"
        },
        "id": "-I3jnuhf7F-C",
        "outputId": "af8b02c8-5b33-4179-c7dd-dc9c42241452"
      },
      "outputs": [
        {
          "data": {
            "text/plain": [
              "['ey972', '11.a6ddd.han', '-pl', 'pmc71439ey', '2223']"
            ]
          },
          "execution_count": 69,
          "metadata": {},
          "output_type": "execute_result"
        }
      ],
      "source": [
        "indi_patt[0:5]"
      ]
    },
    {
      "cell_type": "code",
      "execution_count": null,
      "metadata": {
        "colab": {
          "base_uri": "https://localhost:8080/"
        },
        "id": "1YLfVeHu7M7S",
        "outputId": "bafadb57-ebe7-4fd3-e807-0aedef81eef8"
      },
      "outputs": [
        {
          "data": {
            "text/plain": [
              "['1764', 'c', 'auh', '1764', 'bulk']"
            ]
          },
          "execution_count": 70,
          "metadata": {},
          "output_type": "execute_result"
        }
      ],
      "source": [
        "indi_patt_test[0:5]"
      ]
    },
    {
      "cell_type": "code",
      "source": [
        "indi_patt = []\n",
        "\n",
        "for pat in bigrams_patterns :\n",
        "  for indi_pat in pat :\n",
        "    for i in indi_pat :\n",
        "      indi_patt.append(i)"
      ],
      "metadata": {
        "id": "5JOJ7XPD1LIo"
      },
      "execution_count": null,
      "outputs": []
    },
    {
      "cell_type": "code",
      "source": [
        "indi_patt_incr = []\n",
        "\n",
        "for pat in bigrams_patterns_incorr :\n",
        "  for indi_pat in pat :\n",
        "    for i in indi_pat :\n",
        "      indi_patt_incr.append(i)"
      ],
      "metadata": {
        "id": "Aq-M7HrB1K4W"
      },
      "execution_count": null,
      "outputs": []
    },
    {
      "cell_type": "code",
      "execution_count": null,
      "metadata": {
        "id": "U1kuarEL7r4F"
      },
      "outputs": [],
      "source": [
        "#!pip install --target=$nb_path fuzzywuzzy"
      ]
    },
    {
      "cell_type": "code",
      "execution_count": null,
      "metadata": {
        "id": "sJ4jVAx7zITC"
      },
      "outputs": [],
      "source": [
        "##FuzzyWuzzy is a library of Python which is used for string matching. Fuzzy string matching is the process of finding strings that match a given pattern. Basically it uses Levenshtein Distance to calculate the differences between sequences.\n",
        "##Fuzzy string matching is the technique of finding strings that match a pattern approximately (rather than exactly). In another word, fuzzy string matching is a type of search that will find matches even when users misspell words or enter only partial words for the search."
      ]
    },
    {
      "cell_type": "code",
      "execution_count": null,
      "metadata": {
        "id": "eaZmidME7QIN",
        "colab": {
          "base_uri": "https://localhost:8080/"
        },
        "outputId": "c64708ba-4627-431e-af43-9bf991c92166"
      },
      "outputs": [
        {
          "output_type": "stream",
          "name": "stderr",
          "text": [
            "/content/notebooks/fuzzywuzzy/fuzz.py:11: UserWarning: Using slow pure-python SequenceMatcher. Install python-Levenshtein to remove this warning\n",
            "  warnings.warn('Using slow pure-python SequenceMatcher. Install python-Levenshtein to remove this warning')\n"
          ]
        }
      ],
      "source": [
        "from fuzzywuzzy import fuzz"
      ]
    },
    {
      "cell_type": "code",
      "execution_count": null,
      "metadata": {
        "id": "bg_Une25zITL"
      },
      "outputs": [],
      "source": [
        "##Fuzz Ratio : This ratio uses a simple technique which involves calculating the edit distance (Levenshtein distance) between two strings. The unique feature of 'fuzz. ratio' lies in the fact that it takes into consideration minimal differences existing between both strings."
      ]
    },
    {
      "cell_type": "code",
      "source": [
        "## If the Message contains incorrect format , then we get less fuzz score.\n",
        "fuzz.partial_ratio(indi_patt,indi_patt_incr)"
      ],
      "metadata": {
        "colab": {
          "base_uri": "https://localhost:8080/"
        },
        "id": "vm34sWLz1ryp",
        "outputId": "17536336-e11f-4f02-9d0e-a438fe4bee97"
      },
      "execution_count": null,
      "outputs": [
        {
          "output_type": "execute_result",
          "data": {
            "text/plain": [
              "7"
            ]
          },
          "metadata": {},
          "execution_count": 32
        }
      ]
    },
    {
      "cell_type": "code",
      "source": [
        "trigrams_pattern_test = []\n",
        "\n",
        "for token in tokenized_sent :\n",
        "  for words in token :\n",
        "    trigram_collocation = TrigramCollocationFinder.from_words(words.split('/'))\n",
        "    trigrams_pattern_test.append(trigram_collocation.nbest(TrigramAssocMeasures.likelihood_ratio,10))\n",
        "    print(\"Trigrams:\", trigram_collocation.nbest(TrigramAssocMeasures.likelihood_ratio,10))"
      ],
      "metadata": {
        "id": "CyPty2_4rxIX"
      },
      "execution_count": null,
      "outputs": []
    },
    {
      "cell_type": "code",
      "execution_count": null,
      "metadata": {
        "colab": {
          "base_uri": "https://localhost:8080/"
        },
        "id": "do5tMzAk73mD",
        "outputId": "6f51f68d-72c9-44ea-e37f-cbd28db9dbd5"
      },
      "outputs": [
        {
          "data": {
            "text/plain": [
              "3"
            ]
          },
          "execution_count": 73,
          "metadata": {},
          "output_type": "execute_result"
        }
      ],
      "source": [
        "fuzz.ratio(indi_patt,indi_patt_test)"
      ]
    },
    {
      "cell_type": "code",
      "execution_count": null,
      "metadata": {
        "id": "VJtkr-WnzITL"
      },
      "outputs": [],
      "source": [
        "##The partial ratio helps us to perform substring matching. This takes the shortest string and compares it with all the substrings of the same length."
      ]
    },
    {
      "cell_type": "code",
      "execution_count": null,
      "metadata": {
        "colab": {
          "base_uri": "https://localhost:8080/"
        },
        "id": "RWFGIpLb7-xl",
        "outputId": "b6a44e58-51c9-4706-e2d2-727d7b59d620"
      },
      "outputs": [
        {
          "data": {
            "text/plain": [
              "32"
            ]
          },
          "execution_count": 74,
          "metadata": {},
          "output_type": "execute_result"
        }
      ],
      "source": [
        "fuzz.partial_ratio(indi_patt,indi_patt_test)"
      ]
    },
    {
      "cell_type": "code",
      "execution_count": null,
      "metadata": {
        "id": "YZErIt4QzITM"
      },
      "outputs": [],
      "source": [
        "##In token sort ratio, the strings are tokenized and pre-processed by converting to lower case and getting rid of punctuation. The strings are then sorted alphabetically and joined together. Post this, the Levenshtein distance similarity ratio is calculated between the strings."
      ]
    },
    {
      "cell_type": "code",
      "execution_count": null,
      "metadata": {
        "colab": {
          "base_uri": "https://localhost:8080/"
        },
        "id": "9T0inXE98Dox",
        "outputId": "6f5b9607-120f-4a05-d166-01f1f1d2945d"
      },
      "outputs": [
        {
          "data": {
            "text/plain": [
              "14"
            ]
          },
          "execution_count": 76,
          "metadata": {},
          "output_type": "execute_result"
        }
      ],
      "source": [
        "fuzz.token_sort_ratio(indi_patt,indi_patt_test)"
      ]
    },
    {
      "cell_type": "code",
      "execution_count": null,
      "metadata": {
        "id": "fiHdWjqkzITM"
      },
      "outputs": [],
      "source": [
        "##random shuffle : The shuffle() is an inbuilt method of the random module. It is used to shuffle a sequence (list). Shuffling a list of objects means changing the position of the elements of the sequence using Python.\n",
        "##Syntax: random.shuffle(sequence, function)\n",
        "##Parameters:\n",
        "#  sequence : can be a list\n",
        "#  function : optional and by default is random(). It should return a value between 0 and 1.\n"
      ]
    },
    {
      "cell_type": "code",
      "execution_count": null,
      "metadata": {
        "id": "ZdYvCSF98Ypq"
      },
      "outputs": [],
      "source": [
        "## Random Shuffling\n",
        "import random\n",
        "\n",
        "indi_patt = random.shuffle(indi_patt)\n",
        "indi_patt_test = random.shuffle(indi_patt_test)"
      ]
    },
    {
      "cell_type": "code",
      "execution_count": null,
      "metadata": {
        "colab": {
          "base_uri": "https://localhost:8080/"
        },
        "id": "ujJMvuvd8ubK",
        "outputId": "7e1ffda5-15c9-44f2-d652-09cae13a8d40"
      },
      "outputs": [
        {
          "data": {
            "text/plain": [
              "0"
            ]
          },
          "execution_count": 84,
          "metadata": {},
          "output_type": "execute_result"
        }
      ],
      "source": [
        "fuzz.ratio(indi_patt,indi_patt_test)"
      ]
    },
    {
      "cell_type": "code",
      "execution_count": null,
      "metadata": {
        "colab": {
          "base_uri": "https://localhost:8080/"
        },
        "id": "IuNSSyf98xgx",
        "outputId": "d7c12add-2c5f-47f3-cd62-97bc1d16c294"
      },
      "outputs": [
        {
          "data": {
            "text/plain": [
              "0"
            ]
          },
          "execution_count": 85,
          "metadata": {},
          "output_type": "execute_result"
        }
      ],
      "source": [
        "fuzz.partial_ratio(indi_patt,indi_patt_test)"
      ]
    },
    {
      "cell_type": "code",
      "execution_count": null,
      "metadata": {
        "colab": {
          "base_uri": "https://localhost:8080/"
        },
        "id": "vcTf1YeY8zzM",
        "outputId": "e5f76f1e-3d32-417b-8db6-f1fbb3074174"
      },
      "outputs": [
        {
          "data": {
            "text/plain": [
              "0"
            ]
          },
          "execution_count": 86,
          "metadata": {},
          "output_type": "execute_result"
        }
      ],
      "source": [
        "fuzz.token_sort_ratio(indi_patt,indi_patt_test)"
      ]
    },
    {
      "cell_type": "code",
      "execution_count": null,
      "metadata": {
        "id": "tlq4Tw2H8314"
      },
      "outputs": [],
      "source": [
        "#############Trigram Fuzzy Score Methodology###############################"
      ]
    },
    {
      "cell_type": "code",
      "execution_count": null,
      "metadata": {
        "id": "3VjaV_Z49B72"
      },
      "outputs": [],
      "source": [
        "indi_patt = []\n",
        "\n",
        "for pat in trigrams_pattern :\n",
        "  for indi_pat in pat :\n",
        "    for i in indi_pat :\n",
        "      indi_patt.append(i)"
      ]
    },
    {
      "cell_type": "code",
      "execution_count": null,
      "metadata": {
        "id": "xzSaFq2r9yLn"
      },
      "outputs": [],
      "source": [
        "indi_patt_test = []\n",
        "\n",
        "for pat in trigrams_pattern_test :\n",
        "  for indi_pat in pat :\n",
        "    for i in indi_pat :\n",
        "      indi_patt_test.append(i)"
      ]
    },
    {
      "cell_type": "code",
      "execution_count": null,
      "metadata": {
        "colab": {
          "base_uri": "https://localhost:8080/"
        },
        "id": "f2K9ggUY9798",
        "outputId": "1028c1e2-ed33-4fa8-e181-b5497d560d77"
      },
      "outputs": [
        {
          "data": {
            "text/plain": [
              "2"
            ]
          },
          "execution_count": 90,
          "metadata": {},
          "output_type": "execute_result"
        }
      ],
      "source": [
        "fuzz.ratio(indi_patt,indi_patt_test)"
      ]
    },
    {
      "cell_type": "code",
      "execution_count": null,
      "metadata": {
        "colab": {
          "base_uri": "https://localhost:8080/"
        },
        "id": "PpyPaKrt9_ub",
        "outputId": "7f3ce798-1119-4ba1-d26c-e1f690fbb975"
      },
      "outputs": [
        {
          "data": {
            "text/plain": [
              "28"
            ]
          },
          "execution_count": 91,
          "metadata": {},
          "output_type": "execute_result"
        }
      ],
      "source": [
        "fuzz.partial_ratio(indi_patt,indi_patt_test)"
      ]
    },
    {
      "cell_type": "code",
      "execution_count": null,
      "metadata": {
        "colab": {
          "base_uri": "https://localhost:8080/"
        },
        "id": "rCBzopuL-DIA",
        "outputId": "5d1e5569-ce52-4bbc-e794-50e44f12447e"
      },
      "outputs": [
        {
          "data": {
            "text/plain": [
              "19"
            ]
          },
          "execution_count": 92,
          "metadata": {},
          "output_type": "execute_result"
        }
      ],
      "source": [
        "fuzz.token_sort_ratio(indi_patt,indi_patt_test)"
      ]
    },
    {
      "cell_type": "code",
      "execution_count": null,
      "metadata": {
        "id": "I4l8W8ju-KSA"
      },
      "outputs": [],
      "source": [
        "## Random Shuffling\n",
        "import random\n",
        "\n",
        "indi_patt = random.shuffle(indi_patt)\n",
        "indi_patt_test = random.shuffle(indi_patt_test)"
      ]
    },
    {
      "cell_type": "code",
      "execution_count": null,
      "metadata": {
        "colab": {
          "base_uri": "https://localhost:8080/"
        },
        "id": "sBrOhf4G-LXF",
        "outputId": "730d65f3-ee93-48ad-996a-84ee1eb921c0"
      },
      "outputs": [
        {
          "data": {
            "text/plain": [
              "0"
            ]
          },
          "execution_count": 94,
          "metadata": {},
          "output_type": "execute_result"
        }
      ],
      "source": [
        "fuzz.ratio(indi_patt,indi_patt_test)"
      ]
    },
    {
      "cell_type": "code",
      "execution_count": null,
      "metadata": {
        "colab": {
          "base_uri": "https://localhost:8080/"
        },
        "id": "0-O9nBsG-NkT",
        "outputId": "e7e01fe8-7903-43ef-e816-e94ac7b89ae4"
      },
      "outputs": [
        {
          "data": {
            "text/plain": [
              "0"
            ]
          },
          "execution_count": 95,
          "metadata": {},
          "output_type": "execute_result"
        }
      ],
      "source": [
        "fuzz.partial_ratio(indi_patt,indi_patt_test)"
      ]
    },
    {
      "cell_type": "code",
      "execution_count": null,
      "metadata": {
        "colab": {
          "base_uri": "https://localhost:8080/"
        },
        "id": "NLuLEIzb-R0Q",
        "outputId": "94699459-6528-4e1b-9a0f-114afad1e129"
      },
      "outputs": [
        {
          "data": {
            "text/plain": [
              "0"
            ]
          },
          "execution_count": 96,
          "metadata": {},
          "output_type": "execute_result"
        }
      ],
      "source": [
        "fuzz.token_sort_ratio(indi_patt,indi_patt_test)"
      ]
    },
    {
      "cell_type": "code",
      "source": [
        "####################################### NLTK Based Information Extraction ###########################################"
      ],
      "metadata": {
        "id": "idS5pP7gpRkf"
      },
      "execution_count": null,
      "outputs": []
    },
    {
      "cell_type": "code",
      "source": [
        "import nltk"
      ],
      "metadata": {
        "id": "7FS-pKO4YJ70"
      },
      "execution_count": null,
      "outputs": []
    },
    {
      "cell_type": "code",
      "source": [
        "train_set = []\n",
        "\n",
        "for i in range(0,len(train_df)):\n",
        "  train_set.append(list((dict(a=train_df['Message'][i]),train_df['Label'][i])))"
      ],
      "metadata": {
        "id": "O241HUkLYaX5"
      },
      "execution_count": null,
      "outputs": []
    },
    {
      "cell_type": "code",
      "source": [
        "test_set = []\n",
        "\n",
        "for i in range(0,len(test_df)):\n",
        "  test_set.append((dict(a=test_df['Message'][i])))"
      ],
      "metadata": {
        "id": "5Xu_NWrtdIYd"
      },
      "execution_count": null,
      "outputs": []
    },
    {
      "cell_type": "code",
      "source": [
        "classifier = nltk.classify.NaiveBayesClassifier.train(train_set)"
      ],
      "metadata": {
        "id": "CwYKS96_cqeD"
      },
      "execution_count": null,
      "outputs": []
    },
    {
      "cell_type": "code",
      "source": [
        "sorted(classifier.labels())"
      ],
      "metadata": {
        "colab": {
          "base_uri": "https://localhost:8080/"
        },
        "id": "21jkpuOpc-lh",
        "outputId": "939b85db-8aeb-4e0f-da5f-5db075f2e75d"
      },
      "execution_count": null,
      "outputs": [
        {
          "output_type": "execute_result",
          "data": {
            "text/plain": [
              "['__label__error', '__label__no_error']"
            ]
          },
          "metadata": {},
          "execution_count": 28
        }
      ]
    },
    {
      "cell_type": "code",
      "source": [
        "classifier.show_most_informative_features()"
      ],
      "metadata": {
        "colab": {
          "base_uri": "https://localhost:8080/"
        },
        "id": "hlOTVj1ko81O",
        "outputId": "97f40da6-133f-46be-a25b-c7831baf5fea"
      },
      "execution_count": null,
      "outputs": [
        {
          "output_type": "stream",
          "name": "stdout",
          "text": [
            "Most Informative Features\n"
          ]
        }
      ]
    },
    {
      "cell_type": "code",
      "source": [
        "from nltk.classify import maxent"
      ],
      "metadata": {
        "id": "rYjLbxLxiqq6"
      },
      "execution_count": null,
      "outputs": []
    },
    {
      "cell_type": "code",
      "source": [
        "encoding = maxent.TypedMaxentFeatureEncoding.train(train_set, count_cutoff=1, alwayson_features=True)"
      ],
      "metadata": {
        "id": "V-BhvtLsiruI"
      },
      "execution_count": null,
      "outputs": []
    },
    {
      "cell_type": "code",
      "source": [
        "classifier = maxent.MaxentClassifier.train(train_set, bernoulli=False, encoding=encoding, trace=0)"
      ],
      "metadata": {
        "id": "t5AVLvZzi8-N"
      },
      "execution_count": null,
      "outputs": []
    },
    {
      "cell_type": "code",
      "source": [
        "classifier.show_most_informative_features()"
      ],
      "metadata": {
        "colab": {
          "base_uri": "https://localhost:8080/"
        },
        "id": "Ue76XoGYmoCt",
        "outputId": "e29a2f0a-8b8e-46cc-946c-0e5144bfaa94"
      },
      "execution_count": null,
      "outputs": [
        {
          "output_type": "stream",
          "name": "stdout",
          "text": [
            "   9.210 a=='-AL/TAJ10229EY/JNB/2280/C.ELM ' and label is '__label__error'\n",
            "   9.210 a=='-FR/TMC74296EY/JNB/2085. ' and label is '__label__error'\n",
            "   9.210 a=='-GL/PMC74420EY/JNB/2330/C ' and label is '__label__error'\n",
            "   9.210 a=='-GR/TMC77514EY/JNB/2245/C ' and label is '__label__error'\n",
            "   9.210 a=='-HL/PMC74075EY/JNB/5105/C ' and label is '__label__error'\n",
            "   9.210 a=='-HR/PMC75724EY/JNB/4850/C.ELI ' and label is '__label__error'\n",
            "   9.210 a=='-JL/PMC74745EY/JNB/2525/C.ELI ' and label is '__label__error'\n",
            "   9.210 a=='-JR/PMC73455EY/JNB/2375/C ' and label is '__label__error'\n",
            "   9.210 a=='-KR/PMC01321EY/JNB/2760/C ' and label is '__label__error'\n",
            "   9.210 a=='-LL/AMJ61411FX/JNB/3430/C ' and label is '__label__error'\n"
          ]
        }
      ]
    },
    {
      "cell_type": "code",
      "source": [
        "from sklearn.metrics import f1_score"
      ],
      "metadata": {
        "id": "WKWZfQ0xaSj9"
      },
      "execution_count": null,
      "outputs": []
    },
    {
      "cell_type": "code",
      "source": [
        "y_predict = classifier.classify_many(test_set)"
      ],
      "metadata": {
        "id": "LwnkFUWmd_i4"
      },
      "execution_count": null,
      "outputs": []
    },
    {
      "cell_type": "code",
      "source": [
        "y_true = test_df['Label']"
      ],
      "metadata": {
        "id": "lyhvIjaaeSM2"
      },
      "execution_count": null,
      "outputs": []
    },
    {
      "cell_type": "code",
      "source": [
        "f1_score(y_true,y_predict, average='weighted')"
      ],
      "metadata": {
        "colab": {
          "base_uri": "https://localhost:8080/"
        },
        "id": "lT05aZt8de3f",
        "outputId": "efc2af05-4a9a-4dc8-d57d-699afc3c5bda"
      },
      "execution_count": null,
      "outputs": [
        {
          "output_type": "execute_result",
          "data": {
            "text/plain": [
              "0.9276888098062476"
            ]
          },
          "metadata": {},
          "execution_count": 60
        }
      ]
    },
    {
      "cell_type": "code",
      "source": [
        "from sklearn.metrics import precision_recall_fscore_support"
      ],
      "metadata": {
        "id": "napgZE_Agi_0"
      },
      "execution_count": null,
      "outputs": []
    },
    {
      "cell_type": "code",
      "source": [
        "precision_recall_fscore_support(y_true,y_predict, average='weighted')"
      ],
      "metadata": {
        "colab": {
          "base_uri": "https://localhost:8080/"
        },
        "id": "AOcr0U6fhBjG",
        "outputId": "d4782402-f039-4f7b-e5d3-ebc61ab17d53"
      },
      "execution_count": null,
      "outputs": [
        {
          "output_type": "stream",
          "name": "stderr",
          "text": [
            "/content/notebooks/sklearn/metrics/_classification.py:1334: UndefinedMetricWarning: Precision and F-score are ill-defined and being set to 0.0 in labels with no predicted samples. Use `zero_division` parameter to control this behavior.\n",
            "  _warn_prf(average, modifier, msg_start, len(result))\n"
          ]
        },
        {
          "output_type": "execute_result",
          "data": {
            "text/plain": [
              "(0.9051408179012346, 0.9513888888888888, 0.9276888098062476, None)"
            ]
          },
          "metadata": {},
          "execution_count": 61
        }
      ]
    },
    {
      "cell_type": "code",
      "source": [
        "##########################################Conclusion######################################################################################\n",
        "##Model 1 built using Fast text library provides a higher accuracy of 95% compared to Model 2 built using Ridge Classification algorithm.\n",
        "##Model 3 is an alternate approach to solve the problem.This model makes use of Bigram and Trigram concepts."
      ],
      "metadata": {
        "id": "DfRPv3sno5Z9"
      },
      "execution_count": null,
      "outputs": []
    },
    {
      "cell_type": "code",
      "execution_count": null,
      "metadata": {
        "id": "NI__vAnT-wLy"
      },
      "outputs": [],
      "source": [
        "#################################################################################### The End ##################################################################"
      ]
    }
  ],
  "metadata": {
    "colab": {
      "provenance": []
    },
    "kernelspec": {
      "display_name": "Python 3 (ipykernel)",
      "language": "python",
      "name": "python3"
    },
    "language_info": {
      "codemirror_mode": {
        "name": "ipython",
        "version": 3
      },
      "file_extension": ".py",
      "mimetype": "text/x-python",
      "name": "python",
      "nbconvert_exporter": "python",
      "pygments_lexer": "ipython3",
      "version": "3.10.0"
    }
  },
  "nbformat": 4,
  "nbformat_minor": 0
}